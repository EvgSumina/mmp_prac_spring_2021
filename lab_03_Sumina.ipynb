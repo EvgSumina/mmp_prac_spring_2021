{
  "nbformat": 4,
  "nbformat_minor": 0,
  "metadata": {
    "kernelspec": {
      "display_name": "Python 3",
      "language": "python",
      "name": "python3"
    },
    "language_info": {
      "codemirror_mode": {
        "name": "ipython",
        "version": 3
      },
      "file_extension": ".py",
      "mimetype": "text/x-python",
      "name": "python",
      "nbconvert_exporter": "python",
      "pygments_lexer": "ipython3",
      "version": "3.8.5"
    },
    "varInspector": {
      "cols": {
        "lenName": 16,
        "lenType": 16,
        "lenVar": 40
      },
      "kernels_config": {
        "python": {
          "delete_cmd_postfix": "",
          "delete_cmd_prefix": "del ",
          "library": "var_list.py",
          "varRefreshCmd": "print(var_dic_list())"
        },
        "r": {
          "delete_cmd_postfix": ") ",
          "delete_cmd_prefix": "rm(",
          "library": "var_list.r",
          "varRefreshCmd": "cat(var_dic_list()) "
        }
      },
      "position": {
        "height": "313px",
        "left": "926px",
        "right": "27px",
        "top": "120px",
        "width": "343px"
      },
      "types_to_exclude": [
        "module",
        "function",
        "builtin_function_or_method",
        "instance",
        "_Feature"
      ],
      "window_display": false
    },
    "colab": {
      "name": "lab_03(1).ipynb",
      "provenance": [],
      "collapsed_sections": [
        "RDlqYEpYvNpz"
      ]
    },
    "accelerator": "GPU"
  },
  "cells": [
    {
      "cell_type": "markdown",
      "metadata": {
        "id": "mB27v9MtvNoO"
      },
      "source": [
        "# Третье практическое задание. Реализация дропаута в рекуррентных нейронных сетях\n",
        "Практикум на ЭВМ для 317 группы, весна 2021\n",
        "\n",
        "#### Фамилия, имя: Сумина Евгения\n",
        "\n",
        "Дата выдачи: 3 апреля 00:01\n",
        "\n",
        "Мягкий дедлайн: 17 апреля 00:01"
      ]
    },
    {
      "cell_type": "markdown",
      "metadata": {
        "id": "VXgi6etUvNog"
      },
      "source": [
        "Данное задание будет состоять из двух частей:\n",
        "1. Применение рекуррентной сети для решения задачи классификации текста. Более конкретно -- предсказания рейтинга отзыва фильма.\n",
        "2. Простейшая лингвистическая модель для генерации текста на основе LSTM."
      ]
    },
    {
      "cell_type": "markdown",
      "metadata": {
        "id": "bhR0DF4zvNok"
      },
      "source": [
        "При выполнении задания вы обучите LSTM с разным уровнем \"коробочности\", а также познакомитесь с различными способами применения DropOut к рекуррентным архитектурам. В рекуррентных архитектурах вариантов, куда можно наложить бинарную маску шума, гораздо больше, чем в нейросетях прямого прохода.\n",
        "\n",
        "Во второй части вы попробуете реализовать простейший рекуррентный декодер для генерации текстов.\n",
        "\n",
        "Задание сделано так, чтобы его можно было выполнять на CPU, однако RNN - это ресурсоёмкая вещь, поэтому на GPU с ними работать приятнее. Можете попробовать использовать [https://colab.research.google.com](https://colab.research.google.com) - бесплатное облако с GPU."
      ]
    },
    {
      "cell_type": "markdown",
      "metadata": {
        "id": "cIuYjE4FvNol"
      },
      "source": [
        "**Для корректного отображения картинок, вам может понадобится сделать ноутбук доверенным (Trusted) в правом верхнем углу**"
      ]
    },
    {
      "cell_type": "markdown",
      "metadata": {
        "id": "Wr32bxlUvNon"
      },
      "source": [
        "# Часть 0. Загрузка и предобработка данных. (1 балл)"
      ]
    },
    {
      "cell_type": "markdown",
      "metadata": {
        "id": "2XaRRgQ3vNoo"
      },
      "source": [
        "## Рекомендуемые гиперпараметры"
      ]
    },
    {
      "cell_type": "code",
      "metadata": {
        "ExecuteTime": {
          "end_time": "2021-04-02T00:04:28.454122Z",
          "start_time": "2021-04-02T00:04:28.438278Z"
        },
        "id": "522L2-w0vNop"
      },
      "source": [
        "max_length = 200\n",
        "top_n_words = 5000\n",
        "\n",
        "hidden_dim = 128\n",
        "embedding_dim = 32\n",
        "\n",
        "num_epochs = 15\n",
        "batch_size = 64\n",
        "learning_rate = 1e-3"
      ],
      "execution_count": 275,
      "outputs": []
    },
    {
      "cell_type": "code",
      "metadata": {
        "id": "6KBmQeMd0x4g",
        "colab": {
          "base_uri": "https://localhost:8080/"
        },
        "outputId": "063ee0f6-2375-4830-da8d-21757faed5b0"
      },
      "source": [
        "pip install wget"
      ],
      "execution_count": null,
      "outputs": [
        {
          "output_type": "stream",
          "text": [
            "Requirement already satisfied: wget in /usr/local/lib/python3.7/dist-packages (3.2)\n"
          ],
          "name": "stdout"
        }
      ]
    },
    {
      "cell_type": "code",
      "metadata": {
        "id": "456O_upqvapP"
      },
      "source": [
        "import wget"
      ],
      "execution_count": null,
      "outputs": []
    },
    {
      "cell_type": "markdown",
      "metadata": {
        "id": "j4JqruI3vNoq"
      },
      "source": [
        "Первое, что нужно сделать -- скачать, предобработать данные и организовать их таким образом, чтобы их можно было подавать в нейронную сеть.\n",
        "\n",
        "Для обеих частей задания мы будем использовать [**Large Movie Review Dataset**](https://ai.stanford.edu/~amaas/data/sentiment/)."
      ]
    },
    {
      "cell_type": "markdown",
      "metadata": {
        "id": "qb4YFt5SvNor"
      },
      "source": [
        "## Загрузка и предобработка данных"
      ]
    },
    {
      "cell_type": "markdown",
      "metadata": {
        "id": "lJNJJ-ALvNos"
      },
      "source": [
        "Загрузите данные по ссылке выше. (**tip**: используйте `wget`)"
      ]
    },
    {
      "cell_type": "code",
      "metadata": {
        "ExecuteTime": {
          "end_time": "2021-03-30T18:34:47.261797Z",
          "start_time": "2021-03-30T18:34:33.768597Z"
        },
        "id": "d6uaZ8UevNot"
      },
      "source": [
        "url = \"https://ai.stanford.edu/~amaas/data/sentiment/aclImdb_v1.tar.gz\""
      ],
      "execution_count": null,
      "outputs": []
    },
    {
      "cell_type": "code",
      "metadata": {
        "id": "YEnG_m_LzVLP"
      },
      "source": [
        "data_file = wget.download(url)"
      ],
      "execution_count": null,
      "outputs": []
    },
    {
      "cell_type": "markdown",
      "metadata": {
        "id": "STUlaMVJvNow"
      },
      "source": [
        "Распакуйте скачанные данные в папку `aclImdb` (**tip:** используйте `tar`)"
      ]
    },
    {
      "cell_type": "code",
      "metadata": {
        "ExecuteTime": {
          "end_time": "2021-03-30T17:48:59.763990Z",
          "start_time": "2021-03-30T17:48:56.998383Z"
        },
        "id": "Y5V9nbqwvNoy"
      },
      "source": [
        "import tarfile"
      ],
      "execution_count": null,
      "outputs": []
    },
    {
      "cell_type": "code",
      "metadata": {
        "id": "TIjvNYlBzaVN"
      },
      "source": [
        "tar = tarfile.open(data_file)\n",
        "tar.extractall(path='.')\n",
        "tar.close()"
      ],
      "execution_count": null,
      "outputs": []
    },
    {
      "cell_type": "markdown",
      "metadata": {
        "id": "jCVoIr-jvNoz"
      },
      "source": [
        "Посмотрите в файле `./aclImdb/README` как организованы данные"
      ]
    },
    {
      "cell_type": "code",
      "metadata": {
        "ExecuteTime": {
          "end_time": "2021-04-01T23:55:43.946032Z",
          "start_time": "2021-04-01T23:55:43.814779Z"
        },
        "id": "NF-9gbLJvNo1",
        "colab": {
          "base_uri": "https://localhost:8080/"
        },
        "outputId": "00531aec-0158-477a-e86f-5fa362943918"
      },
      "source": [
        "! cat ./aclImdb/train/pos/10003_8.txt"
      ],
      "execution_count": null,
      "outputs": [
        {
          "output_type": "stream",
          "text": [
            "This is not the typical Mel Brooks film. It was much less slapstick than most of his movies and actually had a plot that was followable. Leslie Ann Warren made the movie, she is such a fantastic, under-rated actress. There were some moments that could have been fleshed out a bit more, and some scenes that could probably have been cut to make the room to do so, but all in all, this is worth the price to rent and see it. The acting was good overall, Brooks himself did a good job without his characteristic speaking to directly to the audience. Again, Warren was the best actor in the movie, but \"Fume\" and \"Sailor\" both played their parts well."
          ],
          "name": "stdout"
        }
      ]
    },
    {
      "cell_type": "code",
      "metadata": {
        "ExecuteTime": {
          "end_time": "2021-04-02T00:04:33.729663Z",
          "start_time": "2021-04-02T00:04:33.710871Z"
        },
        "id": "pUoUFRaSvNo3"
      },
      "source": [
        "test_data_path = './aclImdb/test/'\n",
        "train_data_path = './aclImdb/train/'"
      ],
      "execution_count": null,
      "outputs": []
    },
    {
      "cell_type": "code",
      "metadata": {
        "ExecuteTime": {
          "end_time": "2021-04-02T00:04:33.709378Z",
          "start_time": "2021-04-02T00:04:32.220580Z"
        },
        "id": "NMrQtysOvNo4",
        "colab": {
          "base_uri": "https://localhost:8080/"
        },
        "outputId": "dde64b7d-295c-4fe7-ec29-2457b580cd71"
      },
      "source": [
        "import os\n",
        "from functools import partial\n",
        "from collections import defaultdict\n",
        "\n",
        "import nltk\n",
        "nltk.download('stopwords')\n",
        "\n",
        "import regex\n",
        "import numpy as np\n",
        "\n",
        "import torch\n",
        "import torchtext\n",
        "from torch.utils.data import Dataset, DataLoader\n",
        "\n",
        "import re\n",
        "import time"
      ],
      "execution_count": null,
      "outputs": [
        {
          "output_type": "stream",
          "text": [
            "[nltk_data] Downloading package stopwords to /root/nltk_data...\n",
            "[nltk_data]   Package stopwords is already up-to-date!\n"
          ],
          "name": "stdout"
        }
      ]
    },
    {
      "cell_type": "markdown",
      "metadata": {
        "id": "pI-wLC2YvNo5"
      },
      "source": [
        "Стандартной предобработкой данных является токенизация текстов. Полученные токены можно будет закодировать и затем подавать на вход нейронной сети. Ключевым моментом, который влияет на скорость работы нейросети и её размер в памяти -- размер словаря, используемого при токенизации. Для задачи классификации мы можем убрать часть слов (стоп слова, редкие слова), ускорив обучение без потери в качестве."
      ]
    },
    {
      "cell_type": "code",
      "metadata": {
        "ExecuteTime": {
          "end_time": "2021-04-02T00:04:35.270825Z",
          "start_time": "2021-04-02T00:04:35.250283Z"
        },
        "id": "E0fTYskrvNo5"
      },
      "source": [
        "STOPWORDS = nltk.corpus.stopwords.words('english')"
      ],
      "execution_count": null,
      "outputs": []
    },
    {
      "cell_type": "markdown",
      "metadata": {
        "id": "1uadwpSLvNo6"
      },
      "source": [
        "Реализуйте функцию для токенизации текста. Выполнять токенизацию можно по-разному, но в данном задании предлагается это делать следующим образом:\n",
        "1. Привести текст к нижнему регистру\n",
        "2. Убрать html разметку из текстов (`<br />`)\n",
        "3. Убрать все символы кроме латинских букв\n",
        "4. Разбить строку по пробелам\n",
        "5. Убрать стоп слова"
      ]
    },
    {
      "cell_type": "code",
      "metadata": {
        "ExecuteTime": {
          "end_time": "2021-04-02T00:04:36.003194Z",
          "start_time": "2021-04-02T00:04:35.980408Z"
        },
        "id": "wPGSFkeIvNo7"
      },
      "source": [
        "def tokenize(text):\n",
        "    \"\"\"\n",
        "    :param str text: Input text \n",
        "    :return List[str]: List of words\n",
        "    \"\"\"\n",
        "    text = text.lower()\n",
        "    text = re.sub('<br />', '', text)\n",
        "    text = re.sub(r'[^A-Za-z ]', '', text).split(' ')\n",
        "    text = [w for w in text if w not in set(STOPWORDS) and w != '']\n",
        "    return text"
      ],
      "execution_count": null,
      "outputs": []
    },
    {
      "cell_type": "code",
      "metadata": {
        "ExecuteTime": {
          "end_time": "2021-04-01T21:27:12.428149Z",
          "start_time": "2021-04-01T21:27:12.402448Z"
        },
        "id": "x8BO_dEsvNo8",
        "colab": {
          "base_uri": "https://localhost:8080/"
        },
        "outputId": "40d8039e-d40d-459c-8d53-3771efab5b64"
      },
      "source": [
        "tokenize('1. Hello <br /> words!! <br />')"
      ],
      "execution_count": null,
      "outputs": [
        {
          "output_type": "execute_result",
          "data": {
            "text/plain": [
              "['hello', 'words']"
            ]
          },
          "metadata": {
            "tags": []
          },
          "execution_count": 217
        }
      ]
    },
    {
      "cell_type": "markdown",
      "metadata": {
        "id": "9uHNDSULvNo9"
      },
      "source": [
        "Теперь мы можем создать словарь, с помощью которого мы будем численно кодировать токены из текста и наоборот.\n",
        "\n",
        "Удобной обёрткой для создания словарей является класс `torchtext.vocab.Vocab`."
      ]
    },
    {
      "cell_type": "code",
      "metadata": {
        "ExecuteTime": {
          "end_time": "2021-04-01T21:27:21.466887Z",
          "start_time": "2021-04-01T21:27:21.352085Z"
        },
        "scrolled": false,
        "id": "Cn_Tq0NZvNo-"
      },
      "source": [
        "torchtext.vocab.Vocab??"
      ],
      "execution_count": null,
      "outputs": []
    },
    {
      "cell_type": "markdown",
      "metadata": {
        "ExecuteTime": {
          "end_time": "2021-04-01T19:51:55.300753Z",
          "start_time": "2021-04-01T19:51:55.275188Z"
        },
        "id": "jMiXAfDbvNo-"
      },
      "source": [
        "Чтобы создать такой словарь, сначала нужно создать словарь со всеми токенами в тексте и их частотами встречаемости:"
      ]
    },
    {
      "cell_type": "code",
      "metadata": {
        "ExecuteTime": {
          "end_time": "2021-04-02T00:05:13.547038Z",
          "start_time": "2021-04-02T00:04:38.190688Z"
        },
        "id": "niWjzvmcvNo-"
      },
      "source": [
        "counter = defaultdict(int)\n",
        "\n",
        "for path in ['./aclImdb/test/neg', './aclImdb/test/pos', './aclImdb/train/neg', './aclImdb/train/pos']:\n",
        "    for file_path in os.listdir(path):\n",
        "        text = open(os.path.join(path, file_path), 'r', encoding='utf-8', errors='ignore').read().strip()\n",
        "        for token in tokenize(text):\n",
        "            counter[token] += 1"
      ],
      "execution_count": null,
      "outputs": []
    },
    {
      "cell_type": "markdown",
      "metadata": {
        "id": "wstlIyxmvNo_"
      },
      "source": [
        "Для работы с текстами нам необходимо зарезервировать два специальных токена:\n",
        "1. `<pad>` для токена означающего паддинг\n",
        "2. `<unk>` для токенов, которые отсутствуют в словаре"
      ]
    },
    {
      "cell_type": "code",
      "metadata": {
        "ExecuteTime": {
          "end_time": "2021-04-01T21:28:18.239274Z",
          "start_time": "2021-04-01T21:28:18.214979Z"
        },
        "id": "OQFzqOVfvNpA"
      },
      "source": [
        "specials = ['<pad>', '<unk>']\n",
        "for special in specials:\n",
        "    counter[special] = 0"
      ],
      "execution_count": null,
      "outputs": []
    },
    {
      "cell_type": "markdown",
      "metadata": {
        "id": "KhgIqB51vNpB"
      },
      "source": [
        "Создайте словарь из словаря частот `counter`. Наименьшие id отдайте под специальные токены. Отбросьте низкочастотные слова, оставив только `top_n_words` слов"
      ]
    },
    {
      "cell_type": "code",
      "metadata": {
        "id": "VunrNJiZvNpB"
      },
      "source": [
        "vocab = torchtext.vocab.Vocab(counter, top_n_words, specials=specials)"
      ],
      "execution_count": null,
      "outputs": []
    },
    {
      "cell_type": "code",
      "metadata": {
        "ExecuteTime": {
          "end_time": "2021-04-01T21:28:24.332126Z",
          "start_time": "2021-04-01T21:28:24.306890Z"
        },
        "id": "XcM87wxqvNpC",
        "colab": {
          "base_uri": "https://localhost:8080/"
        },
        "outputId": "ed13b0f7-a7a9-4efe-e15f-d896864d32c5"
      },
      "source": [
        "vocab.lookup_indices(['<pad>', '<unk>'])"
      ],
      "execution_count": null,
      "outputs": [
        {
          "output_type": "execute_result",
          "data": {
            "text/plain": [
              "[0, 1]"
            ]
          },
          "metadata": {
            "tags": []
          },
          "execution_count": 222
        }
      ]
    },
    {
      "cell_type": "code",
      "metadata": {
        "ExecuteTime": {
          "end_time": "2021-04-01T21:28:26.254910Z",
          "start_time": "2021-04-01T21:28:26.231012Z"
        },
        "id": "1gX67HplvNpF",
        "colab": {
          "base_uri": "https://localhost:8080/"
        },
        "outputId": "9c64d578-0f29-4f0d-d9e7-b271e1c386f5"
      },
      "source": [
        "vocab.lookup_indices(['this', 'film', 'was', 'awful'])"
      ],
      "execution_count": null,
      "outputs": [
        {
          "output_type": "execute_result",
          "data": {
            "text/plain": [
              "[1, 3, 1, 272]"
            ]
          },
          "metadata": {
            "tags": []
          },
          "execution_count": 223
        }
      ]
    },
    {
      "cell_type": "markdown",
      "metadata": {
        "id": "vyMxO5z4vNpG"
      },
      "source": [
        "Теперь мы готовы создать обёртку-датасет для наших данных. \n",
        "\n",
        "Необходимо добавить несколько опции, которые понадобятся во второй части задания:\n",
        "1. Ограничение на максимальную длину текста в токенах. Если текст оказывается длиннее, то последние токены отбрасываются\n",
        "2. Возможность добавить в специальные токены `<sos>`, `<eos>` в начало и конец токенизированного текста\n",
        "    \n",
        "**tips:**\n",
        "1. Обратите особое внимание, что у длинных текстов не должен обрезаться паддинг\n",
        "2. В исходных данных рейтинг закодирован в названии файла в виде числа от 1 до 10. Для удобства, вычтите 1, чтобы рейтинг был от 0 до 9"
      ]
    },
    {
      "cell_type": "code",
      "metadata": {
        "ExecuteTime": {
          "end_time": "2021-04-02T00:05:13.573249Z",
          "start_time": "2021-04-02T00:05:13.548593Z"
        },
        "id": "qvGTg5jgvNpH"
      },
      "source": [
        "class LargeMovieReviewDataset(Dataset):\n",
        "    def __init__(self, data_path, vocab, max_len, pad_sos=False, pad_eos=False):\n",
        "        \"\"\"\n",
        "        :param str data_path: Path to folder with one of the data splits (train or test)\n",
        "        :param torchtext.vocab.Vocab vocab: dictionary with lookup_indices method\n",
        "        :param int max_len: Maximum length of tokenized text\n",
        "        :param bool pad_sos: If True pad sequence at the beginning with <sos> \n",
        "        :param bool pad_eos: If True pad sequence at the end with <eos>         \n",
        "        \"\"\"\n",
        "        super().__init__()\n",
        "\n",
        "        self.pad_sos = pad_sos\n",
        "        if self.pad_sos:\n",
        "            self.sos_id = vocab.lookup_indices(['<sos>'])[0]\n",
        "        self.pad_eos = pad_eos\n",
        "        if self.pad_eos:\n",
        "            self.eos_id = vocab.lookup_indices(['<eos>'])[0]\n",
        "\n",
        "        self.vocab = vocab\n",
        "        self.max_len = max_len\n",
        "        self.data_path = data_path\n",
        "        self.negative_path = os.path.join(data_path, 'neg')\n",
        "        self.positive_path = os.path.join(data_path, 'pos')\n",
        "\n",
        "        self.negative_paths = []\n",
        "        self.positive_paths = []\n",
        "\n",
        "        for file_path in os.listdir(self.negative_path):\n",
        "            self.negative_paths.append(os.path.join(self.negative_path, file_path))\n",
        "\n",
        "        for file_path in os.listdir(self.positive_path):\n",
        "            self.positive_paths.append(os.path.join(self.positive_path, file_path))\n",
        "\n",
        "        self.texts = []\n",
        "        self.tokens = []\n",
        "        self.ratings = []\n",
        "        self.labels = torch.tensor([0] * len(self.negative_paths) + [1] * len(self.positive_paths),\n",
        "                                   dtype=torch.long)\n",
        "        self.tokens_len = []\n",
        "\n",
        "        # Read each file in data_path, tokenize it, get tokens ids, its rating and store\n",
        "        for path in self.negative_paths + self.positive_paths:\n",
        "            text = open(path, 'r', encoding='utf-8', errors='ignore').read()\n",
        "            self.texts.append(text)\n",
        "            rating = re.sub('.*_', '', path)\n",
        "            rating = re.sub('\\.txt', '', rating)\n",
        "            self.ratings.append(torch.tensor(int(rating) - 1, dtype=torch.long))\n",
        "            tokens = text.strip()\n",
        "            leng = 0\n",
        "            my_tokens = []\n",
        "            if self.pad_sos:\n",
        "                my_tokens.append(self.sos_id)\n",
        "            for token in tokenize(tokens)[:self.max_len]:\n",
        "                leng += 1\n",
        "                my_tokens.append(vocab.lookup_indices([token])[0])\n",
        "            if self.pad_eos:\n",
        "                my_tokens.append(self.eos_id)\n",
        "            leng = min(leng, self.max_len)\n",
        "            leng += self.pad_sos\n",
        "            leng += self.pad_eos\n",
        "            self.tokens.append(torch.tensor(my_tokens, dtype=torch.long))\n",
        "            self.tokens_len.append(torch.tensor(leng, dtype=torch.long))\n",
        "                \n",
        "\n",
        "    def __getitem__(self, idx):\n",
        "        \"\"\"\n",
        "        :param int idx: index of object in dataset\n",
        "        :return dict: Dictionary with all useful object data \n",
        "            {\n",
        "                'text' str: unprocessed text,\n",
        "                'label' torch.tensor(dtype=torch.long): sentiment of the text (0 for negative, 1 for positive)\n",
        "                'rating' torch.tensor(dtype=torch.long): rating of the text\n",
        "                'tokens' torch.tensor(dtype=torch.long): tensor of tokens ids for the text\n",
        "                'tokens_len' torch.tensor(dtype=torch.long): number of tokens\n",
        "            }\n",
        "        \"\"\"\n",
        "        return {'text': self.texts[idx], 'label': self.labels[idx], 'rating': self.ratings[idx], \n",
        "               'tokens': self.tokens[idx], 'tokens_len': self.tokens_len[idx]}\n",
        "\n",
        "    def __len__(self):\n",
        "        \"\"\"\n",
        "        :return int: number of objects in dataset \n",
        "        \"\"\"\n",
        "        return len(self.texts)"
      ],
      "execution_count": null,
      "outputs": []
    },
    {
      "cell_type": "markdown",
      "metadata": {
        "id": "eao8YIr5vNpI"
      },
      "source": [
        "Создайте датасеты для тестовой и обучающей выборки. \n",
        "\n",
        "Обратите внимание, что для задачи классификации нам не потребуется паддинг с помощью `<sos>`, `<eos>`. \n",
        "\n",
        "Не забудьте обрезать длинные тексты, передав параметр `max_length`."
      ]
    },
    {
      "cell_type": "code",
      "metadata": {
        "ExecuteTime": {
          "end_time": "2021-04-01T21:31:32.123618Z",
          "start_time": "2021-04-01T21:30:54.950259Z"
        },
        "id": "rBiIS7aGvNpI"
      },
      "source": [
        "test_dataset = LargeMovieReviewDataset('./aclImdb/test/', vocab, max_length)\n",
        "train_dataset = LargeMovieReviewDataset('./aclImdb/train/', vocab, max_length)"
      ],
      "execution_count": null,
      "outputs": []
    },
    {
      "cell_type": "markdown",
      "metadata": {
        "id": "gZ1xm4DGvNpI"
      },
      "source": [
        "Посмотрим, как выглядит объект в датасете:"
      ]
    },
    {
      "cell_type": "code",
      "metadata": {
        "ExecuteTime": {
          "end_time": "2021-04-01T21:31:36.017106Z",
          "start_time": "2021-04-01T21:31:35.988797Z"
        },
        "id": "1qAUWwGhvNpJ",
        "colab": {
          "base_uri": "https://localhost:8080/"
        },
        "outputId": "b7371961-34fb-4a7b-e327-e6755804783b"
      },
      "source": [
        "test_dataset[0]"
      ],
      "execution_count": null,
      "outputs": [
        {
          "output_type": "execute_result",
          "data": {
            "text/plain": [
              "{'label': tensor(0),\n",
              " 'rating': tensor(1),\n",
              " 'text': 'So what is one to do if you are a porno star with fading looks? I know, become a pop star! This documentary - and I use the term loosely - follows the trials and tribulations of Colton as he tries to transform himself from a gay porn star into a singer of electronic (read: dance) music. I only wish Mr Ford\\'s voice was as muscular as his arms...sorry to say his vocals are painfully thin. There isn\\'t much interesting going on here but Mr Ford and friends are eye candy.<br /><br />See him record a song that sounds exactly like every other mindless dance tune. See him travel to New York to make \"connections.\" See him go back to L.A. with little success. See yourself look in the mirror and ask, \" Why am I wasting time watching this mess?\"',\n",
              " 'tokens': tensor([   4, 3726,  231,    1,  173,   41,  301, 1527,  231,  537,  235, 2590,\n",
              "         3317,  946,    1,    1,    1,  375,    1,  772, 1414,  231, 1755,    1,\n",
              "          221,  742,  109,  491,  337,    1,  476,    1,    1,   46,    1, 2128,\n",
              "         1581,  104,   13,  120,   71,  337, 1710,  225,  735,    1, 1700,  479,\n",
              "          795,  478,    5,   75, 2761,  742, 2879,   11, 1888,   74,  725,   25,\n",
              "            1,   11,   53,   54,  868,   39,  877,   11,   70, 2904,  829, 2886,\n",
              "            9,   57,  847]),\n",
              " 'tokens_len': tensor(75)}"
            ]
          },
          "metadata": {
            "tags": []
          },
          "execution_count": 226
        }
      ]
    },
    {
      "cell_type": "markdown",
      "metadata": {
        "id": "xrN7RHZJvNpK"
      },
      "source": [
        "Теперь нам нужно создать `DataLoader` для наших данных. `DataLoader` умеет из коробки объединять список объектов из датасета в один батч, даже когда датасет возвращает словарь тензоров. Однако, это работает только в случае когда все эти тензоры имеют один и тот же размер во всех батчах. В нашем случае, это не так, так как разные тексты могут иметь разную длину.\n",
        "\n",
        "Чтобы обойти эту проблему у `DataLoader` есть параметр `collate_fn`, который позволяет задать функцию для объединения списка объектов в один батч."
      ]
    },
    {
      "cell_type": "markdown",
      "metadata": {
        "id": "vQqm40B3vNpK"
      },
      "source": [
        "Чтобы объединить несколько тензоров разной длины в один можно использовать функцию `torch.nn.utils.rnn.pad_sequence`\n",
        "\n",
        "Обратите внимание на её аргументы:\n",
        "1. `batch_first` определяет по какой оси \"складывать\" тензоры. Предпочтительнее использовать `batch_first=False` так как это может упростить выполнение задания в дальнейшем \n",
        "2. `padding_value` -- число, которое будет использоваться в качестве паддинга, чтобы сделать все тензоры одинаковой длины"
      ]
    },
    {
      "cell_type": "code",
      "metadata": {
        "ExecuteTime": {
          "end_time": "2021-04-01T21:33:06.372403Z",
          "start_time": "2021-04-01T21:33:06.344559Z"
        },
        "id": "jEHXA4BnvNpL",
        "colab": {
          "base_uri": "https://localhost:8080/"
        },
        "outputId": "1300290a-4349-4937-8730-3fd70d2475dc"
      },
      "source": [
        "torch.nn.utils.rnn.pad_sequence([\n",
        "    torch.tensor([1, 2, 3]),\n",
        "    torch.tensor([4, 5]),\n",
        "    torch.tensor([6, 7, 8, 9])\n",
        "], batch_first=False, padding_value=-1)"
      ],
      "execution_count": null,
      "outputs": [
        {
          "output_type": "execute_result",
          "data": {
            "text/plain": [
              "tensor([[ 1,  4,  6],\n",
              "        [ 2,  5,  7],\n",
              "        [ 3, -1,  8],\n",
              "        [-1, -1,  9]])"
            ]
          },
          "metadata": {
            "tags": []
          },
          "execution_count": 227
        }
      ]
    },
    {
      "cell_type": "code",
      "metadata": {
        "ExecuteTime": {
          "end_time": "2021-04-02T00:05:13.709466Z",
          "start_time": "2021-04-02T00:05:13.575053Z"
        },
        "id": "CYYXm_JwvNpL"
      },
      "source": [
        "def collate_fn(batch, padding_value, batch_first=False):\n",
        "    \"\"\"\n",
        "    :param List[Dict] batch: List of objects from dataset\n",
        "    :param int padding_value: Value that will be used to pad tokens\n",
        "    :param bool batch_first: If True resulting tensor with tokens must have shape [B, T] otherwise [T, B]\n",
        "    :return dict: Dictionary with all data collated\n",
        "        {\n",
        "            'ratings' torch.tensor(dtype=torch.long): rating of the text for each object in batch\n",
        "            'labels' torch.tensor(dtype=torch.long): sentiment of the text for each object in batch\n",
        "            \n",
        "            'texts' List[str]: All texts in one list\n",
        "            'tokens' torch.tensor(dtype=torch.long): tensor of tokens ids padded with @padding_value\n",
        "            'tokens_lens' torch.tensor(dtype=torch.long): number of tokens for each object in batch\n",
        "        }\n",
        "    \"\"\"\n",
        "    ratings = [batch[0]['rating'].item()]\n",
        "    labels = [batch[0]['label'].item()]\n",
        "    texts = [batch[0]['text']]\n",
        "    tokens = [batch[0]['tokens']]\n",
        "    tokens_lens = [batch[0]['tokens_len'].item()]\n",
        "    for elem in batch[1:]:\n",
        "        ratings.append(elem['rating'].item())\n",
        "        labels.append(elem['label'].item())\n",
        "        tokens.append(elem['tokens'])\n",
        "        tokens_lens.append(elem['tokens_len'].item())\n",
        "        texts.append(elem['text'])\n",
        "    tokens = torch.nn.utils.rnn.pad_sequence(tokens,\n",
        "                                             padding_value=padding_value, \n",
        "                                             batch_first=batch_first)\n",
        "    return {'ratings': torch.tensor(ratings, dtype=torch.long),\n",
        "            'labels': torch.tensor(labels, dtype=torch.long),\n",
        "            'tokens': tokens, 'tokens_lens': torch.tensor(tokens_lens, dtype=torch.long),\n",
        "            'texts': texts}"
      ],
      "execution_count": null,
      "outputs": []
    },
    {
      "cell_type": "markdown",
      "metadata": {
        "id": "36-7KoGzvNpL"
      },
      "source": [
        "Создайте даталоадеры с использованием `collate_fn`.\n",
        "\n",
        "**tips**:\n",
        "1. Передать в `collate_fn` правильное значение паддинга можно, например, с помощью `functools.partial`\n",
        "2. Если вы работаете в Google Colab, то, возможно, вам будет необходимо установить `num_workers=0` во избежание падения ноутбука."
      ]
    },
    {
      "cell_type": "code",
      "metadata": {
        "ExecuteTime": {
          "end_time": "2021-04-01T21:33:37.872760Z",
          "start_time": "2021-04-01T21:33:37.847071Z"
        },
        "id": "KZHdi-nlvNpM"
      },
      "source": [
        "from functools import partial\n",
        "\n",
        "new_col = partial(collate_fn, padding_value=0, batch_first=False)\n",
        "\n",
        "test_dataloader = DataLoader(test_dataset, batch_size=batch_size,\n",
        "                             collate_fn=new_col, shuffle=True, num_workers=0)\n",
        "train_dataloader = DataLoader(train_dataset, batch_size=batch_size,\n",
        "                              collate_fn=new_col, shuffle=True, num_workers=0)"
      ],
      "execution_count": null,
      "outputs": []
    },
    {
      "cell_type": "markdown",
      "metadata": {
        "id": "2L3ZVV3jvNpM"
      },
      "source": [
        "Посмотрим на какой-нибудь батч:"
      ]
    },
    {
      "cell_type": "code",
      "metadata": {
        "id": "TgmQwmmnvNpN",
        "colab": {
          "base_uri": "https://localhost:8080/"
        },
        "outputId": "e6f03122-5c0f-4527-8153-e485dc600f21"
      },
      "source": [
        "batch = next(iter(test_dataloader))\n",
        "batch.keys(), batch['labels'], batch['ratings'], batch['tokens'], batch['tokens_lens']"
      ],
      "execution_count": null,
      "outputs": [
        {
          "output_type": "execute_result",
          "data": {
            "text/plain": [
              "(dict_keys(['ratings', 'labels', 'tokens', 'tokens_lens', 'texts']),\n",
              " tensor([1, 1, 0, 0, 1, 0, 1, 0, 1, 1, 0, 1, 1, 0, 1, 0, 1, 0, 1, 1, 1, 1, 0, 1,\n",
              "         1, 0, 0, 1, 0, 1, 0, 0, 1, 1, 0, 1, 0, 0, 1, 1, 0, 0, 0, 0, 0, 0, 1, 0,\n",
              "         1, 0, 1, 1, 0, 0, 0, 1, 0, 0, 0, 1, 1, 0, 0, 1]),\n",
              " tensor([6, 9, 0, 3, 6, 1, 9, 3, 9, 6, 0, 8, 6, 0, 7, 2, 9, 3, 9, 9, 9, 8, 0, 9,\n",
              "         8, 2, 0, 7, 0, 6, 0, 3, 9, 9, 0, 9, 1, 0, 7, 8, 2, 0, 0, 3, 2, 0, 9, 0,\n",
              "         8, 0, 9, 6, 0, 0, 3, 6, 3, 1, 0, 7, 9, 3, 0, 9]),\n",
              " tensor([[ 416,    5,    1,  ...,  877,    2,    4],\n",
              "         [  80,  497,   62,  ..., 1861,   79,    1],\n",
              "         [ 206,    2,  481,  ...,    1,  986,    1],\n",
              "         ...,\n",
              "         [   0,    0,    1,  ..., 1830,    0,    0],\n",
              "         [   0,    0,  450,  ..., 2062,    0,    0],\n",
              "         [   0,    0,    1,  ..., 2998,    0,    0]]),\n",
              " tensor([136,  60, 200, 140,  62,  97,  48, 200,  71, 115,  89, 140,  28,  17,\n",
              "          81, 200,  60, 128,  32,  94,  70, 195,  86, 113, 113, 200,  89,  63,\n",
              "          68,  29,  68, 109, 154,  94, 183, 173,  70,  54, 200,  76, 200,  76,\n",
              "          92,  94,  35,  98, 200, 102,  56, 200,  37,  57,  55,  39, 143,  47,\n",
              "          75,  64, 111, 103, 200, 200, 116,  19]))"
            ]
          },
          "metadata": {
            "tags": []
          },
          "execution_count": 230
        }
      ]
    },
    {
      "cell_type": "markdown",
      "metadata": {
        "id": "IGtfUuWcvNpO"
      },
      "source": [
        "# Часть 1. Классификация текстов. (6 баллов)"
      ]
    },
    {
      "cell_type": "markdown",
      "metadata": {
        "id": "Ket8S369vNpP"
      },
      "source": [
        "## Сборка и обучение RNN в pytorch (2 балла)"
      ]
    },
    {
      "cell_type": "markdown",
      "metadata": {
        "id": "Kru2kpE8vNpP"
      },
      "source": [
        "Создадим переменные для device-agnostic кода:"
      ]
    },
    {
      "cell_type": "code",
      "metadata": {
        "ExecuteTime": {
          "end_time": "2021-04-02T00:05:13.809416Z",
          "start_time": "2021-04-02T00:05:13.711383Z"
        },
        "id": "T-nI3_I5vNpP",
        "colab": {
          "base_uri": "https://localhost:8080/"
        },
        "outputId": "1ec537cb-b131-4de2-e890-622a47db85de"
      },
      "source": [
        "dtype, device, cuda_device_id = torch.float32, None, 0\n",
        "os.environ[\"CUDA_VISIBLE_DEVICES\"] = '{0}'.format(str(cuda_device_id) if cuda_device_id is not None else '')\n",
        "if cuda_device_id is not None and torch.cuda.is_available():\n",
        "    device = 'cuda:{0:d}'.format(0)\n",
        "else:\n",
        "    device = torch.device('cpu')\n",
        "print(f'Using device: {device}, dtype: {dtype}')"
      ],
      "execution_count": null,
      "outputs": [
        {
          "output_type": "stream",
          "text": [
            "Using device: cuda:0, dtype: torch.float32\n"
          ],
          "name": "stdout"
        }
      ]
    },
    {
      "cell_type": "markdown",
      "metadata": {
        "id": "mJxKFaHDvNpQ"
      },
      "source": [
        "Наша нейросеть будет обрабатывать входную последовательность по словам (word level). Мы будем использовать простую и стандартную рекуррентную архитектуру для классификации:\n",
        "1. Слой представлений, превращающий id токена в вектор-ембеддинг этого слова\n",
        "2. Слой LSTM\n",
        "3. Полносвязный слой, предсказывающий выход по последнему скрытому состоянию\n",
        "\n",
        "Ниже дан код для сборки и обучения нашей нейросети."
      ]
    },
    {
      "cell_type": "markdown",
      "metadata": {
        "id": "1Ym4PWnuvNpR"
      },
      "source": [
        "Допишите класс-обёртку над LSTM для задачи классификации. \n",
        "**Не используйте циклы.**"
      ]
    },
    {
      "cell_type": "markdown",
      "metadata": {
        "ExecuteTime": {
          "end_time": "2021-04-01T20:59:16.467178Z",
          "start_time": "2021-04-01T20:59:16.441112Z"
        },
        "id": "52-Tj0IRvNpR"
      },
      "source": [
        "**Для каждого тензора в функции `forward` подпишите в комментарии его размеры**"
      ]
    },
    {
      "cell_type": "code",
      "metadata": {
        "ExecuteTime": {
          "end_time": "2021-04-02T00:05:13.873713Z",
          "start_time": "2021-04-02T00:05:13.810690Z"
        },
        "id": "DJmjlXdyvNpT"
      },
      "source": [
        "class RNNClassifier(torch.nn.Module):\n",
        "    def __init__(\n",
        "        self, embedding_dim, hidden_dim, output_size, vocab,\n",
        "        rec_layer=torch.nn.LSTM, dropout=None, **kwargs\n",
        "    ):\n",
        "        super().__init__()\n",
        "\n",
        "        self.dropout = dropout\n",
        "\n",
        "        self.vocab = vocab\n",
        "        self.hidden_dim = hidden_dim\n",
        "        self.output_size = output_size\n",
        "        self.embedding_dim = embedding_dim\n",
        "\n",
        "        # Create a simple lookup table that stores embeddings of a fixed dictionary and size.\n",
        "        # Use torch.nn.Embedding. Do not forget specify padding_idx!\n",
        "        self.word_embeddings = torch.nn.Embedding(len(self.vocab), self.embedding_dim, padding_idx=0)\n",
        "\n",
        "        if dropout is not None:\n",
        "            self.rnn = rec_layer(self.embedding_dim, self.hidden_dim, dropout=self.dropout, **kwargs)\n",
        "        else:\n",
        "            self.rnn = rec_layer(self.embedding_dim, self.hidden_dim, **kwargs)\n",
        "\n",
        "        # Create linear layer for classification\n",
        "        self.output = torch.nn.Linear(self.hidden_dim, self.output_size, bias=False)\n",
        "\n",
        "    def forward(self, tokens, tokens_lens):\n",
        "        \"\"\"\n",
        "        :param torch.tensor(dtype=torch.long) tokens: \n",
        "                        Batch of texts represented with tokens.                   # torch.Size([200, 64])\n",
        "        :param torch.tensor(dtype=torch.long) tokens_lens: \n",
        "                        Number of non-padding tokens for each object in batch.    # torch.Size([64])\n",
        "        :return torch.tensor(dtype=torch.long): \n",
        "                        Vector representation for each sequence in batch\n",
        "        \"\"\"\n",
        "        # Evaluate embeddings\n",
        "        embeddings = self.word_embeddings(tokens)                                 # torch.Size([200, 64, 32])\n",
        "        \n",
        "        # Make forward pass through recurrent network\n",
        "        rnn_output, hidden = self.rnn(embeddings)                                 # torch.Size([200, 64, 128])\n",
        "        \n",
        "        # Pass output from rnn to linear layer \n",
        "        # Note: each object in batch has its own length \n",
        "        # so we must take rnn hidden state after the last token for each text in batch\n",
        "        idx = torch.arange(embeddings.shape[1])                                   # torch.Size([64])\n",
        "        return self.output(rnn_output[tokens_lens - 1, idx, :])                   # torch.Size([64, 128])\n"
      ],
      "execution_count": 380,
      "outputs": []
    },
    {
      "cell_type": "markdown",
      "metadata": {
        "id": "2iJaXfgsvNpU"
      },
      "source": [
        "[Исходный код LSTM](http://pytorch.org/docs/master/_modules/torch/nn/modules/rnn.html#LSTM)"
      ]
    },
    {
      "cell_type": "markdown",
      "metadata": {
        "id": "6je_don7vNpU"
      },
      "source": [
        "Допишите функции для обучения и оценки модели:\n",
        "\n",
        "**tip:**\n",
        "1. В функции `evaluate` при подсчёте метрик учитывайте, что батчи могут иметь разный размер. (в частности последний батч)"
      ]
    },
    {
      "cell_type": "code",
      "metadata": {
        "ExecuteTime": {
          "end_time": "2021-04-02T00:05:13.969665Z",
          "start_time": "2021-04-02T00:05:13.875379Z"
        },
        "id": "M7IqWpYkvNpV"
      },
      "source": [
        "def train_epoch(dataloader, model, loss_fn, optimizer, device):\n",
        "    model.train()\n",
        "    for idx, data in enumerate(dataloader):\n",
        "        tokens, tokens_lens = data['tokens'].to(device), data['tokens_lens'].to(device)\n",
        "        labels = data['ratings'].to(device)\n",
        "        # 1. Take data from batch\n",
        "        # 2. Perform forward pass\n",
        "        # 3. Evaluate loss\n",
        "        # 4. Make optimizer step\n",
        "        optimizer.zero_grad()\n",
        "        outputs = model(tokens, tokens_lens)\n",
        "        loss = loss_fn(outputs, labels)\n",
        "        loss.backward()\n",
        "        optimizer.step()\n",
        "\n",
        "def evaluate(dataloader, model, loss_fn, device):\n",
        "    model.eval()\n",
        "    \n",
        "    total_loss = 0.0\n",
        "    total_accuracy = 0.0\n",
        "    with torch.no_grad():\n",
        "        for idx, data in enumerate(dataloader):\n",
        "            # 1. Take data from batch\n",
        "            # 2. Perform forward pass\n",
        "            # 3. Evaluate loss\n",
        "            # 4. Evaluate accuracy\n",
        "            tokens, tokens_lens = data['tokens'].to(device), data['tokens_lens'].to(device)\n",
        "            labels = data['ratings']\n",
        "            outputs = model(tokens, tokens_lens).to('cpu')\n",
        "\n",
        "            total_loss += loss_fn(outputs, labels).to(device)\n",
        "            total_accuracy += float(torch.sum(torch.argmax(outputs, dim=1) == labels))\n",
        "\n",
        "    return total_loss / len(dataloader.dataset), total_accuracy / len(dataloader.dataset)\n",
        "\n",
        "\n",
        "def train(\n",
        "    train_loader, test_loader, model, loss_fn, optimizer, device, num_epochs\n",
        "):\n",
        "    test_losses = []\n",
        "    train_losses = []\n",
        "    test_accuracies = []\n",
        "    train_accuracies = []\n",
        "    time_it = []\n",
        "    start = time.time()\n",
        "    for epoch in range(num_epochs):\n",
        "        start = time.time()\n",
        "        train_epoch(train_loader, model, loss_fn, optimizer, device)\n",
        "        \n",
        "        train_loss, train_acc = evaluate(train_loader, model, loss_fn, device)\n",
        "        train_accuracies.append(train_acc)\n",
        "        train_losses.append(train_loss)\n",
        "        \n",
        "        test_loss, test_acc = evaluate(test_loader, model, loss_fn, device)\n",
        "        test_accuracies.append(test_acc)\n",
        "        test_losses.append(test_loss)\n",
        "        time_it.append(time.time() - start)\n",
        "        \n",
        "        print(\n",
        "            'Epoch: {0:d}/{1:d}. Loss (Train/Test): {2:.3f}/{3:.3f}. Accuracy (Train/Test): {4:.3f}/{5:.3f}'.format(\n",
        "                epoch + 1, num_epochs, train_losses[-1], test_losses[-1], train_accuracies[-1], test_accuracies[-1]\n",
        "            )\n",
        "        )\n",
        "    return train_losses, train_accuracies, test_losses, test_accuracies, time_it"
      ],
      "execution_count": 381,
      "outputs": []
    },
    {
      "cell_type": "markdown",
      "metadata": {
        "id": "ykVSBVUSvNpX"
      },
      "source": [
        "Создадим модель:"
      ]
    },
    {
      "cell_type": "code",
      "metadata": {
        "ExecuteTime": {
          "end_time": "2021-04-01T21:39:36.315652Z",
          "start_time": "2021-04-01T21:39:33.667776Z"
        },
        "id": "bnI1IRRFvNpX"
      },
      "source": [
        "model = RNNClassifier(\n",
        "    embedding_dim=embedding_dim, hidden_dim=hidden_dim, output_size=10, vocab=vocab,\n",
        "    rec_layer=torch.nn.LSTM, dropout=None\n",
        ").to(device)"
      ],
      "execution_count": null,
      "outputs": []
    },
    {
      "cell_type": "markdown",
      "metadata": {
        "id": "8oQmGNK-vNpY"
      },
      "source": [
        "Создадим класс для подсчёта функции потерь и оптимизатор:"
      ]
    },
    {
      "cell_type": "code",
      "metadata": {
        "ExecuteTime": {
          "end_time": "2021-04-01T21:39:38.737281Z",
          "start_time": "2021-04-01T21:39:38.711948Z"
        },
        "id": "ydxm19omvNpY"
      },
      "source": [
        "loss_fn = torch.nn.CrossEntropyLoss(reduction='mean')\n",
        "optimizer = torch.optim.Adam(model.parameters(), lr=learning_rate)"
      ],
      "execution_count": null,
      "outputs": []
    },
    {
      "cell_type": "markdown",
      "metadata": {
        "id": "VEluZ9S1vNpZ"
      },
      "source": [
        "Попробуем обучить модель:"
      ]
    },
    {
      "cell_type": "markdown",
      "metadata": {
        "id": "RJd0NUVCvNpZ"
      },
      "source": [
        "**Сохраните все метрики и время работы модели. Это потребуется в конце первой части для построения графиков обучения и сравнения времени работы для всех моделей в этой секции**"
      ]
    },
    {
      "cell_type": "code",
      "metadata": {
        "id": "gwmY7ka0vNpZ",
        "colab": {
          "base_uri": "https://localhost:8080/"
        },
        "outputId": "f36db7e4-02b7-49dc-b8ba-c5c7335a06fe"
      },
      "source": [
        "train_losses_pure, train_accuracies_pure, test_losses_pure, test_accuracies_pure, time_it_pure = train(\n",
        "    train_dataloader, test_dataloader, model, loss_fn, optimizer, device, num_epochs\n",
        ")"
      ],
      "execution_count": null,
      "outputs": [
        {
          "output_type": "stream",
          "text": [
            "Epoch: 1/15. Loss (Train/Test): 0.031/0.031. Accuracy (Train/Test): 0.269/0.275\n",
            "Epoch: 2/15. Loss (Train/Test): 0.027/0.027. Accuracy (Train/Test): 0.344/0.345\n",
            "Epoch: 3/15. Loss (Train/Test): 0.025/0.026. Accuracy (Train/Test): 0.368/0.360\n",
            "Epoch: 4/15. Loss (Train/Test): 0.024/0.025. Accuracy (Train/Test): 0.403/0.372\n",
            "Epoch: 5/15. Loss (Train/Test): 0.023/0.025. Accuracy (Train/Test): 0.421/0.382\n",
            "Epoch: 6/15. Loss (Train/Test): 0.022/0.025. Accuracy (Train/Test): 0.444/0.388\n",
            "Epoch: 7/15. Loss (Train/Test): 0.022/0.025. Accuracy (Train/Test): 0.454/0.379\n",
            "Epoch: 8/15. Loss (Train/Test): 0.021/0.025. Accuracy (Train/Test): 0.481/0.392\n",
            "Epoch: 9/15. Loss (Train/Test): 0.020/0.025. Accuracy (Train/Test): 0.504/0.393\n",
            "Epoch: 10/15. Loss (Train/Test): 0.019/0.026. Accuracy (Train/Test): 0.515/0.391\n",
            "Epoch: 11/15. Loss (Train/Test): 0.018/0.026. Accuracy (Train/Test): 0.547/0.391\n",
            "Epoch: 12/15. Loss (Train/Test): 0.017/0.026. Accuracy (Train/Test): 0.579/0.380\n",
            "Epoch: 13/15. Loss (Train/Test): 0.016/0.027. Accuracy (Train/Test): 0.608/0.366\n",
            "Epoch: 14/15. Loss (Train/Test): 0.015/0.029. Accuracy (Train/Test): 0.651/0.369\n",
            "Epoch: 15/15. Loss (Train/Test): 0.013/0.029. Accuracy (Train/Test): 0.680/0.366\n"
          ],
          "name": "stdout"
        }
      ]
    },
    {
      "cell_type": "markdown",
      "metadata": {
        "id": "6eT7s8VTvNpa"
      },
      "source": [
        "Нерегуляризованные LSTM часто быстро переобучаются (и мы это видим по точности на контроле). Чтобы с этим бороться, часто используют L2-регуляризацию и дропаут.\n",
        "Однако способов накладывать дропаут на рекуррентный слой достаточно много, и далеко не все хорошо работают. По [ссылке](https://medium.com/@bingobee01/a-review-of-dropout-as-applied-to-rnns-72e79ecd5b7b) доступен хороший обзор дропаутов для RNN.\n",
        "\n",
        "Мы реализуем два варианта DropOut для RNN (и третий дополнительно). Заодно увидим, что для реализации различных усовершенствований рекуррентной архитектуры приходится \"вскрывать\" слой до различной \"глубины\"."
      ]
    },
    {
      "cell_type": "markdown",
      "metadata": {
        "id": "fHKo42RDvNpa"
      },
      "source": [
        "## Реализация дропаута по статье Гала и Гарамани. Variational Dropout. (1 балл)"
      ]
    },
    {
      "cell_type": "markdown",
      "metadata": {
        "id": "HslX1Ig-vNpa"
      },
      "source": [
        "Начнем с дропаута, описанного в [статье Гала и Гарамани](https://arxiv.org/abs/1512.05287).\n",
        "Для этого нам потребуется перейти от использования слоя `torch.nn.LSTM`, полностью скрывающего от нас рекуррентную логику, к использованию слоя `torch.nn.LSTMCell`, обрабатывающего лишь один временной шаг нашей последовательности (а всю логику вокруг придется реализовать самостоятельно). \n",
        "\n",
        "Допишите класс `RNNLayer`. При `dropout=0` ваш класс должен работать как обычный слой LSTM, а при `dropout > 0` накладывать бинарную маску на входной и скрытый вектор на каждом временном шаге, причем эта маска должна быть одинаковой во все моменты времени.\n",
        "\n",
        "Дропаут Гала и Гарамани в виде формул (m обозначает маску дропаута):\n",
        "\n",
        "$$\n",
        "h_{t-1} = h_{t-1}*m_h, \\, x_t = x_t * m_x\n",
        "$$\n",
        "\n",
        "Далее обычный шаг рекуррентной архитектуры, например, LSTM:\n",
        "\n",
        "$$\n",
        "i = \\sigma(h_{t-1}W^i + x_t U^i+b_i) \\quad\n",
        "o = \\sigma(h_{t-1}W^o + x_t U^o+b_o) \n",
        "$$\n",
        "$$\n",
        "f = \\sigma(h_{t-1}W^f + x_t U^f+b_f) \\quad \n",
        "g = tanh(h_{t-1} W^g + x_t U^g+b_g) \n",
        "$$\n",
        "$$\n",
        "c_t = f \\odot c_{t-1} +  i \\odot  g \\quad\n",
        "h_t =  o \\odot tanh(c_t) \\nonumber\n",
        "$$"
      ]
    },
    {
      "cell_type": "code",
      "metadata": {
        "ExecuteTime": {
          "end_time": "2021-04-02T00:05:14.068954Z",
          "start_time": "2021-04-02T00:05:13.971286Z"
        },
        "id": "WWK-mTHgvNpb"
      },
      "source": [
        "def init_h0_c0(num_objects, hidden_size, some_existing_tensor):\n",
        "    \"\"\"\n",
        "    return h0 and c0, use some_existing_tensor.new_zeros() to gen them\n",
        "    h0 shape: num_objects x hidden_size\n",
        "    c0 shape: num_objects x hidden_size\n",
        "    \"\"\"\n",
        "    h0 = some_existing_tensor.new_zeros(num_objects, hidden_size)\n",
        "    c0 = some_existing_tensor.new_zeros(num_objects, hidden_size)\n",
        "    return h0, c0"
      ],
      "execution_count": 379,
      "outputs": []
    },
    {
      "cell_type": "code",
      "metadata": {
        "ExecuteTime": {
          "end_time": "2021-04-02T00:05:14.131347Z",
          "start_time": "2021-04-02T00:05:14.071577Z"
        },
        "id": "Wi8mzqhDvNpc"
      },
      "source": [
        "def gen_dropout_mask(input_size, hidden_size, is_training, p, some_existing_tensor):\n",
        "    \"\"\"\n",
        "    is_training: if True, gen masks from Bernoulli\n",
        "                 if False, gen masks consisting of (1-p)\n",
        "    \n",
        "    return dropout masks of size input_size, hidden_size if p is not None\n",
        "    return one masks if p is None\n",
        "    \"\"\"\n",
        "    if p is None:\n",
        "        return some_existing_tensor.new_ones(input_size), some_existing_tensor.new_ones(hidden_size)\n",
        "    if is_training:\n",
        "        m_h = torch.bernoulli((1 - p) * some_existing_tensor.new_ones(input_size))\n",
        "        m_x = torch.bernoulli((1 - p) * some_existing_tensor.new_ones(hidden_size))\n",
        "    else:\n",
        "        m_h = (1 - p) * some_existing_tensor.new_ones(input_size)\n",
        "        m_x = (1 - p) * some_existing_tensor.new_ones(hidden_size)\n",
        "    return m_h, m_x"
      ],
      "execution_count": 394,
      "outputs": []
    },
    {
      "cell_type": "markdown",
      "metadata": {
        "ExecuteTime": {
          "end_time": "2021-04-01T21:09:12.282613Z",
          "start_time": "2021-04-01T21:09:12.256019Z"
        },
        "id": "36IzvRjNvNpc"
      },
      "source": [
        "Допишите класс-обёртку над LSTMCell для реализации Variational Dropout. **Используйте только цикл по времени**"
      ]
    },
    {
      "cell_type": "markdown",
      "metadata": {
        "id": "RI9FDnDsvNpc"
      },
      "source": [
        "**Для каждого тензора в функции `forward` подпишите в комментарии его размеры**"
      ]
    },
    {
      "cell_type": "code",
      "metadata": {
        "ExecuteTime": {
          "end_time": "2021-04-02T00:05:14.190066Z",
          "start_time": "2021-04-02T00:05:14.132804Z"
        },
        "id": "A4YO9YkLvNpd"
      },
      "source": [
        "class RNNLayer(torch.nn.Module):\n",
        "    def __init__(self, input_size, hidden_size, dropout=None):\n",
        "        super().__init__()\n",
        "\n",
        "        self.dropout = dropout\n",
        "        self.input_size = input_size\n",
        "        self.hidden_size = hidden_size\n",
        "\n",
        "        self.rnn_cell = torch.nn.LSTMCell(self.input_size, self.hidden_size)\n",
        "\n",
        "    def forward(self, x):\n",
        "        # Initialize h_0, c_0\n",
        "        h0, c0 = init_h0_c0(x.size()[1], self.hidden_size, x)                   # torch.Size([64, 128])\n",
        "                                                                                  # torch.Size([64, 128])\n",
        "\n",
        "        # Gen masks for input and hidden state\n",
        "        m_x, m_h = gen_dropout_mask(self.input_size, self.hidden_size,            # torch.Size([128])\n",
        "                                    self.training, self.dropout, x)               # torch.Size([32])                                                  \n",
        "\n",
        "        # Implement recurrent logic and return what nn.LSTM returns\n",
        "        # Do not forget to apply generated dropout masks!\n",
        "        output_h = []\n",
        "        for i in range(x.size()[0]):\n",
        "            h0, c0 = self.rnn_cell(x[i] * m_x, (h0 * m_h, c0))\n",
        "            output_h.append(h0)\n",
        "        output_h = torch.stack(output_h, dim=0)                                   # torch.Size([200, 64, 128])\n",
        "        return output_h, (h0, c0)\n"
      ],
      "execution_count": 395,
      "outputs": []
    },
    {
      "cell_type": "markdown",
      "metadata": {
        "id": "JR4PD1IbvNpd"
      },
      "source": [
        "Протестируйте реализованную модель с выключенным дропаутом (слой `RNNLayer` надо передать в `RNNClassifier` в качестве `rec_layer`). Замерьте время обучения. Сильно ли оно увеличилось по сравнению с `torch.nn.LSTM` (LSTM \"из коробки\")?"
      ]
    },
    {
      "cell_type": "markdown",
      "metadata": {
        "id": "cryy8c_-vNpd"
      },
      "source": [
        "**Сохраните все метрики и время работы модели. Это потребуется в конце первой части для построения графиков обучения и сравнения времени работы для всех моделей в этой секции**"
      ]
    },
    {
      "cell_type": "code",
      "metadata": {
        "id": "L2T1_LlavNpe"
      },
      "source": [
        "model = RNNClassifier(\n",
        "    embedding_dim=embedding_dim, hidden_dim=hidden_dim, output_size=10, vocab=vocab,\n",
        "    rec_layer=RNNLayer, dropout=None\n",
        ").to(device)"
      ],
      "execution_count": null,
      "outputs": []
    },
    {
      "cell_type": "code",
      "metadata": {
        "id": "Um2g4btLvNpe"
      },
      "source": [
        "loss_fn = torch.nn.CrossEntropyLoss(reduction='mean').to(device)\n",
        "optimizer = torch.optim.Adam(model.parameters(), lr=learning_rate)"
      ],
      "execution_count": null,
      "outputs": []
    },
    {
      "cell_type": "code",
      "metadata": {
        "ExecuteTime": {
          "end_time": "2021-04-01T22:04:19.104557Z",
          "start_time": "2021-04-01T21:50:02.992858Z"
        },
        "id": "Q5Qtj63ZvNpf",
        "colab": {
          "base_uri": "https://localhost:8080/"
        },
        "outputId": "b8ff62a8-6e87-4d92-bdb0-7b6e438451c5"
      },
      "source": [
        "train_losses_no_drop, train_accuracies_no_drop, test_losses_no_drop, test_accuracies_no_drop, time_it_no_drop = train(\n",
        "    train_dataloader, test_dataloader, model, loss_fn, optimizer, device, num_epochs\n",
        ")"
      ],
      "execution_count": null,
      "outputs": [
        {
          "output_type": "stream",
          "text": [
            "Epoch: 1/15. Loss (Train/Test): 0.030/0.030. Accuracy (Train/Test): 0.285/0.291\n",
            "Epoch: 2/15. Loss (Train/Test): 0.027/0.027. Accuracy (Train/Test): 0.342/0.341\n",
            "Epoch: 3/15. Loss (Train/Test): 0.025/0.026. Accuracy (Train/Test): 0.381/0.363\n",
            "Epoch: 4/15. Loss (Train/Test): 0.023/0.025. Accuracy (Train/Test): 0.416/0.381\n",
            "Epoch: 5/15. Loss (Train/Test): 0.022/0.025. Accuracy (Train/Test): 0.440/0.394\n",
            "Epoch: 6/15. Loss (Train/Test): 0.021/0.024. Accuracy (Train/Test): 0.468/0.398\n",
            "Epoch: 7/15. Loss (Train/Test): 0.021/0.025. Accuracy (Train/Test): 0.483/0.401\n",
            "Epoch: 8/15. Loss (Train/Test): 0.020/0.025. Accuracy (Train/Test): 0.500/0.384\n",
            "Epoch: 9/15. Loss (Train/Test): 0.018/0.025. Accuracy (Train/Test): 0.547/0.394\n",
            "Epoch: 10/15. Loss (Train/Test): 0.018/0.026. Accuracy (Train/Test): 0.547/0.373\n",
            "Epoch: 11/15. Loss (Train/Test): 0.016/0.027. Accuracy (Train/Test): 0.605/0.379\n",
            "Epoch: 12/15. Loss (Train/Test): 0.015/0.027. Accuracy (Train/Test): 0.652/0.373\n",
            "Epoch: 13/15. Loss (Train/Test): 0.014/0.029. Accuracy (Train/Test): 0.678/0.358\n",
            "Epoch: 14/15. Loss (Train/Test): 0.012/0.032. Accuracy (Train/Test): 0.715/0.369\n",
            "Epoch: 15/15. Loss (Train/Test): 0.011/0.032. Accuracy (Train/Test): 0.763/0.359\n"
          ],
          "name": "stdout"
        }
      ]
    },
    {
      "cell_type": "markdown",
      "metadata": {
        "id": "3iQ7b7ODvNpf"
      },
      "source": [
        "Протестируйте полученную модель с `dropout=0.25`, вновь замерив время обучения. Получилось ли побороть переобучение? Сильно ли дольше обучается данная модель по сравнению с предыдущей? (доп. время тратится на генерацию масок дропаута)."
      ]
    },
    {
      "cell_type": "code",
      "metadata": {
        "id": "8XBJex8G7Tjh"
      },
      "source": [
        "model = RNNClassifier(\n",
        "    embedding_dim=embedding_dim, hidden_dim=hidden_dim, output_size=10, vocab=vocab,\n",
        "    rec_layer=RNNLayer, dropout=0.25\n",
        ").to(device)"
      ],
      "execution_count": null,
      "outputs": []
    },
    {
      "cell_type": "code",
      "metadata": {
        "id": "IFguEVn-7TrO"
      },
      "source": [
        "loss_fn = torch.nn.CrossEntropyLoss(reduction='mean').to(device)\n",
        "optimizer = torch.optim.Adam(model.parameters(), lr=learning_rate)"
      ],
      "execution_count": null,
      "outputs": []
    },
    {
      "cell_type": "code",
      "metadata": {
        "ExecuteTime": {
          "end_time": "2021-04-01T22:18:28.301613Z",
          "start_time": "2021-04-01T22:04:19.107850Z"
        },
        "id": "goTObs1CvNpg",
        "colab": {
          "base_uri": "https://localhost:8080/"
        },
        "outputId": "885721bd-25c9-49f4-84f4-7bc76023311e"
      },
      "source": [
        "train_losses_drop, train_accuracies_drop, test_losses_drop, test_accuracies_drop, time_it_drop = train(\n",
        "    train_dataloader, test_dataloader, model, loss_fn, optimizer, device, num_epochs\n",
        ")"
      ],
      "execution_count": null,
      "outputs": [
        {
          "output_type": "stream",
          "text": [
            "Epoch: 1/15. Loss (Train/Test): 0.031/0.032. Accuracy (Train/Test): 0.235/0.239\n",
            "Epoch: 2/15. Loss (Train/Test): 0.029/0.029. Accuracy (Train/Test): 0.317/0.320\n",
            "Epoch: 3/15. Loss (Train/Test): 0.027/0.027. Accuracy (Train/Test): 0.357/0.349\n",
            "Epoch: 4/15. Loss (Train/Test): 0.025/0.026. Accuracy (Train/Test): 0.378/0.365\n",
            "Epoch: 5/15. Loss (Train/Test): 0.025/0.025. Accuracy (Train/Test): 0.389/0.380\n",
            "Epoch: 6/15. Loss (Train/Test): 0.024/0.025. Accuracy (Train/Test): 0.397/0.388\n",
            "Epoch: 7/15. Loss (Train/Test): 0.024/0.025. Accuracy (Train/Test): 0.415/0.389\n",
            "Epoch: 8/15. Loss (Train/Test): 0.023/0.024. Accuracy (Train/Test): 0.434/0.402\n",
            "Epoch: 9/15. Loss (Train/Test): 0.022/0.024. Accuracy (Train/Test): 0.443/0.404\n",
            "Epoch: 10/15. Loss (Train/Test): 0.022/0.024. Accuracy (Train/Test): 0.452/0.399\n",
            "Epoch: 11/15. Loss (Train/Test): 0.022/0.024. Accuracy (Train/Test): 0.454/0.410\n",
            "Epoch: 12/15. Loss (Train/Test): 0.021/0.024. Accuracy (Train/Test): 0.469/0.407\n",
            "Epoch: 13/15. Loss (Train/Test): 0.021/0.024. Accuracy (Train/Test): 0.475/0.407\n",
            "Epoch: 14/15. Loss (Train/Test): 0.020/0.024. Accuracy (Train/Test): 0.487/0.412\n",
            "Epoch: 15/15. Loss (Train/Test): 0.020/0.024. Accuracy (Train/Test): 0.495/0.408\n"
          ],
          "name": "stdout"
        }
      ]
    },
    {
      "cell_type": "code",
      "metadata": {
        "id": "q4bxMv8_-9-s",
        "colab": {
          "base_uri": "https://localhost:8080/"
        },
        "outputId": "1afeaa84-bd64-4611-ed68-41cc47669fab"
      },
      "source": [
        "print(\"With drop:\", time_it_drop)\n",
        "print(\"With drop:\", time_it_no_drop)"
      ],
      "execution_count": null,
      "outputs": [
        {
          "output_type": "stream",
          "text": [
            "With drop: [38.74658560752869, 39.0757839679718, 38.765154123306274, 38.59770369529724, 38.66622853279114, 38.73659300804138, 38.70025968551636, 38.63346242904663, 38.54201054573059, 38.57126712799072, 38.54007649421692, 38.45992636680603, 38.19980216026306, 38.19761037826538, 38.23975944519043]\n",
            "With drop: [38.78934931755066, 38.81011891365051, 38.64655661582947, 38.843188762664795, 38.89443254470825, 38.80774688720703, 38.835530042648315, 38.76968598365784, 38.65918707847595, 38.661675453186035, 38.629958391189575, 38.69617581367493, 38.69189667701721, 38.61334443092346, 38.543179512023926]\n"
          ],
          "name": "stdout"
        }
      ]
    },
    {
      "cell_type": "markdown",
      "metadata": {
        "id": "uxphKIe00KJV"
      },
      "source": [
        "Судя по показаниям Loss-функции, получилось побороть переобучение. Слой с dropout обучается дольше, чем без него, что видно на графике."
      ]
    },
    {
      "cell_type": "markdown",
      "metadata": {
        "id": "MtQHJWSKvNph"
      },
      "source": [
        "## Реализация дропаута по статье Гала и Гарамани. Дубль 2 (1 балл)"
      ]
    },
    {
      "cell_type": "markdown",
      "metadata": {
        "id": "iBBdKxUgvNph"
      },
      "source": [
        "<начало взлома pytorch>"
      ]
    },
    {
      "cell_type": "markdown",
      "metadata": {
        "id": "14GvNP60vNph"
      },
      "source": [
        "При разворачивании цикла по времени средствами python обучение рекуррентной нейросети сильно замедляется. Однако для реализации дропаута Гала и Гарамани необязательно явно задавать в коде домножение нейронов на маски. Можно схитрить и обойтись использованием слоя `torch.nn.LSTM`: перед вызовом `forward` слоя `torch.nn.LSTM` подменять его веса на веса, домноженные по строкам на маски. А обучаемые веса хранить отдельно. Именно так этот дропаут реализован в библиотеке `fastai`, код из которой использован в ячейке ниже.\n",
        "\n",
        "Такой слой реализуется в виде обертки над `torch.nn.LSTM`. Допишите класс:"
      ]
    },
    {
      "cell_type": "code",
      "metadata": {
        "ExecuteTime": {
          "end_time": "2021-04-02T00:05:14.286206Z",
          "start_time": "2021-04-02T00:05:14.191730Z"
        },
        "id": "j5QbduaUvNpi"
      },
      "source": [
        "import warnings"
      ],
      "execution_count": null,
      "outputs": []
    },
    {
      "cell_type": "code",
      "metadata": {
        "ExecuteTime": {
          "end_time": "2021-04-02T02:06:54.953123Z",
          "start_time": "2021-04-02T02:06:54.917017Z"
        },
        "id": "JMdGgoSYvNpj"
      },
      "source": [
        "class FastRNNLayer(torch.nn.Module):\n",
        "    def __init__(self, input_size, hidden_size, dropout=0.0, layers_dropout=0.0, num_layers=1):\n",
        "        super().__init__()\n",
        "\n",
        "        self.input_size = input_size\n",
        "        self.hidden_size = hidden_size\n",
        "\n",
        "        self.num_layers = num_layers\n",
        "\n",
        "        self.dropout = dropout\n",
        "        self.layers_dropout = layers_dropout\n",
        "        self.module = torch.nn.LSTM(input_size, hidden_size, \n",
        "                                    dropout=layers_dropout, \n",
        "                                    num_layers=num_layers)\n",
        "\n",
        "        self.layer_names = []\n",
        "        for layer_n in range(self.num_layers):\n",
        "            self.layer_names += [f'weight_hh_l{layer_n}', f'weight_ih_l{layer_n}']\n",
        "\n",
        "        for layer in self.layer_names:\n",
        "            # Get torch.nn.Parameter with weights from torch.nn.LSTM instance\n",
        "            w = getattr(self.module, layer)\n",
        "\n",
        "            # Remove it from model\n",
        "            delattr(self.module, layer)\n",
        "\n",
        "            # And create new torch.nn.Parameter with the same data but different name\n",
        "            self.register_parameter(f'{layer}_raw', torch.nn.Parameter(w.data))\n",
        "\n",
        "            # Note. In torch.nn.LSTM.forward parameter with name `layer` will be used\n",
        "            #     so we must initialize it using `layer_raw` before forward pass\n",
        "\n",
        "    def _setweights(self, x):\n",
        "        \"\"\"\n",
        "            Apply dropout to the raw weights.\n",
        "        \"\"\"\n",
        "        for layer in self.layer_names:\n",
        "            # Get torch.nn.Parameter with weights\n",
        "            raw_w = getattr(self, f'{layer}_raw')\n",
        "\n",
        "            # Generate mask (use function gen_dropout_mask)\n",
        "            m_x, m_h = gen_dropout_mask(raw_w.size(), self.hidden_size, \n",
        "                                    self.training, self.dropout, x)\n",
        "\n",
        "            # Apply dropout mask\n",
        "            masked_raw_w = raw_w * m_x\n",
        "\n",
        "            # Set modified weights in its place\n",
        "            setattr(self.module, layer, masked_raw_w)\n",
        "\n",
        "    def forward(self, x, h_c=None):\n",
        "        \"\"\"\n",
        "        :param x: tensor containing the features of the input sequence.           # torch.Size([200, 64, 32])\n",
        "        :param Optional[Tuple[torch.tensor, torch.tensor]] h_c: \n",
        "                  initial hidden state and initial cell state\n",
        "        \"\"\"\n",
        "        with warnings.catch_warnings():\n",
        "            # To avoid the warning that comes because the weights aren't flattened.\n",
        "            warnings.simplefilter(\"ignore\")\n",
        "\n",
        "            # Set new weights of self.module and call its forward\n",
        "            # Pass h_c with x if it is not None. Otherwise pass only x\n",
        "            self._setweights(x)\n",
        "            if h_c is not None:\n",
        "                output = self.module.forward(x, h_c)\n",
        "            else:\n",
        "                output = self.module.forward(x)\n",
        "            return output\n",
        "            \n",
        "    def reset(self):\n",
        "        if hasattr(self.module, 'reset'):\n",
        "            self.module.reset()"
      ],
      "execution_count": 396,
      "outputs": []
    },
    {
      "cell_type": "markdown",
      "metadata": {
        "id": "xRnjZOlZvNpl"
      },
      "source": [
        "Протестируйте реализованную модель с выключенным дропаутом (слой `FastRNNLayer` надо передать в `RNNClassifier` в качестве `rec_layer`). Замерьте время обучения. Убедитесь, что модель выдаёт такое же качество, как и оригинальная реализация LSTM."
      ]
    },
    {
      "cell_type": "markdown",
      "metadata": {
        "id": "7Njn566FvNpm"
      },
      "source": [
        "**Сохраните все метрики и время работы модели. Это потребуется в конце первой части для построения графиков обучения и сравнения времени работы для всех моделей в этой секции**"
      ]
    },
    {
      "cell_type": "code",
      "metadata": {
        "id": "OwnrdGcy78gM"
      },
      "source": [
        "model = RNNClassifier(\n",
        "    embedding_dim=embedding_dim, hidden_dim=hidden_dim, output_size=10, vocab=vocab,\n",
        "    rec_layer=FastRNNLayer, dropout=None\n",
        ").to(device)"
      ],
      "execution_count": null,
      "outputs": []
    },
    {
      "cell_type": "code",
      "metadata": {
        "id": "tF-qF0lR8qrG"
      },
      "source": [
        "loss_fn = torch.nn.CrossEntropyLoss(reduction='mean').to(device)\n",
        "optimizer = torch.optim.Adam(model.parameters(), lr=learning_rate)"
      ],
      "execution_count": null,
      "outputs": []
    },
    {
      "cell_type": "code",
      "metadata": {
        "ExecuteTime": {
          "end_time": "2021-04-01T22:25:23.843846Z",
          "start_time": "2021-04-01T22:22:43.059254Z"
        },
        "id": "iu_6pn8mvNpm",
        "colab": {
          "base_uri": "https://localhost:8080/"
        },
        "outputId": "acd7bc92-608a-4d4b-96de-f457e0f2346e"
      },
      "source": [
        "train_losses_fast_no_drop, train_accuracies_fast_no_drop, test_losses_fast_no_drop, test_accuracies_fast_no_drop, time_it_fast_no_drop = train(\n",
        "    train_dataloader, test_dataloader, model, loss_fn, optimizer, device, num_epochs\n",
        ")"
      ],
      "execution_count": null,
      "outputs": [
        {
          "output_type": "stream",
          "text": [
            "Epoch: 1/15. Loss (Train/Test): 0.030/0.030. Accuracy (Train/Test): 0.274/0.279\n",
            "Epoch: 2/15. Loss (Train/Test): 0.027/0.027. Accuracy (Train/Test): 0.351/0.346\n",
            "Epoch: 3/15. Loss (Train/Test): 0.025/0.026. Accuracy (Train/Test): 0.380/0.367\n",
            "Epoch: 4/15. Loss (Train/Test): 0.024/0.025. Accuracy (Train/Test): 0.406/0.378\n",
            "Epoch: 5/15. Loss (Train/Test): 0.023/0.025. Accuracy (Train/Test): 0.432/0.396\n",
            "Epoch: 6/15. Loss (Train/Test): 0.022/0.025. Accuracy (Train/Test): 0.456/0.398\n",
            "Epoch: 7/15. Loss (Train/Test): 0.021/0.024. Accuracy (Train/Test): 0.474/0.400\n",
            "Epoch: 8/15. Loss (Train/Test): 0.020/0.025. Accuracy (Train/Test): 0.492/0.399\n",
            "Epoch: 9/15. Loss (Train/Test): 0.019/0.025. Accuracy (Train/Test): 0.518/0.395\n",
            "Epoch: 10/15. Loss (Train/Test): 0.019/0.026. Accuracy (Train/Test): 0.528/0.377\n",
            "Epoch: 11/15. Loss (Train/Test): 0.017/0.026. Accuracy (Train/Test): 0.573/0.376\n",
            "Epoch: 12/15. Loss (Train/Test): 0.016/0.027. Accuracy (Train/Test): 0.606/0.384\n",
            "Epoch: 13/15. Loss (Train/Test): 0.015/0.028. Accuracy (Train/Test): 0.643/0.376\n",
            "Epoch: 14/15. Loss (Train/Test): 0.014/0.029. Accuracy (Train/Test): 0.680/0.368\n",
            "Epoch: 15/15. Loss (Train/Test): 0.013/0.031. Accuracy (Train/Test): 0.692/0.372\n"
          ],
          "name": "stdout"
        }
      ]
    },
    {
      "cell_type": "markdown",
      "metadata": {
        "id": "-icWGp7CvNpn"
      },
      "source": [
        "Протестируйте полученный слой (вновь подставив его в `RNNClassifier` в качестве `rec_layer`) с `dropout=0.25`. Сравните время обучения с предыдущими моделями. Проследите, чтобы качество получилось такое же, как при первой реализации этого дропаута."
      ]
    },
    {
      "cell_type": "code",
      "metadata": {
        "id": "nZFB8KOCAa9q"
      },
      "source": [
        "model = RNNClassifier(\n",
        "    embedding_dim=embedding_dim, hidden_dim=hidden_dim, output_size=10, vocab=vocab,\n",
        "    rec_layer=FastRNNLayer, dropout=0.25\n",
        ").to(device)"
      ],
      "execution_count": null,
      "outputs": []
    },
    {
      "cell_type": "code",
      "metadata": {
        "id": "k07lecOhAbVi"
      },
      "source": [
        "loss_fn = torch.nn.CrossEntropyLoss(reduction='mean').to(device)\n",
        "optimizer = torch.optim.Adam(model.parameters(), lr=learning_rate)"
      ],
      "execution_count": null,
      "outputs": []
    },
    {
      "cell_type": "code",
      "metadata": {
        "ExecuteTime": {
          "end_time": "2021-04-01T22:28:38.168777Z",
          "start_time": "2021-04-01T22:25:56.717326Z"
        },
        "id": "6fKUHh7QvNpn",
        "colab": {
          "base_uri": "https://localhost:8080/"
        },
        "outputId": "a02e5d88-8493-4ec2-df87-984f926f4497"
      },
      "source": [
        "train_losses_fast_drop, train_accuracies_fast_drop, test_losses_fast_drop, test_accuracies_fast_drop, time_it_fast_drop = train(\n",
        "    train_dataloader, test_dataloader, model, loss_fn, optimizer, device, num_epochs\n",
        ")"
      ],
      "execution_count": null,
      "outputs": [
        {
          "output_type": "stream",
          "text": [
            "Epoch: 1/15. Loss (Train/Test): 0.031/0.031. Accuracy (Train/Test): 0.236/0.246\n",
            "Epoch: 2/15. Loss (Train/Test): 0.028/0.028. Accuracy (Train/Test): 0.338/0.340\n",
            "Epoch: 3/15. Loss (Train/Test): 0.026/0.027. Accuracy (Train/Test): 0.360/0.356\n",
            "Epoch: 4/15. Loss (Train/Test): 0.025/0.026. Accuracy (Train/Test): 0.379/0.369\n",
            "Epoch: 5/15. Loss (Train/Test): 0.024/0.025. Accuracy (Train/Test): 0.403/0.377\n",
            "Epoch: 6/15. Loss (Train/Test): 0.023/0.025. Accuracy (Train/Test): 0.413/0.378\n",
            "Epoch: 7/15. Loss (Train/Test): 0.023/0.025. Accuracy (Train/Test): 0.424/0.391\n",
            "Epoch: 8/15. Loss (Train/Test): 0.022/0.025. Accuracy (Train/Test): 0.443/0.395\n",
            "Epoch: 9/15. Loss (Train/Test): 0.022/0.025. Accuracy (Train/Test): 0.448/0.405\n",
            "Epoch: 10/15. Loss (Train/Test): 0.021/0.024. Accuracy (Train/Test): 0.463/0.397\n",
            "Epoch: 11/15. Loss (Train/Test): 0.021/0.025. Accuracy (Train/Test): 0.479/0.401\n",
            "Epoch: 12/15. Loss (Train/Test): 0.020/0.024. Accuracy (Train/Test): 0.483/0.401\n",
            "Epoch: 13/15. Loss (Train/Test): 0.020/0.025. Accuracy (Train/Test): 0.496/0.404\n",
            "Epoch: 14/15. Loss (Train/Test): 0.020/0.025. Accuracy (Train/Test): 0.499/0.404\n",
            "Epoch: 15/15. Loss (Train/Test): 0.019/0.025. Accuracy (Train/Test): 0.521/0.399\n"
          ],
          "name": "stdout"
        }
      ]
    },
    {
      "cell_type": "code",
      "metadata": {
        "id": "w7YB9d6NB1oK",
        "colab": {
          "base_uri": "https://localhost:8080/"
        },
        "outputId": "8b4f3606-192e-4ca0-8296-cc41cd623fae"
      },
      "source": [
        "print(\"Pure:\", sum(time_it_pure))\n",
        "print(\"RNN With drop:\", sum(time_it_drop))\n",
        "print(\"Fast with drop:\", sum(time_it_fast_drop))"
      ],
      "execution_count": null,
      "outputs": [
        {
          "output_type": "stream",
          "text": [
            "Pure: 152.54862260818481\n",
            "RNN With drop: 578.6722235679626\n",
            "Fast with drop: 169.99657320976257\n"
          ],
          "name": "stdout"
        }
      ]
    },
    {
      "cell_type": "markdown",
      "metadata": {
        "id": "ILM6UHSLvNpn"
      },
      "source": [
        "</конец взлома pytorch>"
      ]
    },
    {
      "cell_type": "markdown",
      "metadata": {
        "id": "BUy84R-3vNpo"
      },
      "source": [
        "## Реализация дропаута по статье Семениуты и др. (1 балл)"
      ]
    },
    {
      "cell_type": "markdown",
      "metadata": {
        "id": "-otP0IykvNpo"
      },
      "source": [
        "Перейдем к реализации дропаута для LSTM по статье [Semeniuta et al](http://www.aclweb.org/anthology/C16-1165). \n",
        "\n",
        "Этот метод применения дропаута не менее популярен, чем предыдущий. Его особенность состоит в том, что он придуман специально для гейтовых архитектур. В контексте LSTM этот дропаут накладывается только на информационный поток (m_h - маска дропаута):\n",
        "$$\n",
        "i = \\sigma(h_{t-1}W^i + x_t U^i+b_i) \\quad\n",
        "o = \\sigma(h_{t-1}W^o + x_t U^o+b_o) \n",
        "$$\n",
        "$$\n",
        "f = \\sigma(h_{t-1}W^f + x_t U^f+b_f) \\quad \n",
        "g = tanh(h_{t-1} W^g + x_t U^g+b_g) \n",
        "$$\n",
        "$$\n",
        "c_t = f \\odot c_{t-1} +  i \\odot g \\odot {\\bf m_h} \\quad\n",
        "h_t =  o \\odot tanh(c_t) \\nonumber\n",
        "$$\n",
        "На входы $x_t$ маска накладывается как в предыдущем дропауте. Впрочем, на входы маску можно наложить вообще до вызова рекуррентного слоя.\n",
        "\n",
        "Согласно статье, маска дропаута может быть как одинаковая, так и разная для всех моментов времени. Мы сделаем одинаковую для всех моментов времени.\n",
        "\n",
        "Для реализации этого дропаута можно: \n",
        "1. самостоятельно реализовать LSTM (интерфейса LSTMCell не хватит) \n",
        "2. снова воспользоваться трюком с установкой весов (но тут мы опираемся на свойство $tanh(0)=0$, к тому же, трюк в данном случае выглядит менее тривиально, чем с дропаутом Гала). \n",
        "\n",
        "Предлагается реализовать дропаут по сценарию 1. Допишите класс:"
      ]
    },
    {
      "cell_type": "markdown",
      "metadata": {
        "id": "XJFusBbcvNpp"
      },
      "source": [
        "**Для каждого тензора в функции `forward` подпишите в комментарии его размеры**"
      ]
    },
    {
      "cell_type": "code",
      "metadata": {
        "ExecuteTime": {
          "end_time": "2021-04-02T00:05:14.447201Z",
          "start_time": "2021-04-02T00:05:14.350457Z"
        },
        "id": "j3lIH8t4vNpp"
      },
      "source": [
        "class HandmadeLSTM(torch.nn.Module):\n",
        "    def __init__(self, input_size, hidden_size, dropout=0.0):\n",
        "        super().__init__()\n",
        "\n",
        "        self.dropout = dropout\n",
        "        self.input_size = input_size\n",
        "        self.hidden_size = hidden_size\n",
        "\n",
        "        self.input_weights = torch.nn.Linear(input_size, 4 * hidden_size)\n",
        "        self.hidden_weights = torch.nn.Linear(hidden_size, 4 * hidden_size)\n",
        "\n",
        "        self.reset_params()\n",
        "\n",
        "    def reset_params(self):\n",
        "        \"\"\"\n",
        "        Initialization as in Pytorch. \n",
        "        Do not forget to call this method!\n",
        "        https://pytorch.org/docs/stable/_modules/torch/nn/modules/rnn.html#LSTM\n",
        "        \"\"\"\n",
        "        stdv = 1.0 / np.sqrt(self.hidden_size)\n",
        "        for weight in self.parameters():\n",
        "            torch.nn.init.uniform_(weight, -stdv, stdv)\n",
        "\n",
        "    def forward(self, x):\n",
        "        # Use functions init_h0_c0 and gen_dropout_masks defined above\n",
        "        (h0, c0) = init_h0_c0(x.size()[1], self.hidden_size, x)                   # torch.Size([64, 128])\n",
        "                                                                                  # torch.Size([64, 128])\n",
        "\n",
        "        m_x, m_h = gen_dropout_mask(self.input_size, self.hidden_size,            # torch.Size([128])\n",
        "                                    self.training, self.dropout, x)               # torch.Size([32])\n",
        "                                                    \n",
        "        # Implement recurrent logic to mimic torch.nn.LSTM\n",
        "        # Do not forget to apply dropout mask\n",
        "        output = []\n",
        "        for i in range(x.size()[0]):\n",
        "            iofg = self.hidden_weights(h0) + self.input_weights(x[i]*m_x)         # torch.Size([64, 512])\n",
        "            iof = torch.sigmoid(iofg[:, :3*self.hidden_size])                     # torch.Size([64, 384])\n",
        "            i = iof[:, :self.hidden_size]                                         # torch.Size([64, 128])\n",
        "            o = iof[:, self.hidden_size:2*self.hidden_size]                       # torch.Size([64, 128])\n",
        "            f = iof[:, 2*self.hidden_size:3*self.hidden_size]                     # torch.Size([64, 128])\n",
        "            g = torch.tanh(iofg[:, 3*self.hidden_size:])                          # torch.Size([64, 128])\n",
        "            c0 = f * c0 + i * g * m_h                                             # torch.Size([64, 128])\n",
        "            h0 = o * torch.tanh(c0)                                               # torch.Size([64, 128])\n",
        "            output.append(h0)\n",
        "        output = torch.stack(output, dim=0)                                       # torch.Size([200, 64, 128])\n",
        "        return output, (h0, c0)\n"
      ],
      "execution_count": 397,
      "outputs": []
    },
    {
      "cell_type": "markdown",
      "metadata": {
        "id": "SFKIESG-vNpq"
      },
      "source": [
        "Протестируйте вашу реализацию без дропаута (проконтролируйте качество и сравните время обучения с временем обучения `torch.nn.LSTM` и `RNNLayer`), а также с `dropout=0.25`. Сравните качество модели с таким дропаутом с качеством модели с дропаутом Гала и Гарамани."
      ]
    },
    {
      "cell_type": "markdown",
      "metadata": {
        "id": "nIbwJoHRvNpq"
      },
      "source": [
        "**Сохраните все метрики и время работы модели. Это потребуется в конце первой части для построения графиков обучения и сравнения времени работы для всех моделей в этой секции**"
      ]
    },
    {
      "cell_type": "code",
      "metadata": {
        "id": "mFhpP4oMdfNU"
      },
      "source": [
        "model = RNNClassifier(\n",
        "    embedding_dim=embedding_dim, hidden_dim=hidden_dim, output_size=10, vocab=vocab,\n",
        "    rec_layer=HandmadeLSTM, dropout=None\n",
        ").to(device)"
      ],
      "execution_count": null,
      "outputs": []
    },
    {
      "cell_type": "code",
      "metadata": {
        "id": "oBGaKAAAdfW8"
      },
      "source": [
        "loss_fn = torch.nn.CrossEntropyLoss(reduction='mean').to(device)\n",
        "optimizer = torch.optim.Adam(model.parameters(), lr=learning_rate)"
      ],
      "execution_count": null,
      "outputs": []
    },
    {
      "cell_type": "code",
      "metadata": {
        "ExecuteTime": {
          "end_time": "2021-04-01T23:01:53.046622Z",
          "start_time": "2021-04-01T22:30:08.733475Z"
        },
        "id": "tK-h8XgtvNpq",
        "colab": {
          "base_uri": "https://localhost:8080/"
        },
        "outputId": "11ab7123-dc96-438e-f8d5-f367866e7ffc"
      },
      "source": [
        "train_losses_handmade_drop, train_accuracies_handmade_drop, test_losses_handmade_drop, test_accuracies_handmade_drop, time_it_handmade_drop = train(\n",
        "    train_dataloader, test_dataloader, model, loss_fn, optimizer, device, num_epochs\n",
        ")"
      ],
      "execution_count": null,
      "outputs": [
        {
          "output_type": "stream",
          "text": [
            "Epoch: 1/15. Loss (Train/Test): 0.031/0.032. Accuracy (Train/Test): 0.220/0.215\n",
            "Epoch: 2/15. Loss (Train/Test): 0.028/0.028. Accuracy (Train/Test): 0.324/0.327\n",
            "Epoch: 3/15. Loss (Train/Test): 0.026/0.026. Accuracy (Train/Test): 0.367/0.355\n",
            "Epoch: 4/15. Loss (Train/Test): 0.024/0.025. Accuracy (Train/Test): 0.398/0.370\n",
            "Epoch: 5/15. Loss (Train/Test): 0.023/0.025. Accuracy (Train/Test): 0.423/0.386\n",
            "Epoch: 6/15. Loss (Train/Test): 0.022/0.025. Accuracy (Train/Test): 0.444/0.391\n",
            "Epoch: 7/15. Loss (Train/Test): 0.021/0.025. Accuracy (Train/Test): 0.462/0.397\n",
            "Epoch: 8/15. Loss (Train/Test): 0.020/0.025. Accuracy (Train/Test): 0.482/0.399\n",
            "Epoch: 9/15. Loss (Train/Test): 0.020/0.025. Accuracy (Train/Test): 0.510/0.395\n",
            "Epoch: 10/15. Loss (Train/Test): 0.019/0.025. Accuracy (Train/Test): 0.535/0.389\n",
            "Epoch: 11/15. Loss (Train/Test): 0.018/0.026. Accuracy (Train/Test): 0.572/0.368\n",
            "Epoch: 12/15. Loss (Train/Test): 0.016/0.027. Accuracy (Train/Test): 0.604/0.382\n",
            "Epoch: 13/15. Loss (Train/Test): 0.015/0.028. Accuracy (Train/Test): 0.641/0.368\n",
            "Epoch: 14/15. Loss (Train/Test): 0.013/0.029. Accuracy (Train/Test): 0.687/0.369\n",
            "Epoch: 15/15. Loss (Train/Test): 0.012/0.031. Accuracy (Train/Test): 0.729/0.363\n"
          ],
          "name": "stdout"
        }
      ]
    },
    {
      "cell_type": "code",
      "metadata": {
        "id": "cugD3xaZaw8d"
      },
      "source": [
        "model = RNNClassifier(\n",
        "    embedding_dim=embedding_dim, hidden_dim=hidden_dim, output_size=10, vocab=vocab,\n",
        "    rec_layer=HandmadeLSTM, dropout=0.25\n",
        ").to(device)"
      ],
      "execution_count": null,
      "outputs": []
    },
    {
      "cell_type": "code",
      "metadata": {
        "id": "MSRCRKyIaxFC"
      },
      "source": [
        "loss_fn = torch.nn.CrossEntropyLoss(reduction='mean').to(device)\n",
        "optimizer = torch.optim.Adam(model.parameters(), lr=learning_rate)"
      ],
      "execution_count": null,
      "outputs": []
    },
    {
      "cell_type": "code",
      "metadata": {
        "ExecuteTime": {
          "end_time": "2021-04-01T23:33:28.808063Z",
          "start_time": "2021-04-01T23:01:53.049547Z"
        },
        "id": "cyofXCYlvNpr",
        "colab": {
          "base_uri": "https://localhost:8080/"
        },
        "outputId": "8422fac9-414d-4c0e-ca42-92e9bf6b02b7"
      },
      "source": [
        "train_losses_handmade_with_drop, train_accuracies_handmade_with_drop, test_losses_handmade_with_drop, test_accuracies_handmade_with_drop, time_it_handmade_with_drop = train(\n",
        "    train_dataloader, test_dataloader, model, loss_fn, optimizer, device, num_epochs\n",
        ")"
      ],
      "execution_count": null,
      "outputs": [
        {
          "output_type": "stream",
          "text": [
            "Epoch: 1/15. Loss (Train/Test): 0.032/0.031. Accuracy (Train/Test): 0.236/0.240\n",
            "Epoch: 2/15. Loss (Train/Test): 0.029/0.029. Accuracy (Train/Test): 0.300/0.302\n",
            "Epoch: 3/15. Loss (Train/Test): 0.027/0.028. Accuracy (Train/Test): 0.340/0.344\n",
            "Epoch: 4/15. Loss (Train/Test): 0.026/0.026. Accuracy (Train/Test): 0.355/0.355\n",
            "Epoch: 5/15. Loss (Train/Test): 0.025/0.026. Accuracy (Train/Test): 0.370/0.365\n",
            "Epoch: 6/15. Loss (Train/Test): 0.025/0.026. Accuracy (Train/Test): 0.380/0.371\n",
            "Epoch: 7/15. Loss (Train/Test): 0.024/0.025. Accuracy (Train/Test): 0.387/0.373\n",
            "Epoch: 8/15. Loss (Train/Test): 0.024/0.025. Accuracy (Train/Test): 0.405/0.381\n",
            "Epoch: 9/15. Loss (Train/Test): 0.023/0.025. Accuracy (Train/Test): 0.408/0.388\n",
            "Epoch: 10/15. Loss (Train/Test): 0.023/0.024. Accuracy (Train/Test): 0.421/0.394\n",
            "Epoch: 11/15. Loss (Train/Test): 0.022/0.024. Accuracy (Train/Test): 0.430/0.398\n",
            "Epoch: 12/15. Loss (Train/Test): 0.022/0.024. Accuracy (Train/Test): 0.433/0.399\n",
            "Epoch: 13/15. Loss (Train/Test): 0.022/0.024. Accuracy (Train/Test): 0.443/0.401\n",
            "Epoch: 14/15. Loss (Train/Test): 0.022/0.024. Accuracy (Train/Test): 0.447/0.395\n",
            "Epoch: 15/15. Loss (Train/Test): 0.021/0.024. Accuracy (Train/Test): 0.460/0.399\n"
          ],
          "name": "stdout"
        }
      ]
    },
    {
      "cell_type": "markdown",
      "metadata": {
        "id": "ZKubaBMijRvs"
      },
      "source": [
        "На тесте качество примерно равно для обеих моделей дропаута."
      ]
    },
    {
      "cell_type": "markdown",
      "metadata": {
        "ExecuteTime": {
          "end_time": "2021-04-01T23:33:28.831346Z",
          "start_time": "2021-04-01T23:33:28.810453Z"
        },
        "id": "cB0REqMwvNpr"
      },
      "source": [
        "## Сравнение всех предложенных моделей. (1 балл)"
      ]
    },
    {
      "cell_type": "markdown",
      "metadata": {
        "ExecuteTime": {
          "end_time": "2021-04-01T23:48:05.361634Z",
          "start_time": "2021-04-01T23:48:05.333901Z"
        },
        "id": "HhYFBLmZvNps"
      },
      "source": [
        "Используя замеры времени заполните табличку с временем работы четырёх реализованных моделей в следующей ячейке:"
      ]
    },
    {
      "cell_type": "markdown",
      "metadata": {
        "id": "2vB2BVuavNpv"
      },
      "source": [
        "|               | torch.nn.LSTM | RNNLayer | FastRNNLayer | HandmadeLSTM |\n",
        "|---------------|---------------|----------|--------------|--------------|\n",
        "|  with   drop  |      -        | 9m 38s  | 2m 50s       | 24m 4s      |\n",
        "| without  drop | 2m 33s        | 9m 41s  | 2m 47s       | 23m 45s      |"
      ]
    },
    {
      "cell_type": "code",
      "metadata": {
        "ExecuteTime": {
          "end_time": "2021-04-02T00:05:14.722913Z",
          "start_time": "2021-04-02T00:05:14.448857Z"
        },
        "id": "CiQoQCZYvNpw"
      },
      "source": [
        "import matplotlib.pyplot as plt"
      ],
      "execution_count": null,
      "outputs": []
    },
    {
      "cell_type": "markdown",
      "metadata": {
        "id": "lEqOgx-8vNpw"
      },
      "source": [
        "Крайне желательно рисовать графики в векторном формате. \n",
        "\n",
        "Если по каким-то причинам, отрисовка не будет работать, закомментируйте следующую ячейку."
      ]
    },
    {
      "cell_type": "code",
      "metadata": {
        "ExecuteTime": {
          "end_time": "2021-04-02T00:05:14.745238Z",
          "start_time": "2021-04-02T00:05:14.724188Z"
        },
        "id": "mxPUm6nHvNpw"
      },
      "source": [
        "%matplotlib inline\n",
        "\n",
        "from IPython.display import set_matplotlib_formats\n",
        "\n",
        "set_matplotlib_formats('pdf', 'svg')"
      ],
      "execution_count": null,
      "outputs": []
    },
    {
      "cell_type": "markdown",
      "metadata": {
        "id": "uCLlsfDlvNpx"
      },
      "source": [
        "Нарисуйте два графика -- функция потерь и качество на обучающей и тестовой выборке для всех 7 моделей обученных выше."
      ]
    },
    {
      "cell_type": "code",
      "metadata": {
        "ExecuteTime": {
          "end_time": "2021-04-01T23:40:37.809057Z",
          "start_time": "2021-04-01T23:40:36.694896Z"
        },
        "id": "lGt_PvS_vNpx",
        "colab": {
          "base_uri": "https://localhost:8080/",
          "height": 970
        },
        "outputId": "da886805-8ff3-4a19-a581-0e2859f19284"
      },
      "source": [
        "fig, axes = plt.subplots(2, 1, figsize=(10, 10))\n",
        "\n",
        "axes[0].plot(np.arange(len(train_losses_pure)), train_losses_pure,\n",
        "             label='Base', linestyle='-')\n",
        "axes[0].plot(np.arange(len(test_losses_pure)), test_losses_pure,\n",
        "             label='Base', linestyle='--')\n",
        "axes[0].plot(np.arange(len(train_losses_no_drop)), train_losses_no_drop,\n",
        "             label='VarDropCheck', linestyle='-')\n",
        "axes[0].plot(np.arange(len(test_losses_drop)), test_losses_drop,\n",
        "             label='VarDropCheck', linestyle='--')\n",
        "axes[0].plot(np.arange(len(train_losses_drop)), train_losses_drop,\n",
        "             label='VarDrop', linestyle='-')\n",
        "axes[0].plot(np.arange(len(test_losses_drop)), test_losses_drop,\n",
        "             label='VarDrop', linestyle='--')\n",
        "axes[0].plot(np.arange(len(train_losses_fast_no_drop)), train_losses_fast_no_drop,\n",
        "             label='FastVarDropCheck', linestyle='-')\n",
        "axes[0].plot(np.arange(len(test_losses_fast_no_drop)), test_losses_fast_no_drop,\n",
        "             label='FastVarDropCheck', linestyle='--')\n",
        "axes[0].plot(np.arange(len(train_losses_fast_drop)), train_losses_fast_drop,\n",
        "             label='FastVarDrop', linestyle='-')\n",
        "axes[0].plot(np.arange(len(test_losses_fast_drop)), test_losses_fast_drop,\n",
        "             label='FastVarDrop', linestyle='--')\n",
        "axes[0].plot(np.arange(len(train_losses_handmade_drop)), train_losses_handmade_drop,\n",
        "             label='HandmadeCheck', linestyle='-')\n",
        "axes[0].plot(np.arange(len(test_losses_handmade_drop)), test_losses_handmade_drop,\n",
        "             label='HandmadeCheck', linestyle='--')\n",
        "axes[0].plot(np.arange(len(train_losses_handmade_with_drop)), train_losses_handmade_with_drop,\n",
        "             label='Handmade', linestyle='-')\n",
        "axes[0].plot(np.arange(len(test_losses_handmade_with_drop)), test_losses_handmade_with_drop,\n",
        "             label='Handmade', linestyle='--')\n",
        "\n",
        "axes[1].plot(np.arange(len(train_accuracies_pure)), train_accuracies_pure,\n",
        "             label='Base', linestyle='-')\n",
        "axes[1].plot(np.arange(len(test_accuracies_pure)), test_accuracies_pure,\n",
        "             label='Base', linestyle='--')\n",
        "axes[1].plot(np.arange(len(train_accuracies_no_drop)), train_accuracies_no_drop,\n",
        "             label='VarDropCheck', linestyle='-')\n",
        "axes[1].plot(np.arange(len(test_accuracies_drop)), test_accuracies_drop,\n",
        "             label='VarDropCheck', linestyle='--')\n",
        "axes[1].plot(np.arange(len(train_accuracies_drop)), train_accuracies_drop,\n",
        "             label='VarDrop', linestyle='-')\n",
        "axes[1].plot(np.arange(len(test_accuracies_drop)), test_accuracies_drop,\n",
        "             label='VarDrop', linestyle='--')\n",
        "axes[1].plot(np.arange(len(train_accuracies_fast_no_drop)), train_accuracies_fast_no_drop,\n",
        "             label='FastVarDropCheck', linestyle='-')\n",
        "axes[1].plot(np.arange(len(test_accuracies_fast_no_drop)), test_accuracies_fast_no_drop,\n",
        "             label='FastVarDropCheck', linestyle='--')\n",
        "axes[1].plot(np.arange(len(train_accuracies_fast_drop)), train_accuracies_fast_drop,\n",
        "             label='FastVarDrop', linestyle='-')\n",
        "axes[1].plot(np.arange(len(test_accuracies_fast_drop)), test_accuracies_fast_drop,\n",
        "             label='FastVarDrop', linestyle='--')\n",
        "axes[1].plot(np.arange(len(train_accuracies_handmade_drop)), train_accuracies_handmade_drop,\n",
        "             label='HandmadeCheck', linestyle='-')\n",
        "axes[1].plot(np.arange(len(test_accuracies_handmade_drop)), test_accuracies_handmade_drop,\n",
        "             label='HandmadeCheck', linestyle='--')\n",
        "axes[1].plot(np.arange(len(train_accuracies_handmade_with_drop)), train_accuracies_handmade_with_drop,\n",
        "             label='Handmade', linestyle='-')\n",
        "axes[1].plot(np.arange(len(test_accuracies_handmade_with_drop)), test_accuracies_handmade_with_drop,\n",
        "             label='Handmade', linestyle='--')\n",
        "\n",
        "axes[0].legend()\n",
        "axes[0].grid(True)\n",
        "axes[0].set_xlabel('Epoch')\n",
        "axes[0].set_title('CrossEntropy Loss')\n",
        "\n",
        "axes[1].legend()\n",
        "axes[1].grid(True)\n",
        "axes[1].set_xlabel('Epoch')\n",
        "axes[1].set_title('Accuracy')\n",
        "\n",
        "fig.tight_layout()\n",
        "plt.show()"
      ],
      "execution_count": null,
      "outputs": [
        {
          "output_type": "display_data",
          "data": {
            "application/pdf": "[encoded data removed]",
            "text/plain": [
              "<Figure size 720x720 with 2 Axes>"
            ],
            "image/svg+xml": "<?xml version=\"1.0\" encoding=\"utf-8\" standalone=\"no\"?>\n<!DOCTYPE svg PUBLIC \"-//W3C//DTD SVG 1.1//EN\"\n  \"http://www.w3.org/Graphics/SVG/1.1/DTD/svg11.dtd\">\n<!-- Created with matplotlib (https://matplotlib.org/) -->\n<svg height=\"711.274375pt\" version=\"1.1\" viewBox=\"0 0 712.928125 711.274375\" width=\"712.928125pt\" xmlns=\"http://www.w3.org/2000/svg\" xmlns:xlink=\"http://www.w3.org/1999/xlink\">\n <defs>\n  <style type=\"text/css\">\n*{stroke-linecap:butt;stroke-linejoin:round;}\n  </style>\n </defs>\n <g id=\"figure_1\">\n  <g id=\"patch_1\">\n   <path d=\"M 0 711.274375 \nL 712.928125 711.274375 \nL 712.928125 0 \nL 0 0 \nz\n\" style=\"fill:none;\"/>\n  </g>\n  <g id=\"axes_1\">\n   <g id=\"patch_2\">\n    <path d=\"M 42.828125 319.118125 \nL 705.728125 319.118125 \nL 705.728125 22.318125 \nL 42.828125 22.318125 \nz\n\" style=\"fill:#ffffff;\"/>\n   </g>\n   <g id=\"matplotlib.axis_1\">\n    <g id=\"xtick_1\">\n     <g id=\"line2d_1\">\n      <path clip-path=\"url(#pa304f8d111)\" d=\"M 72.959943 319.118125 \nL 72.959943 22.318125 \n\" style=\"fill:none;stroke:#b0b0b0;stroke-linecap:square;stroke-width:0.8;\"/>\n     </g>\n     <g id=\"line2d_2\">\n      <defs>\n       <path d=\"M 0 0 \nL 0 3.5 \n\" id=\"m97b07fd60a\" style=\"stroke:#000000;stroke-width:0.8;\"/>\n      </defs>\n      <g>\n       <use style=\"stroke:#000000;stroke-width:0.8;\" x=\"72.959943\" xlink:href=\"#m97b07fd60a\" y=\"319.118125\"/>\n      </g>\n     </g>\n     <g id=\"text_1\">\n      <!-- 0 -->\n      <defs>\n       <path d=\"M 31.78125 66.40625 \nQ 24.171875 66.40625 20.328125 58.90625 \nQ 16.5 51.421875 16.5 36.375 \nQ 16.5 21.390625 20.328125 13.890625 \nQ 24.171875 6.390625 31.78125 6.390625 \nQ 39.453125 6.390625 43.28125 13.890625 \nQ 47.125 21.390625 47.125 36.375 \nQ 47.125 51.421875 43.28125 58.90625 \nQ 39.453125 66.40625 31.78125 66.40625 \nz\nM 31.78125 74.21875 \nQ 44.046875 74.21875 50.515625 64.515625 \nQ 56.984375 54.828125 56.984375 36.375 \nQ 56.984375 17.96875 50.515625 8.265625 \nQ 44.046875 -1.421875 31.78125 -1.421875 \nQ 19.53125 -1.421875 13.0625 8.265625 \nQ 6.59375 17.96875 6.59375 36.375 \nQ 6.59375 54.828125 13.0625 64.515625 \nQ 19.53125 74.21875 31.78125 74.21875 \nz\n\" id=\"DejaVuSans-48\"/>\n      </defs>\n      <g transform=\"translate(69.778693 333.716562)scale(0.1 -0.1)\">\n       <use xlink:href=\"#DejaVuSans-48\"/>\n      </g>\n     </g>\n    </g>\n    <g id=\"xtick_2\">\n     <g id=\"line2d_3\">\n      <path clip-path=\"url(#pa304f8d111)\" d=\"M 159.050852 319.118125 \nL 159.050852 22.318125 \n\" style=\"fill:none;stroke:#b0b0b0;stroke-linecap:square;stroke-width:0.8;\"/>\n     </g>\n     <g id=\"line2d_4\">\n      <g>\n       <use style=\"stroke:#000000;stroke-width:0.8;\" x=\"159.050852\" xlink:href=\"#m97b07fd60a\" y=\"319.118125\"/>\n      </g>\n     </g>\n     <g id=\"text_2\">\n      <!-- 2 -->\n      <defs>\n       <path d=\"M 19.1875 8.296875 \nL 53.609375 8.296875 \nL 53.609375 0 \nL 7.328125 0 \nL 7.328125 8.296875 \nQ 12.9375 14.109375 22.625 23.890625 \nQ 32.328125 33.6875 34.8125 36.53125 \nQ 39.546875 41.84375 41.421875 45.53125 \nQ 43.3125 49.21875 43.3125 52.78125 \nQ 43.3125 58.59375 39.234375 62.25 \nQ 35.15625 65.921875 28.609375 65.921875 \nQ 23.96875 65.921875 18.8125 64.3125 \nQ 13.671875 62.703125 7.8125 59.421875 \nL 7.8125 69.390625 \nQ 13.765625 71.78125 18.9375 73 \nQ 24.125 74.21875 28.421875 74.21875 \nQ 39.75 74.21875 46.484375 68.546875 \nQ 53.21875 62.890625 53.21875 53.421875 \nQ 53.21875 48.921875 51.53125 44.890625 \nQ 49.859375 40.875 45.40625 35.40625 \nQ 44.1875 33.984375 37.640625 27.21875 \nQ 31.109375 20.453125 19.1875 8.296875 \nz\n\" id=\"DejaVuSans-50\"/>\n      </defs>\n      <g transform=\"translate(155.869602 333.716562)scale(0.1 -0.1)\">\n       <use xlink:href=\"#DejaVuSans-50\"/>\n      </g>\n     </g>\n    </g>\n    <g id=\"xtick_3\">\n     <g id=\"line2d_5\">\n      <path clip-path=\"url(#pa304f8d111)\" d=\"M 245.141761 319.118125 \nL 245.141761 22.318125 \n\" style=\"fill:none;stroke:#b0b0b0;stroke-linecap:square;stroke-width:0.8;\"/>\n     </g>\n     <g id=\"line2d_6\">\n      <g>\n       <use style=\"stroke:#000000;stroke-width:0.8;\" x=\"245.141761\" xlink:href=\"#m97b07fd60a\" y=\"319.118125\"/>\n      </g>\n     </g>\n     <g id=\"text_3\">\n      <!-- 4 -->\n      <defs>\n       <path d=\"M 37.796875 64.3125 \nL 12.890625 25.390625 \nL 37.796875 25.390625 \nz\nM 35.203125 72.90625 \nL 47.609375 72.90625 \nL 47.609375 25.390625 \nL 58.015625 25.390625 \nL 58.015625 17.1875 \nL 47.609375 17.1875 \nL 47.609375 0 \nL 37.796875 0 \nL 37.796875 17.1875 \nL 4.890625 17.1875 \nL 4.890625 26.703125 \nz\n\" id=\"DejaVuSans-52\"/>\n      </defs>\n      <g transform=\"translate(241.960511 333.716562)scale(0.1 -0.1)\">\n       <use xlink:href=\"#DejaVuSans-52\"/>\n      </g>\n     </g>\n    </g>\n    <g id=\"xtick_4\">\n     <g id=\"line2d_7\">\n      <path clip-path=\"url(#pa304f8d111)\" d=\"M 331.23267 319.118125 \nL 331.23267 22.318125 \n\" style=\"fill:none;stroke:#b0b0b0;stroke-linecap:square;stroke-width:0.8;\"/>\n     </g>\n     <g id=\"line2d_8\">\n      <g>\n       <use style=\"stroke:#000000;stroke-width:0.8;\" x=\"331.23267\" xlink:href=\"#m97b07fd60a\" y=\"319.118125\"/>\n      </g>\n     </g>\n     <g id=\"text_4\">\n      <!-- 6 -->\n      <defs>\n       <path d=\"M 33.015625 40.375 \nQ 26.375 40.375 22.484375 35.828125 \nQ 18.609375 31.296875 18.609375 23.390625 \nQ 18.609375 15.53125 22.484375 10.953125 \nQ 26.375 6.390625 33.015625 6.390625 \nQ 39.65625 6.390625 43.53125 10.953125 \nQ 47.40625 15.53125 47.40625 23.390625 \nQ 47.40625 31.296875 43.53125 35.828125 \nQ 39.65625 40.375 33.015625 40.375 \nz\nM 52.59375 71.296875 \nL 52.59375 62.3125 \nQ 48.875 64.0625 45.09375 64.984375 \nQ 41.3125 65.921875 37.59375 65.921875 \nQ 27.828125 65.921875 22.671875 59.328125 \nQ 17.53125 52.734375 16.796875 39.40625 \nQ 19.671875 43.65625 24.015625 45.921875 \nQ 28.375 48.1875 33.59375 48.1875 \nQ 44.578125 48.1875 50.953125 41.515625 \nQ 57.328125 34.859375 57.328125 23.390625 \nQ 57.328125 12.15625 50.6875 5.359375 \nQ 44.046875 -1.421875 33.015625 -1.421875 \nQ 20.359375 -1.421875 13.671875 8.265625 \nQ 6.984375 17.96875 6.984375 36.375 \nQ 6.984375 53.65625 15.1875 63.9375 \nQ 23.390625 74.21875 37.203125 74.21875 \nQ 40.921875 74.21875 44.703125 73.484375 \nQ 48.484375 72.75 52.59375 71.296875 \nz\n\" id=\"DejaVuSans-54\"/>\n      </defs>\n      <g transform=\"translate(328.05142 333.716562)scale(0.1 -0.1)\">\n       <use xlink:href=\"#DejaVuSans-54\"/>\n      </g>\n     </g>\n    </g>\n    <g id=\"xtick_5\">\n     <g id=\"line2d_9\">\n      <path clip-path=\"url(#pa304f8d111)\" d=\"M 417.32358 319.118125 \nL 417.32358 22.318125 \n\" style=\"fill:none;stroke:#b0b0b0;stroke-linecap:square;stroke-width:0.8;\"/>\n     </g>\n     <g id=\"line2d_10\">\n      <g>\n       <use style=\"stroke:#000000;stroke-width:0.8;\" x=\"417.32358\" xlink:href=\"#m97b07fd60a\" y=\"319.118125\"/>\n      </g>\n     </g>\n     <g id=\"text_5\">\n      <!-- 8 -->\n      <defs>\n       <path d=\"M 31.78125 34.625 \nQ 24.75 34.625 20.71875 30.859375 \nQ 16.703125 27.09375 16.703125 20.515625 \nQ 16.703125 13.921875 20.71875 10.15625 \nQ 24.75 6.390625 31.78125 6.390625 \nQ 38.8125 6.390625 42.859375 10.171875 \nQ 46.921875 13.96875 46.921875 20.515625 \nQ 46.921875 27.09375 42.890625 30.859375 \nQ 38.875 34.625 31.78125 34.625 \nz\nM 21.921875 38.8125 \nQ 15.578125 40.375 12.03125 44.71875 \nQ 8.5 49.078125 8.5 55.328125 \nQ 8.5 64.0625 14.71875 69.140625 \nQ 20.953125 74.21875 31.78125 74.21875 \nQ 42.671875 74.21875 48.875 69.140625 \nQ 55.078125 64.0625 55.078125 55.328125 \nQ 55.078125 49.078125 51.53125 44.71875 \nQ 48 40.375 41.703125 38.8125 \nQ 48.828125 37.15625 52.796875 32.3125 \nQ 56.78125 27.484375 56.78125 20.515625 \nQ 56.78125 9.90625 50.3125 4.234375 \nQ 43.84375 -1.421875 31.78125 -1.421875 \nQ 19.734375 -1.421875 13.25 4.234375 \nQ 6.78125 9.90625 6.78125 20.515625 \nQ 6.78125 27.484375 10.78125 32.3125 \nQ 14.796875 37.15625 21.921875 38.8125 \nz\nM 18.3125 54.390625 \nQ 18.3125 48.734375 21.84375 45.5625 \nQ 25.390625 42.390625 31.78125 42.390625 \nQ 38.140625 42.390625 41.71875 45.5625 \nQ 45.3125 48.734375 45.3125 54.390625 \nQ 45.3125 60.0625 41.71875 63.234375 \nQ 38.140625 66.40625 31.78125 66.40625 \nQ 25.390625 66.40625 21.84375 63.234375 \nQ 18.3125 60.0625 18.3125 54.390625 \nz\n\" id=\"DejaVuSans-56\"/>\n      </defs>\n      <g transform=\"translate(414.14233 333.716562)scale(0.1 -0.1)\">\n       <use xlink:href=\"#DejaVuSans-56\"/>\n      </g>\n     </g>\n    </g>\n    <g id=\"xtick_6\">\n     <g id=\"line2d_11\">\n      <path clip-path=\"url(#pa304f8d111)\" d=\"M 503.414489 319.118125 \nL 503.414489 22.318125 \n\" style=\"fill:none;stroke:#b0b0b0;stroke-linecap:square;stroke-width:0.8;\"/>\n     </g>\n     <g id=\"line2d_12\">\n      <g>\n       <use style=\"stroke:#000000;stroke-width:0.8;\" x=\"503.414489\" xlink:href=\"#m97b07fd60a\" y=\"319.118125\"/>\n      </g>\n     </g>\n     <g id=\"text_6\">\n      <!-- 10 -->\n      <defs>\n       <path d=\"M 12.40625 8.296875 \nL 28.515625 8.296875 \nL 28.515625 63.921875 \nL 10.984375 60.40625 \nL 10.984375 69.390625 \nL 28.421875 72.90625 \nL 38.28125 72.90625 \nL 38.28125 8.296875 \nL 54.390625 8.296875 \nL 54.390625 0 \nL 12.40625 0 \nz\n\" id=\"DejaVuSans-49\"/>\n      </defs>\n      <g transform=\"translate(497.051989 333.716562)scale(0.1 -0.1)\">\n       <use xlink:href=\"#DejaVuSans-49\"/>\n       <use x=\"63.623047\" xlink:href=\"#DejaVuSans-48\"/>\n      </g>\n     </g>\n    </g>\n    <g id=\"xtick_7\">\n     <g id=\"line2d_13\">\n      <path clip-path=\"url(#pa304f8d111)\" d=\"M 589.505398 319.118125 \nL 589.505398 22.318125 \n\" style=\"fill:none;stroke:#b0b0b0;stroke-linecap:square;stroke-width:0.8;\"/>\n     </g>\n     <g id=\"line2d_14\">\n      <g>\n       <use style=\"stroke:#000000;stroke-width:0.8;\" x=\"589.505398\" xlink:href=\"#m97b07fd60a\" y=\"319.118125\"/>\n      </g>\n     </g>\n     <g id=\"text_7\">\n      <!-- 12 -->\n      <g transform=\"translate(583.142898 333.716562)scale(0.1 -0.1)\">\n       <use xlink:href=\"#DejaVuSans-49\"/>\n       <use x=\"63.623047\" xlink:href=\"#DejaVuSans-50\"/>\n      </g>\n     </g>\n    </g>\n    <g id=\"xtick_8\">\n     <g id=\"line2d_15\">\n      <path clip-path=\"url(#pa304f8d111)\" d=\"M 675.596307 319.118125 \nL 675.596307 22.318125 \n\" style=\"fill:none;stroke:#b0b0b0;stroke-linecap:square;stroke-width:0.8;\"/>\n     </g>\n     <g id=\"line2d_16\">\n      <g>\n       <use style=\"stroke:#000000;stroke-width:0.8;\" x=\"675.596307\" xlink:href=\"#m97b07fd60a\" y=\"319.118125\"/>\n      </g>\n     </g>\n     <g id=\"text_8\">\n      <!-- 14 -->\n      <g transform=\"translate(669.233807 333.716562)scale(0.1 -0.1)\">\n       <use xlink:href=\"#DejaVuSans-49\"/>\n       <use x=\"63.623047\" xlink:href=\"#DejaVuSans-52\"/>\n      </g>\n     </g>\n    </g>\n    <g id=\"text_9\">\n     <!-- Epoch -->\n     <defs>\n      <path d=\"M 9.8125 72.90625 \nL 55.90625 72.90625 \nL 55.90625 64.59375 \nL 19.671875 64.59375 \nL 19.671875 43.015625 \nL 54.390625 43.015625 \nL 54.390625 34.71875 \nL 19.671875 34.71875 \nL 19.671875 8.296875 \nL 56.78125 8.296875 \nL 56.78125 0 \nL 9.8125 0 \nz\n\" id=\"DejaVuSans-69\"/>\n      <path d=\"M 18.109375 8.203125 \nL 18.109375 -20.796875 \nL 9.078125 -20.796875 \nL 9.078125 54.6875 \nL 18.109375 54.6875 \nL 18.109375 46.390625 \nQ 20.953125 51.265625 25.265625 53.625 \nQ 29.59375 56 35.59375 56 \nQ 45.5625 56 51.78125 48.09375 \nQ 58.015625 40.1875 58.015625 27.296875 \nQ 58.015625 14.40625 51.78125 6.484375 \nQ 45.5625 -1.421875 35.59375 -1.421875 \nQ 29.59375 -1.421875 25.265625 0.953125 \nQ 20.953125 3.328125 18.109375 8.203125 \nz\nM 48.6875 27.296875 \nQ 48.6875 37.203125 44.609375 42.84375 \nQ 40.53125 48.484375 33.40625 48.484375 \nQ 26.265625 48.484375 22.1875 42.84375 \nQ 18.109375 37.203125 18.109375 27.296875 \nQ 18.109375 17.390625 22.1875 11.75 \nQ 26.265625 6.109375 33.40625 6.109375 \nQ 40.53125 6.109375 44.609375 11.75 \nQ 48.6875 17.390625 48.6875 27.296875 \nz\n\" id=\"DejaVuSans-112\"/>\n      <path d=\"M 30.609375 48.390625 \nQ 23.390625 48.390625 19.1875 42.75 \nQ 14.984375 37.109375 14.984375 27.296875 \nQ 14.984375 17.484375 19.15625 11.84375 \nQ 23.34375 6.203125 30.609375 6.203125 \nQ 37.796875 6.203125 41.984375 11.859375 \nQ 46.1875 17.53125 46.1875 27.296875 \nQ 46.1875 37.015625 41.984375 42.703125 \nQ 37.796875 48.390625 30.609375 48.390625 \nz\nM 30.609375 56 \nQ 42.328125 56 49.015625 48.375 \nQ 55.71875 40.765625 55.71875 27.296875 \nQ 55.71875 13.875 49.015625 6.21875 \nQ 42.328125 -1.421875 30.609375 -1.421875 \nQ 18.84375 -1.421875 12.171875 6.21875 \nQ 5.515625 13.875 5.515625 27.296875 \nQ 5.515625 40.765625 12.171875 48.375 \nQ 18.84375 56 30.609375 56 \nz\n\" id=\"DejaVuSans-111\"/>\n      <path d=\"M 48.78125 52.59375 \nL 48.78125 44.1875 \nQ 44.96875 46.296875 41.140625 47.34375 \nQ 37.3125 48.390625 33.40625 48.390625 \nQ 24.65625 48.390625 19.8125 42.84375 \nQ 14.984375 37.3125 14.984375 27.296875 \nQ 14.984375 17.28125 19.8125 11.734375 \nQ 24.65625 6.203125 33.40625 6.203125 \nQ 37.3125 6.203125 41.140625 7.25 \nQ 44.96875 8.296875 48.78125 10.40625 \nL 48.78125 2.09375 \nQ 45.015625 0.34375 40.984375 -0.53125 \nQ 36.96875 -1.421875 32.421875 -1.421875 \nQ 20.0625 -1.421875 12.78125 6.34375 \nQ 5.515625 14.109375 5.515625 27.296875 \nQ 5.515625 40.671875 12.859375 48.328125 \nQ 20.21875 56 33.015625 56 \nQ 37.15625 56 41.109375 55.140625 \nQ 45.0625 54.296875 48.78125 52.59375 \nz\n\" id=\"DejaVuSans-99\"/>\n      <path d=\"M 54.890625 33.015625 \nL 54.890625 0 \nL 45.90625 0 \nL 45.90625 32.71875 \nQ 45.90625 40.484375 42.875 44.328125 \nQ 39.84375 48.1875 33.796875 48.1875 \nQ 26.515625 48.1875 22.3125 43.546875 \nQ 18.109375 38.921875 18.109375 30.90625 \nL 18.109375 0 \nL 9.078125 0 \nL 9.078125 75.984375 \nL 18.109375 75.984375 \nL 18.109375 46.1875 \nQ 21.34375 51.125 25.703125 53.5625 \nQ 30.078125 56 35.796875 56 \nQ 45.21875 56 50.046875 50.171875 \nQ 54.890625 44.34375 54.890625 33.015625 \nz\n\" id=\"DejaVuSans-104\"/>\n     </defs>\n     <g transform=\"translate(358.967187 347.394687)scale(0.1 -0.1)\">\n      <use xlink:href=\"#DejaVuSans-69\"/>\n      <use x=\"63.183594\" xlink:href=\"#DejaVuSans-112\"/>\n      <use x=\"126.660156\" xlink:href=\"#DejaVuSans-111\"/>\n      <use x=\"187.841797\" xlink:href=\"#DejaVuSans-99\"/>\n      <use x=\"242.822266\" xlink:href=\"#DejaVuSans-104\"/>\n     </g>\n    </g>\n   </g>\n   <g id=\"matplotlib.axis_2\">\n    <g id=\"ytick_1\">\n     <g id=\"line2d_17\">\n      <path clip-path=\"url(#pa304f8d111)\" d=\"M 42.828125 315.50301 \nL 705.728125 315.50301 \n\" style=\"fill:none;stroke:#b0b0b0;stroke-linecap:square;stroke-width:0.8;\"/>\n     </g>\n     <g id=\"line2d_18\">\n      <defs>\n       <path d=\"M 0 0 \nL -3.5 0 \n\" id=\"mda8f0d9653\" style=\"stroke:#000000;stroke-width:0.8;\"/>\n      </defs>\n      <g>\n       <use style=\"stroke:#000000;stroke-width:0.8;\" x=\"42.828125\" xlink:href=\"#mda8f0d9653\" y=\"315.50301\"/>\n      </g>\n     </g>\n     <g id=\"text_10\">\n      <!-- 0.010 -->\n      <defs>\n       <path d=\"M 10.6875 12.40625 \nL 21 12.40625 \nL 21 0 \nL 10.6875 0 \nz\n\" id=\"DejaVuSans-46\"/>\n      </defs>\n      <g transform=\"translate(7.2 319.302228)scale(0.1 -0.1)\">\n       <use xlink:href=\"#DejaVuSans-48\"/>\n       <use x=\"63.623047\" xlink:href=\"#DejaVuSans-46\"/>\n       <use x=\"95.410156\" xlink:href=\"#DejaVuSans-48\"/>\n       <use x=\"159.033203\" xlink:href=\"#DejaVuSans-49\"/>\n       <use x=\"222.65625\" xlink:href=\"#DejaVuSans-48\"/>\n      </g>\n     </g>\n    </g>\n    <g id=\"ytick_2\">\n     <g id=\"line2d_19\">\n      <path clip-path=\"url(#pa304f8d111)\" d=\"M 42.828125 250.643622 \nL 705.728125 250.643622 \n\" style=\"fill:none;stroke:#b0b0b0;stroke-linecap:square;stroke-width:0.8;\"/>\n     </g>\n     <g id=\"line2d_20\">\n      <g>\n       <use style=\"stroke:#000000;stroke-width:0.8;\" x=\"42.828125\" xlink:href=\"#mda8f0d9653\" y=\"250.643622\"/>\n      </g>\n     </g>\n     <g id=\"text_11\">\n      <!-- 0.015 -->\n      <defs>\n       <path d=\"M 10.796875 72.90625 \nL 49.515625 72.90625 \nL 49.515625 64.59375 \nL 19.828125 64.59375 \nL 19.828125 46.734375 \nQ 21.96875 47.46875 24.109375 47.828125 \nQ 26.265625 48.1875 28.421875 48.1875 \nQ 40.625 48.1875 47.75 41.5 \nQ 54.890625 34.8125 54.890625 23.390625 \nQ 54.890625 11.625 47.5625 5.09375 \nQ 40.234375 -1.421875 26.90625 -1.421875 \nQ 22.3125 -1.421875 17.546875 -0.640625 \nQ 12.796875 0.140625 7.71875 1.703125 \nL 7.71875 11.625 \nQ 12.109375 9.234375 16.796875 8.0625 \nQ 21.484375 6.890625 26.703125 6.890625 \nQ 35.15625 6.890625 40.078125 11.328125 \nQ 45.015625 15.765625 45.015625 23.390625 \nQ 45.015625 31 40.078125 35.4375 \nQ 35.15625 39.890625 26.703125 39.890625 \nQ 22.75 39.890625 18.8125 39.015625 \nQ 14.890625 38.140625 10.796875 36.28125 \nz\n\" id=\"DejaVuSans-53\"/>\n      </defs>\n      <g transform=\"translate(7.2 254.442841)scale(0.1 -0.1)\">\n       <use xlink:href=\"#DejaVuSans-48\"/>\n       <use x=\"63.623047\" xlink:href=\"#DejaVuSans-46\"/>\n       <use x=\"95.410156\" xlink:href=\"#DejaVuSans-48\"/>\n       <use x=\"159.033203\" xlink:href=\"#DejaVuSans-49\"/>\n       <use x=\"222.65625\" xlink:href=\"#DejaVuSans-53\"/>\n      </g>\n     </g>\n    </g>\n    <g id=\"ytick_3\">\n     <g id=\"line2d_21\">\n      <path clip-path=\"url(#pa304f8d111)\" d=\"M 42.828125 185.784235 \nL 705.728125 185.784235 \n\" style=\"fill:none;stroke:#b0b0b0;stroke-linecap:square;stroke-width:0.8;\"/>\n     </g>\n     <g id=\"line2d_22\">\n      <g>\n       <use style=\"stroke:#000000;stroke-width:0.8;\" x=\"42.828125\" xlink:href=\"#mda8f0d9653\" y=\"185.784235\"/>\n      </g>\n     </g>\n     <g id=\"text_12\">\n      <!-- 0.020 -->\n      <g transform=\"translate(7.2 189.583453)scale(0.1 -0.1)\">\n       <use xlink:href=\"#DejaVuSans-48\"/>\n       <use x=\"63.623047\" xlink:href=\"#DejaVuSans-46\"/>\n       <use x=\"95.410156\" xlink:href=\"#DejaVuSans-48\"/>\n       <use x=\"159.033203\" xlink:href=\"#DejaVuSans-50\"/>\n       <use x=\"222.65625\" xlink:href=\"#DejaVuSans-48\"/>\n      </g>\n     </g>\n    </g>\n    <g id=\"ytick_4\">\n     <g id=\"line2d_23\">\n      <path clip-path=\"url(#pa304f8d111)\" d=\"M 42.828125 120.924847 \nL 705.728125 120.924847 \n\" style=\"fill:none;stroke:#b0b0b0;stroke-linecap:square;stroke-width:0.8;\"/>\n     </g>\n     <g id=\"line2d_24\">\n      <g>\n       <use style=\"stroke:#000000;stroke-width:0.8;\" x=\"42.828125\" xlink:href=\"#mda8f0d9653\" y=\"120.924847\"/>\n      </g>\n     </g>\n     <g id=\"text_13\">\n      <!-- 0.025 -->\n      <g transform=\"translate(7.2 124.724066)scale(0.1 -0.1)\">\n       <use xlink:href=\"#DejaVuSans-48\"/>\n       <use x=\"63.623047\" xlink:href=\"#DejaVuSans-46\"/>\n       <use x=\"95.410156\" xlink:href=\"#DejaVuSans-48\"/>\n       <use x=\"159.033203\" xlink:href=\"#DejaVuSans-50\"/>\n       <use x=\"222.65625\" xlink:href=\"#DejaVuSans-53\"/>\n      </g>\n     </g>\n    </g>\n    <g id=\"ytick_5\">\n     <g id=\"line2d_25\">\n      <path clip-path=\"url(#pa304f8d111)\" d=\"M 42.828125 56.06546 \nL 705.728125 56.06546 \n\" style=\"fill:none;stroke:#b0b0b0;stroke-linecap:square;stroke-width:0.8;\"/>\n     </g>\n     <g id=\"line2d_26\">\n      <g>\n       <use style=\"stroke:#000000;stroke-width:0.8;\" x=\"42.828125\" xlink:href=\"#mda8f0d9653\" y=\"56.06546\"/>\n      </g>\n     </g>\n     <g id=\"text_14\">\n      <!-- 0.030 -->\n      <defs>\n       <path d=\"M 40.578125 39.3125 \nQ 47.65625 37.796875 51.625 33 \nQ 55.609375 28.21875 55.609375 21.1875 \nQ 55.609375 10.40625 48.1875 4.484375 \nQ 40.765625 -1.421875 27.09375 -1.421875 \nQ 22.515625 -1.421875 17.65625 -0.515625 \nQ 12.796875 0.390625 7.625 2.203125 \nL 7.625 11.71875 \nQ 11.71875 9.328125 16.59375 8.109375 \nQ 21.484375 6.890625 26.8125 6.890625 \nQ 36.078125 6.890625 40.9375 10.546875 \nQ 45.796875 14.203125 45.796875 21.1875 \nQ 45.796875 27.640625 41.28125 31.265625 \nQ 36.765625 34.90625 28.71875 34.90625 \nL 20.21875 34.90625 \nL 20.21875 43.015625 \nL 29.109375 43.015625 \nQ 36.375 43.015625 40.234375 45.921875 \nQ 44.09375 48.828125 44.09375 54.296875 \nQ 44.09375 59.90625 40.109375 62.90625 \nQ 36.140625 65.921875 28.71875 65.921875 \nQ 24.65625 65.921875 20.015625 65.03125 \nQ 15.375 64.15625 9.8125 62.3125 \nL 9.8125 71.09375 \nQ 15.4375 72.65625 20.34375 73.4375 \nQ 25.25 74.21875 29.59375 74.21875 \nQ 40.828125 74.21875 47.359375 69.109375 \nQ 53.90625 64.015625 53.90625 55.328125 \nQ 53.90625 49.265625 50.4375 45.09375 \nQ 46.96875 40.921875 40.578125 39.3125 \nz\n\" id=\"DejaVuSans-51\"/>\n      </defs>\n      <g transform=\"translate(7.2 59.864678)scale(0.1 -0.1)\">\n       <use xlink:href=\"#DejaVuSans-48\"/>\n       <use x=\"63.623047\" xlink:href=\"#DejaVuSans-46\"/>\n       <use x=\"95.410156\" xlink:href=\"#DejaVuSans-48\"/>\n       <use x=\"159.033203\" xlink:href=\"#DejaVuSans-51\"/>\n       <use x=\"222.65625\" xlink:href=\"#DejaVuSans-48\"/>\n      </g>\n     </g>\n    </g>\n   </g>\n   <g id=\"line2d_27\">\n    <path clip-path=\"url(#pa304f8d111)\" d=\"M 72.959943 44.602047 \nL 116.005398 95.838737 \nL 159.050852 115.957786 \nL 202.096307 135.798199 \nL 245.141761 146.956261 \nL 288.187216 158.866873 \nL 331.23267 166.223334 \nL 374.278125 177.728048 \nL 417.32358 189.583957 \nL 460.369034 198.950527 \nL 503.414489 210.994489 \nL 546.459943 224.325247 \nL 589.505398 238.230505 \nL 632.550852 255.452119 \nL 675.596307 271.30893 \n\" style=\"fill:none;stroke:#1f77b4;stroke-linecap:square;stroke-width:1.5;\"/>\n   </g>\n   <g id=\"line2d_28\">\n    <path clip-path=\"url(#pa304f8d111)\" d=\"M 72.959943 44.316983 \nL 116.005398 90.439448 \nL 159.050852 106.971188 \nL 202.096307 118.479357 \nL 245.141761 120.756095 \nL 288.187216 126.464344 \nL 331.23267 122.932801 \nL 374.278125 126.039214 \nL 417.32358 125.239041 \nL 460.369034 113.128512 \nL 503.414489 113.97324 \nL 546.459943 107.39395 \nL 589.505398 89.822809 \nL 632.550852 75.38043 \nL 675.596307 62.976188 \n\" style=\"fill:none;stroke:#ff7f0e;stroke-dasharray:5.55,2.4;stroke-dashoffset:0;stroke-width:1.5;\"/>\n   </g>\n   <g id=\"line2d_29\">\n    <path clip-path=\"url(#pa304f8d111)\" d=\"M 72.959943 53.4703 \nL 116.005398 96.154704 \nL 159.050852 119.623646 \nL 202.096307 141.114178 \nL 245.141761 155.394576 \nL 288.187216 169.230054 \nL 331.23267 178.737851 \nL 374.278125 188.026402 \nL 417.32358 209.159989 \nL 460.369034 211.886309 \nL 503.414489 236.400958 \nL 546.459943 252.620525 \nL 589.505398 267.232413 \nL 632.550852 287.825364 \nL 675.596307 305.627216 \n\" style=\"fill:none;stroke:#2ca02c;stroke-linecap:square;stroke-width:1.5;\"/>\n   </g>\n   <g id=\"line2d_30\">\n    <path clip-path=\"url(#pa304f8d111)\" d=\"M 72.959943 36.368819 \nL 116.005398 68.883581 \nL 159.050852 94.67901 \nL 202.096307 107.877553 \nL 245.141761 117.075062 \nL 288.187216 124.065999 \nL 331.23267 124.17555 \nL 374.278125 132.44502 \nL 417.32358 134.407555 \nL 460.369034 133.846924 \nL 503.414489 135.7052 \nL 546.459943 137.726569 \nL 589.505398 137.523028 \nL 632.550852 138.10166 \nL 675.596307 138.369181 \n\" style=\"fill:none;stroke:#d62728;stroke-dasharray:5.55,2.4;stroke-dashoffset:0;stroke-width:1.5;\"/>\n   </g>\n   <g id=\"line2d_31\">\n    <path clip-path=\"url(#pa304f8d111)\" d=\"M 72.959943 37.52096 \nL 116.005398 71.353059 \nL 159.050852 100.208291 \nL 202.096307 115.909245 \nL 245.141761 126.530065 \nL 288.187216 136.458233 \nL 331.23267 140.20431 \nL 374.278125 151.219478 \nL 417.32358 157.4295 \nL 460.369034 160.562369 \nL 503.414489 164.620281 \nL 546.459943 171.965265 \nL 589.505398 175.197851 \nL 632.550852 179.9222 \nL 675.596307 184.160626 \n\" style=\"fill:none;stroke:#9467bd;stroke-linecap:square;stroke-width:1.5;\"/>\n   </g>\n   <g id=\"line2d_32\">\n    <path clip-path=\"url(#pa304f8d111)\" d=\"M 72.959943 36.368819 \nL 116.005398 68.883581 \nL 159.050852 94.67901 \nL 202.096307 107.877553 \nL 245.141761 117.075062 \nL 288.187216 124.065999 \nL 331.23267 124.17555 \nL 374.278125 132.44502 \nL 417.32358 134.407555 \nL 460.369034 133.846924 \nL 503.414489 135.7052 \nL 546.459943 137.726569 \nL 589.505398 137.523028 \nL 632.550852 138.10166 \nL 675.596307 138.369181 \n\" style=\"fill:none;stroke:#8c564b;stroke-dasharray:5.55,2.4;stroke-dashoffset:0;stroke-width:1.5;\"/>\n   </g>\n   <g id=\"line2d_33\">\n    <path clip-path=\"url(#pa304f8d111)\" d=\"M 72.959943 49.980098 \nL 116.005398 95.724258 \nL 159.050852 121.946919 \nL 202.096307 137.866225 \nL 245.141761 152.541768 \nL 288.187216 164.616464 \nL 331.23267 175.498958 \nL 374.278125 185.958183 \nL 417.32358 195.634486 \nL 460.369034 202.563496 \nL 503.414489 221.694827 \nL 546.459943 237.252911 \nL 589.505398 253.512152 \nL 632.550852 265.782802 \nL 675.596307 278.087653 \n\" style=\"fill:none;stroke:#e377c2;stroke-linecap:square;stroke-width:1.5;\"/>\n   </g>\n   <g id=\"line2d_34\">\n    <path clip-path=\"url(#pa304f8d111)\" d=\"M 72.959943 49.58244 \nL 116.005398 89.937893 \nL 159.050852 109.971432 \nL 202.096307 120.840009 \nL 245.141761 126.557658 \nL 288.187216 126.070745 \nL 331.23267 130.347323 \nL 374.278125 125.004887 \nL 417.32358 122.126588 \nL 460.369034 112.013242 \nL 503.414489 102.75644 \nL 546.459943 98.014357 \nL 589.505398 81.295458 \nL 632.550852 69.383807 \nL 675.596307 45.891645 \n\" style=\"fill:none;stroke:#7f7f7f;stroke-dasharray:5.55,2.4;stroke-dashoffset:0;stroke-width:1.5;\"/>\n   </g>\n   <g id=\"line2d_35\">\n    <path clip-path=\"url(#pa304f8d111)\" d=\"M 72.959943 38.957392 \nL 116.005398 87.73282 \nL 159.050852 107.544721 \nL 202.096307 122.930579 \nL 245.141761 136.589408 \nL 288.187216 145.418809 \nL 331.23267 149.550511 \nL 374.278125 155.387979 \nL 417.32358 160.686393 \nL 460.369034 171.951468 \nL 503.414489 177.16099 \nL 546.459943 182.695104 \nL 589.505398 185.972148 \nL 632.550852 189.647527 \nL 675.596307 197.927726 \n\" style=\"fill:none;stroke:#bcbd22;stroke-linecap:square;stroke-width:1.5;\"/>\n   </g>\n   <g id=\"line2d_36\">\n    <path clip-path=\"url(#pa304f8d111)\" d=\"M 72.959943 39.064768 \nL 116.005398 83.885407 \nL 159.050852 100.918147 \nL 202.096307 112.034239 \nL 245.141761 119.017131 \nL 288.187216 121.916137 \nL 331.23267 123.136463 \nL 374.278125 124.876055 \nL 417.32358 122.814263 \nL 460.369034 131.983453 \nL 503.414489 126.004155 \nL 546.459943 129.058401 \nL 589.505398 124.283143 \nL 632.550852 122.503926 \nL 675.596307 123.299943 \n\" style=\"fill:none;stroke:#17becf;stroke-dasharray:5.55,2.4;stroke-dashoffset:0;stroke-width:1.5;\"/>\n   </g>\n   <g id=\"line2d_37\">\n    <path clip-path=\"url(#pa304f8d111)\" d=\"M 72.959943 36.66838 \nL 116.005398 79.825514 \nL 159.050852 111.701746 \nL 202.096307 132.436515 \nL 245.141761 147.631565 \nL 288.187216 158.157622 \nL 331.23267 170.544032 \nL 374.278125 181.412875 \nL 417.32358 191.701201 \nL 460.369034 204.007756 \nL 503.414489 214.537413 \nL 546.459943 235.348703 \nL 589.505398 250.561355 \nL 632.550852 270.402939 \nL 675.596307 287.694031 \n\" style=\"fill:none;stroke:#1f77b4;stroke-linecap:square;stroke-width:1.5;\"/>\n   </g>\n   <g id=\"line2d_38\">\n    <path clip-path=\"url(#pa304f8d111)\" d=\"M 72.959943 35.809034 \nL 116.005398 76.483981 \nL 159.050852 102.95121 \nL 202.096307 116.978849 \nL 245.141761 124.310567 \nL 288.187216 126.98535 \nL 331.23267 124.868613 \nL 374.278125 126.206874 \nL 417.32358 124.870232 \nL 460.369034 117.567967 \nL 503.414489 111.672196 \nL 546.459943 98.408198 \nL 589.505398 82.898921 \nL 632.550852 69.111042 \nL 675.596307 46.641247 \n\" style=\"fill:none;stroke:#ff7f0e;stroke-dasharray:5.55,2.4;stroke-dashoffset:0;stroke-width:1.5;\"/>\n   </g>\n   <g id=\"line2d_39\">\n    <path clip-path=\"url(#pa304f8d111)\" d=\"M 72.959943 36.358816 \nL 116.005398 65.191482 \nL 159.050852 89.63321 \nL 202.096307 109.461469 \nL 245.141761 119.74663 \nL 288.187216 126.326452 \nL 331.23267 129.267306 \nL 374.278125 137.782818 \nL 417.32358 142.525239 \nL 460.369034 149.707154 \nL 503.414489 154.052159 \nL 546.459943 155.917055 \nL 589.505398 160.557779 \nL 632.550852 163.376252 \nL 675.596307 168.208508 \n\" style=\"fill:none;stroke:#2ca02c;stroke-linecap:square;stroke-width:1.5;\"/>\n   </g>\n   <g id=\"line2d_40\">\n    <path clip-path=\"url(#pa304f8d111)\" d=\"M 72.959943 36.618655 \nL 116.005398 63.460322 \nL 159.050852 85.168144 \nL 202.096307 102.866208 \nL 245.141761 111.118838 \nL 288.187216 114.135802 \nL 331.23267 115.545655 \nL 374.278125 121.215801 \nL 417.32358 123.361073 \nL 460.369034 128.2857 \nL 503.414489 129.197333 \nL 546.459943 129.263029 \nL 589.505398 130.309051 \nL 632.550852 129.868747 \nL 675.596307 132.650276 \n\" style=\"fill:none;stroke:#d62728;stroke-dasharray:5.55,2.4;stroke-dashoffset:0;stroke-width:1.5;\"/>\n   </g>\n   <g id=\"patch_3\">\n    <path d=\"M 42.828125 319.118125 \nL 42.828125 22.318125 \n\" style=\"fill:none;stroke:#000000;stroke-linecap:square;stroke-linejoin:miter;stroke-width:0.8;\"/>\n   </g>\n   <g id=\"patch_4\">\n    <path d=\"M 705.728125 319.118125 \nL 705.728125 22.318125 \n\" style=\"fill:none;stroke:#000000;stroke-linecap:square;stroke-linejoin:miter;stroke-width:0.8;\"/>\n   </g>\n   <g id=\"patch_5\">\n    <path d=\"M 42.828125 319.118125 \nL 705.728125 319.118125 \n\" style=\"fill:none;stroke:#000000;stroke-linecap:square;stroke-linejoin:miter;stroke-width:0.8;\"/>\n   </g>\n   <g id=\"patch_6\">\n    <path d=\"M 42.828125 22.318125 \nL 705.728125 22.318125 \n\" style=\"fill:none;stroke:#000000;stroke-linecap:square;stroke-linejoin:miter;stroke-width:0.8;\"/>\n   </g>\n   <g id=\"text_15\">\n    <!-- CrossEntropy Loss -->\n    <defs>\n     <path d=\"M 64.40625 67.28125 \nL 64.40625 56.890625 \nQ 59.421875 61.53125 53.78125 63.8125 \nQ 48.140625 66.109375 41.796875 66.109375 \nQ 29.296875 66.109375 22.65625 58.46875 \nQ 16.015625 50.828125 16.015625 36.375 \nQ 16.015625 21.96875 22.65625 14.328125 \nQ 29.296875 6.6875 41.796875 6.6875 \nQ 48.140625 6.6875 53.78125 8.984375 \nQ 59.421875 11.28125 64.40625 15.921875 \nL 64.40625 5.609375 \nQ 59.234375 2.09375 53.4375 0.328125 \nQ 47.65625 -1.421875 41.21875 -1.421875 \nQ 24.65625 -1.421875 15.125 8.703125 \nQ 5.609375 18.84375 5.609375 36.375 \nQ 5.609375 53.953125 15.125 64.078125 \nQ 24.65625 74.21875 41.21875 74.21875 \nQ 47.75 74.21875 53.53125 72.484375 \nQ 59.328125 70.75 64.40625 67.28125 \nz\n\" id=\"DejaVuSans-67\"/>\n     <path d=\"M 41.109375 46.296875 \nQ 39.59375 47.171875 37.8125 47.578125 \nQ 36.03125 48 33.890625 48 \nQ 26.265625 48 22.1875 43.046875 \nQ 18.109375 38.09375 18.109375 28.8125 \nL 18.109375 0 \nL 9.078125 0 \nL 9.078125 54.6875 \nL 18.109375 54.6875 \nL 18.109375 46.1875 \nQ 20.953125 51.171875 25.484375 53.578125 \nQ 30.03125 56 36.53125 56 \nQ 37.453125 56 38.578125 55.875 \nQ 39.703125 55.765625 41.0625 55.515625 \nz\n\" id=\"DejaVuSans-114\"/>\n     <path d=\"M 44.28125 53.078125 \nL 44.28125 44.578125 \nQ 40.484375 46.53125 36.375 47.5 \nQ 32.28125 48.484375 27.875 48.484375 \nQ 21.1875 48.484375 17.84375 46.4375 \nQ 14.5 44.390625 14.5 40.28125 \nQ 14.5 37.15625 16.890625 35.375 \nQ 19.28125 33.59375 26.515625 31.984375 \nL 29.59375 31.296875 \nQ 39.15625 29.25 43.1875 25.515625 \nQ 47.21875 21.78125 47.21875 15.09375 \nQ 47.21875 7.46875 41.1875 3.015625 \nQ 35.15625 -1.421875 24.609375 -1.421875 \nQ 20.21875 -1.421875 15.453125 -0.5625 \nQ 10.6875 0.296875 5.421875 2 \nL 5.421875 11.28125 \nQ 10.40625 8.6875 15.234375 7.390625 \nQ 20.0625 6.109375 24.8125 6.109375 \nQ 31.15625 6.109375 34.5625 8.28125 \nQ 37.984375 10.453125 37.984375 14.40625 \nQ 37.984375 18.0625 35.515625 20.015625 \nQ 33.0625 21.96875 24.703125 23.78125 \nL 21.578125 24.515625 \nQ 13.234375 26.265625 9.515625 29.90625 \nQ 5.8125 33.546875 5.8125 39.890625 \nQ 5.8125 47.609375 11.28125 51.796875 \nQ 16.75 56 26.8125 56 \nQ 31.78125 56 36.171875 55.265625 \nQ 40.578125 54.546875 44.28125 53.078125 \nz\n\" id=\"DejaVuSans-115\"/>\n     <path d=\"M 54.890625 33.015625 \nL 54.890625 0 \nL 45.90625 0 \nL 45.90625 32.71875 \nQ 45.90625 40.484375 42.875 44.328125 \nQ 39.84375 48.1875 33.796875 48.1875 \nQ 26.515625 48.1875 22.3125 43.546875 \nQ 18.109375 38.921875 18.109375 30.90625 \nL 18.109375 0 \nL 9.078125 0 \nL 9.078125 54.6875 \nL 18.109375 54.6875 \nL 18.109375 46.1875 \nQ 21.34375 51.125 25.703125 53.5625 \nQ 30.078125 56 35.796875 56 \nQ 45.21875 56 50.046875 50.171875 \nQ 54.890625 44.34375 54.890625 33.015625 \nz\n\" id=\"DejaVuSans-110\"/>\n     <path d=\"M 18.3125 70.21875 \nL 18.3125 54.6875 \nL 36.8125 54.6875 \nL 36.8125 47.703125 \nL 18.3125 47.703125 \nL 18.3125 18.015625 \nQ 18.3125 11.328125 20.140625 9.421875 \nQ 21.96875 7.515625 27.59375 7.515625 \nL 36.8125 7.515625 \nL 36.8125 0 \nL 27.59375 0 \nQ 17.1875 0 13.234375 3.875 \nQ 9.28125 7.765625 9.28125 18.015625 \nL 9.28125 47.703125 \nL 2.6875 47.703125 \nL 2.6875 54.6875 \nL 9.28125 54.6875 \nL 9.28125 70.21875 \nz\n\" id=\"DejaVuSans-116\"/>\n     <path d=\"M 32.171875 -5.078125 \nQ 28.375 -14.84375 24.75 -17.8125 \nQ 21.140625 -20.796875 15.09375 -20.796875 \nL 7.90625 -20.796875 \nL 7.90625 -13.28125 \nL 13.1875 -13.28125 \nQ 16.890625 -13.28125 18.9375 -11.515625 \nQ 21 -9.765625 23.484375 -3.21875 \nL 25.09375 0.875 \nL 2.984375 54.6875 \nL 12.5 54.6875 \nL 29.59375 11.921875 \nL 46.6875 54.6875 \nL 56.203125 54.6875 \nz\n\" id=\"DejaVuSans-121\"/>\n     <path id=\"DejaVuSans-32\"/>\n     <path d=\"M 9.8125 72.90625 \nL 19.671875 72.90625 \nL 19.671875 8.296875 \nL 55.171875 8.296875 \nL 55.171875 0 \nL 9.8125 0 \nz\n\" id=\"DejaVuSans-76\"/>\n    </defs>\n    <g transform=\"translate(319.457812 16.318125)scale(0.12 -0.12)\">\n     <use xlink:href=\"#DejaVuSans-67\"/>\n     <use x=\"69.824219\" xlink:href=\"#DejaVuSans-114\"/>\n     <use x=\"108.6875\" xlink:href=\"#DejaVuSans-111\"/>\n     <use x=\"169.869141\" xlink:href=\"#DejaVuSans-115\"/>\n     <use x=\"221.96875\" xlink:href=\"#DejaVuSans-115\"/>\n     <use x=\"274.068359\" xlink:href=\"#DejaVuSans-69\"/>\n     <use x=\"337.251953\" xlink:href=\"#DejaVuSans-110\"/>\n     <use x=\"400.630859\" xlink:href=\"#DejaVuSans-116\"/>\n     <use x=\"439.839844\" xlink:href=\"#DejaVuSans-114\"/>\n     <use x=\"478.703125\" xlink:href=\"#DejaVuSans-111\"/>\n     <use x=\"539.884766\" xlink:href=\"#DejaVuSans-112\"/>\n     <use x=\"603.361328\" xlink:href=\"#DejaVuSans-121\"/>\n     <use x=\"662.541016\" xlink:href=\"#DejaVuSans-32\"/>\n     <use x=\"694.328125\" xlink:href=\"#DejaVuSans-76\"/>\n     <use x=\"748.291016\" xlink:href=\"#DejaVuSans-111\"/>\n     <use x=\"809.472656\" xlink:href=\"#DejaVuSans-115\"/>\n     <use x=\"861.572266\" xlink:href=\"#DejaVuSans-115\"/>\n    </g>\n   </g>\n   <g id=\"legend_1\">\n    <g id=\"patch_7\">\n     <path d=\"M 49.828125 314.118125 \nL 173.045313 314.118125 \nQ 175.045313 314.118125 175.045313 312.118125 \nL 175.045313 107.624375 \nQ 175.045313 105.624375 173.045313 105.624375 \nL 49.828125 105.624375 \nQ 47.828125 105.624375 47.828125 107.624375 \nL 47.828125 312.118125 \nQ 47.828125 314.118125 49.828125 314.118125 \nz\n\" style=\"fill:#ffffff;opacity:0.8;stroke:#cccccc;stroke-linejoin:miter;\"/>\n    </g>\n    <g id=\"line2d_41\">\n     <path d=\"M 51.828125 113.722812 \nL 71.828125 113.722812 \n\" style=\"fill:none;stroke:#1f77b4;stroke-linecap:square;stroke-width:1.5;\"/>\n    </g>\n    <g id=\"line2d_42\"/>\n    <g id=\"text_16\">\n     <!-- Base -->\n     <defs>\n      <path d=\"M 19.671875 34.8125 \nL 19.671875 8.109375 \nL 35.5 8.109375 \nQ 43.453125 8.109375 47.28125 11.40625 \nQ 51.125 14.703125 51.125 21.484375 \nQ 51.125 28.328125 47.28125 31.5625 \nQ 43.453125 34.8125 35.5 34.8125 \nz\nM 19.671875 64.796875 \nL 19.671875 42.828125 \nL 34.28125 42.828125 \nQ 41.5 42.828125 45.03125 45.53125 \nQ 48.578125 48.25 48.578125 53.8125 \nQ 48.578125 59.328125 45.03125 62.0625 \nQ 41.5 64.796875 34.28125 64.796875 \nz\nM 9.8125 72.90625 \nL 35.015625 72.90625 \nQ 46.296875 72.90625 52.390625 68.21875 \nQ 58.5 63.53125 58.5 54.890625 \nQ 58.5 48.1875 55.375 44.234375 \nQ 52.25 40.28125 46.1875 39.3125 \nQ 53.46875 37.75 57.5 32.78125 \nQ 61.53125 27.828125 61.53125 20.40625 \nQ 61.53125 10.640625 54.890625 5.3125 \nQ 48.25 0 35.984375 0 \nL 9.8125 0 \nz\n\" id=\"DejaVuSans-66\"/>\n      <path d=\"M 34.28125 27.484375 \nQ 23.390625 27.484375 19.1875 25 \nQ 14.984375 22.515625 14.984375 16.5 \nQ 14.984375 11.71875 18.140625 8.90625 \nQ 21.296875 6.109375 26.703125 6.109375 \nQ 34.1875 6.109375 38.703125 11.40625 \nQ 43.21875 16.703125 43.21875 25.484375 \nL 43.21875 27.484375 \nz\nM 52.203125 31.203125 \nL 52.203125 0 \nL 43.21875 0 \nL 43.21875 8.296875 \nQ 40.140625 3.328125 35.546875 0.953125 \nQ 30.953125 -1.421875 24.3125 -1.421875 \nQ 15.921875 -1.421875 10.953125 3.296875 \nQ 6 8.015625 6 15.921875 \nQ 6 25.140625 12.171875 29.828125 \nQ 18.359375 34.515625 30.609375 34.515625 \nL 43.21875 34.515625 \nL 43.21875 35.40625 \nQ 43.21875 41.609375 39.140625 45 \nQ 35.0625 48.390625 27.6875 48.390625 \nQ 23 48.390625 18.546875 47.265625 \nQ 14.109375 46.140625 10.015625 43.890625 \nL 10.015625 52.203125 \nQ 14.9375 54.109375 19.578125 55.046875 \nQ 24.21875 56 28.609375 56 \nQ 40.484375 56 46.34375 49.84375 \nQ 52.203125 43.703125 52.203125 31.203125 \nz\n\" id=\"DejaVuSans-97\"/>\n      <path d=\"M 56.203125 29.59375 \nL 56.203125 25.203125 \nL 14.890625 25.203125 \nQ 15.484375 15.921875 20.484375 11.0625 \nQ 25.484375 6.203125 34.421875 6.203125 \nQ 39.59375 6.203125 44.453125 7.46875 \nQ 49.3125 8.734375 54.109375 11.28125 \nL 54.109375 2.78125 \nQ 49.265625 0.734375 44.1875 -0.34375 \nQ 39.109375 -1.421875 33.890625 -1.421875 \nQ 20.796875 -1.421875 13.15625 6.1875 \nQ 5.515625 13.8125 5.515625 26.8125 \nQ 5.515625 40.234375 12.765625 48.109375 \nQ 20.015625 56 32.328125 56 \nQ 43.359375 56 49.78125 48.890625 \nQ 56.203125 41.796875 56.203125 29.59375 \nz\nM 47.21875 32.234375 \nQ 47.125 39.59375 43.09375 43.984375 \nQ 39.0625 48.390625 32.421875 48.390625 \nQ 24.90625 48.390625 20.390625 44.140625 \nQ 15.875 39.890625 15.1875 32.171875 \nz\n\" id=\"DejaVuSans-101\"/>\n     </defs>\n     <g transform=\"translate(79.828125 117.222812)scale(0.1 -0.1)\">\n      <use xlink:href=\"#DejaVuSans-66\"/>\n      <use x=\"68.603516\" xlink:href=\"#DejaVuSans-97\"/>\n      <use x=\"129.882812\" xlink:href=\"#DejaVuSans-115\"/>\n      <use x=\"181.982422\" xlink:href=\"#DejaVuSans-101\"/>\n     </g>\n    </g>\n    <g id=\"line2d_43\">\n     <path d=\"M 51.828125 128.400937 \nL 71.828125 128.400937 \n\" style=\"fill:none;stroke:#ff7f0e;stroke-dasharray:5.55,2.4;stroke-dashoffset:0;stroke-width:1.5;\"/>\n    </g>\n    <g id=\"line2d_44\"/>\n    <g id=\"text_17\">\n     <!-- Base -->\n     <g transform=\"translate(79.828125 131.900937)scale(0.1 -0.1)\">\n      <use xlink:href=\"#DejaVuSans-66\"/>\n      <use x=\"68.603516\" xlink:href=\"#DejaVuSans-97\"/>\n      <use x=\"129.882812\" xlink:href=\"#DejaVuSans-115\"/>\n      <use x=\"181.982422\" xlink:href=\"#DejaVuSans-101\"/>\n     </g>\n    </g>\n    <g id=\"line2d_45\">\n     <path d=\"M 51.828125 143.079062 \nL 71.828125 143.079062 \n\" style=\"fill:none;stroke:#2ca02c;stroke-linecap:square;stroke-width:1.5;\"/>\n    </g>\n    <g id=\"line2d_46\"/>\n    <g id=\"text_18\">\n     <!-- VarDropCheck -->\n     <defs>\n      <path d=\"M 28.609375 0 \nL 0.78125 72.90625 \nL 11.078125 72.90625 \nL 34.1875 11.53125 \nL 57.328125 72.90625 \nL 67.578125 72.90625 \nL 39.796875 0 \nz\n\" id=\"DejaVuSans-86\"/>\n      <path d=\"M 19.671875 64.796875 \nL 19.671875 8.109375 \nL 31.59375 8.109375 \nQ 46.6875 8.109375 53.6875 14.9375 \nQ 60.6875 21.78125 60.6875 36.53125 \nQ 60.6875 51.171875 53.6875 57.984375 \nQ 46.6875 64.796875 31.59375 64.796875 \nz\nM 9.8125 72.90625 \nL 30.078125 72.90625 \nQ 51.265625 72.90625 61.171875 64.09375 \nQ 71.09375 55.28125 71.09375 36.53125 \nQ 71.09375 17.671875 61.125 8.828125 \nQ 51.171875 0 30.078125 0 \nL 9.8125 0 \nz\n\" id=\"DejaVuSans-68\"/>\n      <path d=\"M 9.078125 75.984375 \nL 18.109375 75.984375 \nL 18.109375 31.109375 \nL 44.921875 54.6875 \nL 56.390625 54.6875 \nL 27.390625 29.109375 \nL 57.625 0 \nL 45.90625 0 \nL 18.109375 26.703125 \nL 18.109375 0 \nL 9.078125 0 \nz\n\" id=\"DejaVuSans-107\"/>\n     </defs>\n     <g transform=\"translate(79.828125 146.579062)scale(0.1 -0.1)\">\n      <use xlink:href=\"#DejaVuSans-86\"/>\n      <use x=\"60.658203\" xlink:href=\"#DejaVuSans-97\"/>\n      <use x=\"121.9375\" xlink:href=\"#DejaVuSans-114\"/>\n      <use x=\"163.050781\" xlink:href=\"#DejaVuSans-68\"/>\n      <use x=\"240.052734\" xlink:href=\"#DejaVuSans-114\"/>\n      <use x=\"278.916016\" xlink:href=\"#DejaVuSans-111\"/>\n      <use x=\"340.097656\" xlink:href=\"#DejaVuSans-112\"/>\n      <use x=\"403.574219\" xlink:href=\"#DejaVuSans-67\"/>\n      <use x=\"473.398438\" xlink:href=\"#DejaVuSans-104\"/>\n      <use x=\"536.777344\" xlink:href=\"#DejaVuSans-101\"/>\n      <use x=\"598.300781\" xlink:href=\"#DejaVuSans-99\"/>\n      <use x=\"653.28125\" xlink:href=\"#DejaVuSans-107\"/>\n     </g>\n    </g>\n    <g id=\"line2d_47\">\n     <path d=\"M 51.828125 157.757187 \nL 71.828125 157.757187 \n\" style=\"fill:none;stroke:#d62728;stroke-dasharray:5.55,2.4;stroke-dashoffset:0;stroke-width:1.5;\"/>\n    </g>\n    <g id=\"line2d_48\"/>\n    <g id=\"text_19\">\n     <!-- VarDropCheck -->\n     <g transform=\"translate(79.828125 161.257187)scale(0.1 -0.1)\">\n      <use xlink:href=\"#DejaVuSans-86\"/>\n      <use x=\"60.658203\" xlink:href=\"#DejaVuSans-97\"/>\n      <use x=\"121.9375\" xlink:href=\"#DejaVuSans-114\"/>\n      <use x=\"163.050781\" xlink:href=\"#DejaVuSans-68\"/>\n      <use x=\"240.052734\" xlink:href=\"#DejaVuSans-114\"/>\n      <use x=\"278.916016\" xlink:href=\"#DejaVuSans-111\"/>\n      <use x=\"340.097656\" xlink:href=\"#DejaVuSans-112\"/>\n      <use x=\"403.574219\" xlink:href=\"#DejaVuSans-67\"/>\n      <use x=\"473.398438\" xlink:href=\"#DejaVuSans-104\"/>\n      <use x=\"536.777344\" xlink:href=\"#DejaVuSans-101\"/>\n      <use x=\"598.300781\" xlink:href=\"#DejaVuSans-99\"/>\n      <use x=\"653.28125\" xlink:href=\"#DejaVuSans-107\"/>\n     </g>\n    </g>\n    <g id=\"line2d_49\">\n     <path d=\"M 51.828125 172.435312 \nL 71.828125 172.435312 \n\" style=\"fill:none;stroke:#9467bd;stroke-linecap:square;stroke-width:1.5;\"/>\n    </g>\n    <g id=\"line2d_50\"/>\n    <g id=\"text_20\">\n     <!-- VarDrop -->\n     <g transform=\"translate(79.828125 175.935312)scale(0.1 -0.1)\">\n      <use xlink:href=\"#DejaVuSans-86\"/>\n      <use x=\"60.658203\" xlink:href=\"#DejaVuSans-97\"/>\n      <use x=\"121.9375\" xlink:href=\"#DejaVuSans-114\"/>\n      <use x=\"163.050781\" xlink:href=\"#DejaVuSans-68\"/>\n      <use x=\"240.052734\" xlink:href=\"#DejaVuSans-114\"/>\n      <use x=\"278.916016\" xlink:href=\"#DejaVuSans-111\"/>\n      <use x=\"340.097656\" xlink:href=\"#DejaVuSans-112\"/>\n     </g>\n    </g>\n    <g id=\"line2d_51\">\n     <path d=\"M 51.828125 187.113437 \nL 71.828125 187.113437 \n\" style=\"fill:none;stroke:#8c564b;stroke-dasharray:5.55,2.4;stroke-dashoffset:0;stroke-width:1.5;\"/>\n    </g>\n    <g id=\"line2d_52\"/>\n    <g id=\"text_21\">\n     <!-- VarDrop -->\n     <g transform=\"translate(79.828125 190.613437)scale(0.1 -0.1)\">\n      <use xlink:href=\"#DejaVuSans-86\"/>\n      <use x=\"60.658203\" xlink:href=\"#DejaVuSans-97\"/>\n      <use x=\"121.9375\" xlink:href=\"#DejaVuSans-114\"/>\n      <use x=\"163.050781\" xlink:href=\"#DejaVuSans-68\"/>\n      <use x=\"240.052734\" xlink:href=\"#DejaVuSans-114\"/>\n      <use x=\"278.916016\" xlink:href=\"#DejaVuSans-111\"/>\n      <use x=\"340.097656\" xlink:href=\"#DejaVuSans-112\"/>\n     </g>\n    </g>\n    <g id=\"line2d_53\">\n     <path d=\"M 51.828125 201.791562 \nL 71.828125 201.791562 \n\" style=\"fill:none;stroke:#e377c2;stroke-linecap:square;stroke-width:1.5;\"/>\n    </g>\n    <g id=\"line2d_54\"/>\n    <g id=\"text_22\">\n     <!-- FastVarDropCheck -->\n     <defs>\n      <path d=\"M 9.8125 72.90625 \nL 51.703125 72.90625 \nL 51.703125 64.59375 \nL 19.671875 64.59375 \nL 19.671875 43.109375 \nL 48.578125 43.109375 \nL 48.578125 34.8125 \nL 19.671875 34.8125 \nL 19.671875 0 \nL 9.8125 0 \nz\n\" id=\"DejaVuSans-70\"/>\n     </defs>\n     <g transform=\"translate(79.828125 205.291562)scale(0.1 -0.1)\">\n      <use xlink:href=\"#DejaVuSans-70\"/>\n      <use x=\"48.394531\" xlink:href=\"#DejaVuSans-97\"/>\n      <use x=\"109.673828\" xlink:href=\"#DejaVuSans-115\"/>\n      <use x=\"161.773438\" xlink:href=\"#DejaVuSans-116\"/>\n      <use x=\"200.982422\" xlink:href=\"#DejaVuSans-86\"/>\n      <use x=\"261.640625\" xlink:href=\"#DejaVuSans-97\"/>\n      <use x=\"322.919922\" xlink:href=\"#DejaVuSans-114\"/>\n      <use x=\"364.033203\" xlink:href=\"#DejaVuSans-68\"/>\n      <use x=\"441.035156\" xlink:href=\"#DejaVuSans-114\"/>\n      <use x=\"479.898438\" xlink:href=\"#DejaVuSans-111\"/>\n      <use x=\"541.080078\" xlink:href=\"#DejaVuSans-112\"/>\n      <use x=\"604.556641\" xlink:href=\"#DejaVuSans-67\"/>\n      <use x=\"674.380859\" xlink:href=\"#DejaVuSans-104\"/>\n      <use x=\"737.759766\" xlink:href=\"#DejaVuSans-101\"/>\n      <use x=\"799.283203\" xlink:href=\"#DejaVuSans-99\"/>\n      <use x=\"854.263672\" xlink:href=\"#DejaVuSans-107\"/>\n     </g>\n    </g>\n    <g id=\"line2d_55\">\n     <path d=\"M 51.828125 216.469687 \nL 71.828125 216.469687 \n\" style=\"fill:none;stroke:#7f7f7f;stroke-dasharray:5.55,2.4;stroke-dashoffset:0;stroke-width:1.5;\"/>\n    </g>\n    <g id=\"line2d_56\"/>\n    <g id=\"text_23\">\n     <!-- FastVarDropCheck -->\n     <g transform=\"translate(79.828125 219.969687)scale(0.1 -0.1)\">\n      <use xlink:href=\"#DejaVuSans-70\"/>\n      <use x=\"48.394531\" xlink:href=\"#DejaVuSans-97\"/>\n      <use x=\"109.673828\" xlink:href=\"#DejaVuSans-115\"/>\n      <use x=\"161.773438\" xlink:href=\"#DejaVuSans-116\"/>\n      <use x=\"200.982422\" xlink:href=\"#DejaVuSans-86\"/>\n      <use x=\"261.640625\" xlink:href=\"#DejaVuSans-97\"/>\n      <use x=\"322.919922\" xlink:href=\"#DejaVuSans-114\"/>\n      <use x=\"364.033203\" xlink:href=\"#DejaVuSans-68\"/>\n      <use x=\"441.035156\" xlink:href=\"#DejaVuSans-114\"/>\n      <use x=\"479.898438\" xlink:href=\"#DejaVuSans-111\"/>\n      <use x=\"541.080078\" xlink:href=\"#DejaVuSans-112\"/>\n      <use x=\"604.556641\" xlink:href=\"#DejaVuSans-67\"/>\n      <use x=\"674.380859\" xlink:href=\"#DejaVuSans-104\"/>\n      <use x=\"737.759766\" xlink:href=\"#DejaVuSans-101\"/>\n      <use x=\"799.283203\" xlink:href=\"#DejaVuSans-99\"/>\n      <use x=\"854.263672\" xlink:href=\"#DejaVuSans-107\"/>\n     </g>\n    </g>\n    <g id=\"line2d_57\">\n     <path d=\"M 51.828125 231.147812 \nL 71.828125 231.147812 \n\" style=\"fill:none;stroke:#bcbd22;stroke-linecap:square;stroke-width:1.5;\"/>\n    </g>\n    <g id=\"line2d_58\"/>\n    <g id=\"text_24\">\n     <!-- FastVarDrop -->\n     <g transform=\"translate(79.828125 234.647812)scale(0.1 -0.1)\">\n      <use xlink:href=\"#DejaVuSans-70\"/>\n      <use x=\"48.394531\" xlink:href=\"#DejaVuSans-97\"/>\n      <use x=\"109.673828\" xlink:href=\"#DejaVuSans-115\"/>\n      <use x=\"161.773438\" xlink:href=\"#DejaVuSans-116\"/>\n      <use x=\"200.982422\" xlink:href=\"#DejaVuSans-86\"/>\n      <use x=\"261.640625\" xlink:href=\"#DejaVuSans-97\"/>\n      <use x=\"322.919922\" xlink:href=\"#DejaVuSans-114\"/>\n      <use x=\"364.033203\" xlink:href=\"#DejaVuSans-68\"/>\n      <use x=\"441.035156\" xlink:href=\"#DejaVuSans-114\"/>\n      <use x=\"479.898438\" xlink:href=\"#DejaVuSans-111\"/>\n      <use x=\"541.080078\" xlink:href=\"#DejaVuSans-112\"/>\n     </g>\n    </g>\n    <g id=\"line2d_59\">\n     <path d=\"M 51.828125 245.825937 \nL 71.828125 245.825937 \n\" style=\"fill:none;stroke:#17becf;stroke-dasharray:5.55,2.4;stroke-dashoffset:0;stroke-width:1.5;\"/>\n    </g>\n    <g id=\"line2d_60\"/>\n    <g id=\"text_25\">\n     <!-- FastVarDrop -->\n     <g transform=\"translate(79.828125 249.325937)scale(0.1 -0.1)\">\n      <use xlink:href=\"#DejaVuSans-70\"/>\n      <use x=\"48.394531\" xlink:href=\"#DejaVuSans-97\"/>\n      <use x=\"109.673828\" xlink:href=\"#DejaVuSans-115\"/>\n      <use x=\"161.773438\" xlink:href=\"#DejaVuSans-116\"/>\n      <use x=\"200.982422\" xlink:href=\"#DejaVuSans-86\"/>\n      <use x=\"261.640625\" xlink:href=\"#DejaVuSans-97\"/>\n      <use x=\"322.919922\" xlink:href=\"#DejaVuSans-114\"/>\n      <use x=\"364.033203\" xlink:href=\"#DejaVuSans-68\"/>\n      <use x=\"441.035156\" xlink:href=\"#DejaVuSans-114\"/>\n      <use x=\"479.898438\" xlink:href=\"#DejaVuSans-111\"/>\n      <use x=\"541.080078\" xlink:href=\"#DejaVuSans-112\"/>\n     </g>\n    </g>\n    <g id=\"line2d_61\">\n     <path d=\"M 51.828125 260.504062 \nL 71.828125 260.504062 \n\" style=\"fill:none;stroke:#1f77b4;stroke-linecap:square;stroke-width:1.5;\"/>\n    </g>\n    <g id=\"line2d_62\"/>\n    <g id=\"text_26\">\n     <!-- HandmadeCheck -->\n     <defs>\n      <path d=\"M 9.8125 72.90625 \nL 19.671875 72.90625 \nL 19.671875 43.015625 \nL 55.515625 43.015625 \nL 55.515625 72.90625 \nL 65.375 72.90625 \nL 65.375 0 \nL 55.515625 0 \nL 55.515625 34.71875 \nL 19.671875 34.71875 \nL 19.671875 0 \nL 9.8125 0 \nz\n\" id=\"DejaVuSans-72\"/>\n      <path d=\"M 45.40625 46.390625 \nL 45.40625 75.984375 \nL 54.390625 75.984375 \nL 54.390625 0 \nL 45.40625 0 \nL 45.40625 8.203125 \nQ 42.578125 3.328125 38.25 0.953125 \nQ 33.9375 -1.421875 27.875 -1.421875 \nQ 17.96875 -1.421875 11.734375 6.484375 \nQ 5.515625 14.40625 5.515625 27.296875 \nQ 5.515625 40.1875 11.734375 48.09375 \nQ 17.96875 56 27.875 56 \nQ 33.9375 56 38.25 53.625 \nQ 42.578125 51.265625 45.40625 46.390625 \nz\nM 14.796875 27.296875 \nQ 14.796875 17.390625 18.875 11.75 \nQ 22.953125 6.109375 30.078125 6.109375 \nQ 37.203125 6.109375 41.296875 11.75 \nQ 45.40625 17.390625 45.40625 27.296875 \nQ 45.40625 37.203125 41.296875 42.84375 \nQ 37.203125 48.484375 30.078125 48.484375 \nQ 22.953125 48.484375 18.875 42.84375 \nQ 14.796875 37.203125 14.796875 27.296875 \nz\n\" id=\"DejaVuSans-100\"/>\n      <path d=\"M 52 44.1875 \nQ 55.375 50.25 60.0625 53.125 \nQ 64.75 56 71.09375 56 \nQ 79.640625 56 84.28125 50.015625 \nQ 88.921875 44.046875 88.921875 33.015625 \nL 88.921875 0 \nL 79.890625 0 \nL 79.890625 32.71875 \nQ 79.890625 40.578125 77.09375 44.375 \nQ 74.3125 48.1875 68.609375 48.1875 \nQ 61.625 48.1875 57.5625 43.546875 \nQ 53.515625 38.921875 53.515625 30.90625 \nL 53.515625 0 \nL 44.484375 0 \nL 44.484375 32.71875 \nQ 44.484375 40.625 41.703125 44.40625 \nQ 38.921875 48.1875 33.109375 48.1875 \nQ 26.21875 48.1875 22.15625 43.53125 \nQ 18.109375 38.875 18.109375 30.90625 \nL 18.109375 0 \nL 9.078125 0 \nL 9.078125 54.6875 \nL 18.109375 54.6875 \nL 18.109375 46.1875 \nQ 21.1875 51.21875 25.484375 53.609375 \nQ 29.78125 56 35.6875 56 \nQ 41.65625 56 45.828125 52.96875 \nQ 50 49.953125 52 44.1875 \nz\n\" id=\"DejaVuSans-109\"/>\n     </defs>\n     <g transform=\"translate(79.828125 264.004062)scale(0.1 -0.1)\">\n      <use xlink:href=\"#DejaVuSans-72\"/>\n      <use x=\"75.195312\" xlink:href=\"#DejaVuSans-97\"/>\n      <use x=\"136.474609\" xlink:href=\"#DejaVuSans-110\"/>\n      <use x=\"199.853516\" xlink:href=\"#DejaVuSans-100\"/>\n      <use x=\"263.330078\" xlink:href=\"#DejaVuSans-109\"/>\n      <use x=\"360.742188\" xlink:href=\"#DejaVuSans-97\"/>\n      <use x=\"422.021484\" xlink:href=\"#DejaVuSans-100\"/>\n      <use x=\"485.498047\" xlink:href=\"#DejaVuSans-101\"/>\n      <use x=\"547.021484\" xlink:href=\"#DejaVuSans-67\"/>\n      <use x=\"616.845703\" xlink:href=\"#DejaVuSans-104\"/>\n      <use x=\"680.224609\" xlink:href=\"#DejaVuSans-101\"/>\n      <use x=\"741.748047\" xlink:href=\"#DejaVuSans-99\"/>\n      <use x=\"796.728516\" xlink:href=\"#DejaVuSans-107\"/>\n     </g>\n    </g>\n    <g id=\"line2d_63\">\n     <path d=\"M 51.828125 275.182187 \nL 71.828125 275.182187 \n\" style=\"fill:none;stroke:#ff7f0e;stroke-dasharray:5.55,2.4;stroke-dashoffset:0;stroke-width:1.5;\"/>\n    </g>\n    <g id=\"line2d_64\"/>\n    <g id=\"text_27\">\n     <!-- HandmadeCheck -->\n     <g transform=\"translate(79.828125 278.682187)scale(0.1 -0.1)\">\n      <use xlink:href=\"#DejaVuSans-72\"/>\n      <use x=\"75.195312\" xlink:href=\"#DejaVuSans-97\"/>\n      <use x=\"136.474609\" xlink:href=\"#DejaVuSans-110\"/>\n      <use x=\"199.853516\" xlink:href=\"#DejaVuSans-100\"/>\n      <use x=\"263.330078\" xlink:href=\"#DejaVuSans-109\"/>\n      <use x=\"360.742188\" xlink:href=\"#DejaVuSans-97\"/>\n      <use x=\"422.021484\" xlink:href=\"#DejaVuSans-100\"/>\n      <use x=\"485.498047\" xlink:href=\"#DejaVuSans-101\"/>\n      <use x=\"547.021484\" xlink:href=\"#DejaVuSans-67\"/>\n      <use x=\"616.845703\" xlink:href=\"#DejaVuSans-104\"/>\n      <use x=\"680.224609\" xlink:href=\"#DejaVuSans-101\"/>\n      <use x=\"741.748047\" xlink:href=\"#DejaVuSans-99\"/>\n      <use x=\"796.728516\" xlink:href=\"#DejaVuSans-107\"/>\n     </g>\n    </g>\n    <g id=\"line2d_65\">\n     <path d=\"M 51.828125 289.860312 \nL 71.828125 289.860312 \n\" style=\"fill:none;stroke:#2ca02c;stroke-linecap:square;stroke-width:1.5;\"/>\n    </g>\n    <g id=\"line2d_66\"/>\n    <g id=\"text_28\">\n     <!-- Handmade -->\n     <g transform=\"translate(79.828125 293.360312)scale(0.1 -0.1)\">\n      <use xlink:href=\"#DejaVuSans-72\"/>\n      <use x=\"75.195312\" xlink:href=\"#DejaVuSans-97\"/>\n      <use x=\"136.474609\" xlink:href=\"#DejaVuSans-110\"/>\n      <use x=\"199.853516\" xlink:href=\"#DejaVuSans-100\"/>\n      <use x=\"263.330078\" xlink:href=\"#DejaVuSans-109\"/>\n      <use x=\"360.742188\" xlink:href=\"#DejaVuSans-97\"/>\n      <use x=\"422.021484\" xlink:href=\"#DejaVuSans-100\"/>\n      <use x=\"485.498047\" xlink:href=\"#DejaVuSans-101\"/>\n     </g>\n    </g>\n    <g id=\"line2d_67\">\n     <path d=\"M 51.828125 304.538437 \nL 71.828125 304.538437 \n\" style=\"fill:none;stroke:#d62728;stroke-dasharray:5.55,2.4;stroke-dashoffset:0;stroke-width:1.5;\"/>\n    </g>\n    <g id=\"line2d_68\"/>\n    <g id=\"text_29\">\n     <!-- Handmade -->\n     <g transform=\"translate(79.828125 308.038437)scale(0.1 -0.1)\">\n      <use xlink:href=\"#DejaVuSans-72\"/>\n      <use x=\"75.195312\" xlink:href=\"#DejaVuSans-97\"/>\n      <use x=\"136.474609\" xlink:href=\"#DejaVuSans-110\"/>\n      <use x=\"199.853516\" xlink:href=\"#DejaVuSans-100\"/>\n      <use x=\"263.330078\" xlink:href=\"#DejaVuSans-109\"/>\n      <use x=\"360.742188\" xlink:href=\"#DejaVuSans-97\"/>\n      <use x=\"422.021484\" xlink:href=\"#DejaVuSans-100\"/>\n      <use x=\"485.498047\" xlink:href=\"#DejaVuSans-101\"/>\n     </g>\n    </g>\n   </g>\n  </g>\n  <g id=\"axes_2\">\n   <g id=\"patch_8\">\n    <path d=\"M 42.828125 673.718125 \nL 705.728125 673.718125 \nL 705.728125 376.918125 \nL 42.828125 376.918125 \nz\n\" style=\"fill:#ffffff;\"/>\n   </g>\n   <g id=\"matplotlib.axis_3\">\n    <g id=\"xtick_9\">\n     <g id=\"line2d_69\">\n      <path clip-path=\"url(#pee12e254d8)\" d=\"M 72.959943 673.718125 \nL 72.959943 376.918125 \n\" style=\"fill:none;stroke:#b0b0b0;stroke-linecap:square;stroke-width:0.8;\"/>\n     </g>\n     <g id=\"line2d_70\">\n      <g>\n       <use style=\"stroke:#000000;stroke-width:0.8;\" x=\"72.959943\" xlink:href=\"#m97b07fd60a\" y=\"673.718125\"/>\n      </g>\n     </g>\n     <g id=\"text_30\">\n      <!-- 0 -->\n      <g transform=\"translate(69.778693 688.316562)scale(0.1 -0.1)\">\n       <use xlink:href=\"#DejaVuSans-48\"/>\n      </g>\n     </g>\n    </g>\n    <g id=\"xtick_10\">\n     <g id=\"line2d_71\">\n      <path clip-path=\"url(#pee12e254d8)\" d=\"M 159.050852 673.718125 \nL 159.050852 376.918125 \n\" style=\"fill:none;stroke:#b0b0b0;stroke-linecap:square;stroke-width:0.8;\"/>\n     </g>\n     <g id=\"line2d_72\">\n      <g>\n       <use style=\"stroke:#000000;stroke-width:0.8;\" x=\"159.050852\" xlink:href=\"#m97b07fd60a\" y=\"673.718125\"/>\n      </g>\n     </g>\n     <g id=\"text_31\">\n      <!-- 2 -->\n      <g transform=\"translate(155.869602 688.316562)scale(0.1 -0.1)\">\n       <use xlink:href=\"#DejaVuSans-50\"/>\n      </g>\n     </g>\n    </g>\n    <g id=\"xtick_11\">\n     <g id=\"line2d_73\">\n      <path clip-path=\"url(#pee12e254d8)\" d=\"M 245.141761 673.718125 \nL 245.141761 376.918125 \n\" style=\"fill:none;stroke:#b0b0b0;stroke-linecap:square;stroke-width:0.8;\"/>\n     </g>\n     <g id=\"line2d_74\">\n      <g>\n       <use style=\"stroke:#000000;stroke-width:0.8;\" x=\"245.141761\" xlink:href=\"#m97b07fd60a\" y=\"673.718125\"/>\n      </g>\n     </g>\n     <g id=\"text_32\">\n      <!-- 4 -->\n      <g transform=\"translate(241.960511 688.316562)scale(0.1 -0.1)\">\n       <use xlink:href=\"#DejaVuSans-52\"/>\n      </g>\n     </g>\n    </g>\n    <g id=\"xtick_12\">\n     <g id=\"line2d_75\">\n      <path clip-path=\"url(#pee12e254d8)\" d=\"M 331.23267 673.718125 \nL 331.23267 376.918125 \n\" style=\"fill:none;stroke:#b0b0b0;stroke-linecap:square;stroke-width:0.8;\"/>\n     </g>\n     <g id=\"line2d_76\">\n      <g>\n       <use style=\"stroke:#000000;stroke-width:0.8;\" x=\"331.23267\" xlink:href=\"#m97b07fd60a\" y=\"673.718125\"/>\n      </g>\n     </g>\n     <g id=\"text_33\">\n      <!-- 6 -->\n      <g transform=\"translate(328.05142 688.316562)scale(0.1 -0.1)\">\n       <use xlink:href=\"#DejaVuSans-54\"/>\n      </g>\n     </g>\n    </g>\n    <g id=\"xtick_13\">\n     <g id=\"line2d_77\">\n      <path clip-path=\"url(#pee12e254d8)\" d=\"M 417.32358 673.718125 \nL 417.32358 376.918125 \n\" style=\"fill:none;stroke:#b0b0b0;stroke-linecap:square;stroke-width:0.8;\"/>\n     </g>\n     <g id=\"line2d_78\">\n      <g>\n       <use style=\"stroke:#000000;stroke-width:0.8;\" x=\"417.32358\" xlink:href=\"#m97b07fd60a\" y=\"673.718125\"/>\n      </g>\n     </g>\n     <g id=\"text_34\">\n      <!-- 8 -->\n      <g transform=\"translate(414.14233 688.316562)scale(0.1 -0.1)\">\n       <use xlink:href=\"#DejaVuSans-56\"/>\n      </g>\n     </g>\n    </g>\n    <g id=\"xtick_14\">\n     <g id=\"line2d_79\">\n      <path clip-path=\"url(#pee12e254d8)\" d=\"M 503.414489 673.718125 \nL 503.414489 376.918125 \n\" style=\"fill:none;stroke:#b0b0b0;stroke-linecap:square;stroke-width:0.8;\"/>\n     </g>\n     <g id=\"line2d_80\">\n      <g>\n       <use style=\"stroke:#000000;stroke-width:0.8;\" x=\"503.414489\" xlink:href=\"#m97b07fd60a\" y=\"673.718125\"/>\n      </g>\n     </g>\n     <g id=\"text_35\">\n      <!-- 10 -->\n      <g transform=\"translate(497.051989 688.316562)scale(0.1 -0.1)\">\n       <use xlink:href=\"#DejaVuSans-49\"/>\n       <use x=\"63.623047\" xlink:href=\"#DejaVuSans-48\"/>\n      </g>\n     </g>\n    </g>\n    <g id=\"xtick_15\">\n     <g id=\"line2d_81\">\n      <path clip-path=\"url(#pee12e254d8)\" d=\"M 589.505398 673.718125 \nL 589.505398 376.918125 \n\" style=\"fill:none;stroke:#b0b0b0;stroke-linecap:square;stroke-width:0.8;\"/>\n     </g>\n     <g id=\"line2d_82\">\n      <g>\n       <use style=\"stroke:#000000;stroke-width:0.8;\" x=\"589.505398\" xlink:href=\"#m97b07fd60a\" y=\"673.718125\"/>\n      </g>\n     </g>\n     <g id=\"text_36\">\n      <!-- 12 -->\n      <g transform=\"translate(583.142898 688.316562)scale(0.1 -0.1)\">\n       <use xlink:href=\"#DejaVuSans-49\"/>\n       <use x=\"63.623047\" xlink:href=\"#DejaVuSans-50\"/>\n      </g>\n     </g>\n    </g>\n    <g id=\"xtick_16\">\n     <g id=\"line2d_83\">\n      <path clip-path=\"url(#pee12e254d8)\" d=\"M 675.596307 673.718125 \nL 675.596307 376.918125 \n\" style=\"fill:none;stroke:#b0b0b0;stroke-linecap:square;stroke-width:0.8;\"/>\n     </g>\n     <g id=\"line2d_84\">\n      <g>\n       <use style=\"stroke:#000000;stroke-width:0.8;\" x=\"675.596307\" xlink:href=\"#m97b07fd60a\" y=\"673.718125\"/>\n      </g>\n     </g>\n     <g id=\"text_37\">\n      <!-- 14 -->\n      <g transform=\"translate(669.233807 688.316562)scale(0.1 -0.1)\">\n       <use xlink:href=\"#DejaVuSans-49\"/>\n       <use x=\"63.623047\" xlink:href=\"#DejaVuSans-52\"/>\n      </g>\n     </g>\n    </g>\n    <g id=\"text_38\">\n     <!-- Epoch -->\n     <g transform=\"translate(358.967187 701.994687)scale(0.1 -0.1)\">\n      <use xlink:href=\"#DejaVuSans-69\"/>\n      <use x=\"63.183594\" xlink:href=\"#DejaVuSans-112\"/>\n      <use x=\"126.660156\" xlink:href=\"#DejaVuSans-111\"/>\n      <use x=\"187.841797\" xlink:href=\"#DejaVuSans-99\"/>\n      <use x=\"242.822266\" xlink:href=\"#DejaVuSans-104\"/>\n     </g>\n    </g>\n   </g>\n   <g id=\"matplotlib.axis_4\">\n    <g id=\"ytick_6\">\n     <g id=\"line2d_85\">\n      <path clip-path=\"url(#pee12e254d8)\" d=\"M 42.828125 667.700257 \nL 705.728125 667.700257 \n\" style=\"fill:none;stroke:#b0b0b0;stroke-linecap:square;stroke-width:0.8;\"/>\n     </g>\n     <g id=\"line2d_86\">\n      <g>\n       <use style=\"stroke:#000000;stroke-width:0.8;\" x=\"42.828125\" xlink:href=\"#mda8f0d9653\" y=\"667.700257\"/>\n      </g>\n     </g>\n     <g id=\"text_39\">\n      <!-- 0.2 -->\n      <g transform=\"translate(19.925 671.499476)scale(0.1 -0.1)\">\n       <use xlink:href=\"#DejaVuSans-48\"/>\n       <use x=\"63.623047\" xlink:href=\"#DejaVuSans-46\"/>\n       <use x=\"95.410156\" xlink:href=\"#DejaVuSans-50\"/>\n      </g>\n     </g>\n    </g>\n    <g id=\"ytick_7\">\n     <g id=\"line2d_87\">\n      <path clip-path=\"url(#pee12e254d8)\" d=\"M 42.828125 618.405792 \nL 705.728125 618.405792 \n\" style=\"fill:none;stroke:#b0b0b0;stroke-linecap:square;stroke-width:0.8;\"/>\n     </g>\n     <g id=\"line2d_88\">\n      <g>\n       <use style=\"stroke:#000000;stroke-width:0.8;\" x=\"42.828125\" xlink:href=\"#mda8f0d9653\" y=\"618.405792\"/>\n      </g>\n     </g>\n     <g id=\"text_40\">\n      <!-- 0.3 -->\n      <g transform=\"translate(19.925 622.205011)scale(0.1 -0.1)\">\n       <use xlink:href=\"#DejaVuSans-48\"/>\n       <use x=\"63.623047\" xlink:href=\"#DejaVuSans-46\"/>\n       <use x=\"95.410156\" xlink:href=\"#DejaVuSans-51\"/>\n      </g>\n     </g>\n    </g>\n    <g id=\"ytick_8\">\n     <g id=\"line2d_89\">\n      <path clip-path=\"url(#pee12e254d8)\" d=\"M 42.828125 569.111327 \nL 705.728125 569.111327 \n\" style=\"fill:none;stroke:#b0b0b0;stroke-linecap:square;stroke-width:0.8;\"/>\n     </g>\n     <g id=\"line2d_90\">\n      <g>\n       <use style=\"stroke:#000000;stroke-width:0.8;\" x=\"42.828125\" xlink:href=\"#mda8f0d9653\" y=\"569.111327\"/>\n      </g>\n     </g>\n     <g id=\"text_41\">\n      <!-- 0.4 -->\n      <g transform=\"translate(19.925 572.910546)scale(0.1 -0.1)\">\n       <use xlink:href=\"#DejaVuSans-48\"/>\n       <use x=\"63.623047\" xlink:href=\"#DejaVuSans-46\"/>\n       <use x=\"95.410156\" xlink:href=\"#DejaVuSans-52\"/>\n      </g>\n     </g>\n    </g>\n    <g id=\"ytick_9\">\n     <g id=\"line2d_91\">\n      <path clip-path=\"url(#pee12e254d8)\" d=\"M 42.828125 519.816863 \nL 705.728125 519.816863 \n\" style=\"fill:none;stroke:#b0b0b0;stroke-linecap:square;stroke-width:0.8;\"/>\n     </g>\n     <g id=\"line2d_92\">\n      <g>\n       <use style=\"stroke:#000000;stroke-width:0.8;\" x=\"42.828125\" xlink:href=\"#mda8f0d9653\" y=\"519.816863\"/>\n      </g>\n     </g>\n     <g id=\"text_42\">\n      <!-- 0.5 -->\n      <g transform=\"translate(19.925 523.616081)scale(0.1 -0.1)\">\n       <use xlink:href=\"#DejaVuSans-48\"/>\n       <use x=\"63.623047\" xlink:href=\"#DejaVuSans-46\"/>\n       <use x=\"95.410156\" xlink:href=\"#DejaVuSans-53\"/>\n      </g>\n     </g>\n    </g>\n    <g id=\"ytick_10\">\n     <g id=\"line2d_93\">\n      <path clip-path=\"url(#pee12e254d8)\" d=\"M 42.828125 470.522398 \nL 705.728125 470.522398 \n\" style=\"fill:none;stroke:#b0b0b0;stroke-linecap:square;stroke-width:0.8;\"/>\n     </g>\n     <g id=\"line2d_94\">\n      <g>\n       <use style=\"stroke:#000000;stroke-width:0.8;\" x=\"42.828125\" xlink:href=\"#mda8f0d9653\" y=\"470.522398\"/>\n      </g>\n     </g>\n     <g id=\"text_43\">\n      <!-- 0.6 -->\n      <g transform=\"translate(19.925 474.321617)scale(0.1 -0.1)\">\n       <use xlink:href=\"#DejaVuSans-48\"/>\n       <use x=\"63.623047\" xlink:href=\"#DejaVuSans-46\"/>\n       <use x=\"95.410156\" xlink:href=\"#DejaVuSans-54\"/>\n      </g>\n     </g>\n    </g>\n    <g id=\"ytick_11\">\n     <g id=\"line2d_95\">\n      <path clip-path=\"url(#pee12e254d8)\" d=\"M 42.828125 421.227933 \nL 705.728125 421.227933 \n\" style=\"fill:none;stroke:#b0b0b0;stroke-linecap:square;stroke-width:0.8;\"/>\n     </g>\n     <g id=\"line2d_96\">\n      <g>\n       <use style=\"stroke:#000000;stroke-width:0.8;\" x=\"42.828125\" xlink:href=\"#mda8f0d9653\" y=\"421.227933\"/>\n      </g>\n     </g>\n     <g id=\"text_44\">\n      <!-- 0.7 -->\n      <defs>\n       <path d=\"M 8.203125 72.90625 \nL 55.078125 72.90625 \nL 55.078125 68.703125 \nL 28.609375 0 \nL 18.3125 0 \nL 43.21875 64.59375 \nL 8.203125 64.59375 \nz\n\" id=\"DejaVuSans-55\"/>\n      </defs>\n      <g transform=\"translate(19.925 425.027152)scale(0.1 -0.1)\">\n       <use xlink:href=\"#DejaVuSans-48\"/>\n       <use x=\"63.623047\" xlink:href=\"#DejaVuSans-46\"/>\n       <use x=\"95.410156\" xlink:href=\"#DejaVuSans-55\"/>\n      </g>\n     </g>\n    </g>\n   </g>\n   <g id=\"line2d_97\">\n    <path clip-path=\"url(#pee12e254d8)\" d=\"M 72.959943 633.785665 \nL 116.005398 596.87397 \nL 159.050852 584.708096 \nL 202.096307 567.474751 \nL 245.141761 558.58203 \nL 288.187216 547.618941 \nL 331.23267 542.531752 \nL 374.278125 529.320836 \nL 417.32358 517.923955 \nL 460.369034 512.324104 \nL 503.414489 496.549875 \nL 546.459943 481.110849 \nL 589.505398 466.815454 \nL 632.550852 445.559681 \nL 675.596307 431.106544 \n\" style=\"fill:none;stroke:#1f77b4;stroke-linecap:square;stroke-width:1.5;\"/>\n   </g>\n   <g id=\"line2d_98\">\n    <path clip-path=\"url(#pee12e254d8)\" d=\"M 72.959943 630.906868 \nL 116.005398 596.34159 \nL 159.050852 588.750242 \nL 202.096307 582.756035 \nL 245.141761 578.142073 \nL 288.187216 575.125252 \nL 331.23267 579.364576 \nL 374.278125 572.976013 \nL 417.32358 572.463351 \nL 460.369034 573.508394 \nL 503.414489 573.705572 \nL 546.459943 578.79276 \nL 589.505398 585.733421 \nL 632.550852 584.234869 \nL 675.596307 586.048905 \n\" style=\"fill:none;stroke:#ff7f0e;stroke-dasharray:5.55,2.4;stroke-dashoffset:0;stroke-width:1.5;\"/>\n   </g>\n   <g id=\"line2d_99\">\n    <path clip-path=\"url(#pee12e254d8)\" d=\"M 72.959943 625.721091 \nL 116.005398 597.504939 \nL 159.050852 578.516711 \nL 202.096307 561.401673 \nL 245.141761 549.472413 \nL 288.187216 535.472785 \nL 331.23267 528.196922 \nL 374.278125 519.639403 \nL 417.32358 496.589311 \nL 460.369034 496.530158 \nL 503.414489 467.998521 \nL 546.459943 445.066737 \nL 589.505398 431.914973 \nL 632.550852 413.873199 \nL 675.596307 390.409034 \n\" style=\"fill:none;stroke:#2ca02c;stroke-linecap:square;stroke-width:1.5;\"/>\n   </g>\n   <g id=\"line2d_100\">\n    <path clip-path=\"url(#pee12e254d8)\" d=\"M 72.959943 648.514851 \nL 116.005398 608.369439 \nL 159.050852 594.152915 \nL 202.096307 586.423543 \nL 245.141761 578.753325 \nL 288.187216 574.928074 \nL 331.23267 574.454847 \nL 374.278125 568.164874 \nL 417.32358 567.356444 \nL 460.369034 569.80145 \nL 503.414489 564.379059 \nL 546.459943 565.739586 \nL 589.505398 565.562126 \nL 632.550852 563.235427 \nL 675.596307 564.931157 \n\" style=\"fill:none;stroke:#d62728;stroke-dasharray:5.55,2.4;stroke-dashoffset:0;stroke-width:1.5;\"/>\n   </g>\n   <g id=\"line2d_101\">\n    <path clip-path=\"url(#pee12e254d8)\" d=\"M 72.959943 650.447194 \nL 116.005398 610.045451 \nL 159.050852 590.445972 \nL 202.096307 580.153287 \nL 245.141761 574.632307 \nL 288.187216 570.669032 \nL 331.23267 561.756593 \nL 374.278125 552.548387 \nL 417.32358 548.052732 \nL 460.369034 543.695101 \nL 503.414489 542.472599 \nL 546.459943 534.97984 \nL 589.505398 531.982737 \nL 632.550852 526.363168 \nL 675.596307 522.143561 \n\" style=\"fill:none;stroke:#9467bd;stroke-linecap:square;stroke-width:1.5;\"/>\n   </g>\n   <g id=\"line2d_102\">\n    <path clip-path=\"url(#pee12e254d8)\" d=\"M 72.959943 648.514851 \nL 116.005398 608.369439 \nL 159.050852 594.152915 \nL 202.096307 586.423543 \nL 245.141761 578.753325 \nL 288.187216 574.928074 \nL 331.23267 574.454847 \nL 374.278125 568.164874 \nL 417.32358 567.356444 \nL 460.369034 569.80145 \nL 503.414489 564.379059 \nL 546.459943 565.739586 \nL 589.505398 565.562126 \nL 632.550852 563.235427 \nL 675.596307 564.931157 \n\" style=\"fill:none;stroke:#8c564b;stroke-dasharray:5.55,2.4;stroke-dashoffset:0;stroke-width:1.5;\"/>\n   </g>\n   <g id=\"line2d_103\">\n    <path clip-path=\"url(#pee12e254d8)\" d=\"M 72.959943 631.419531 \nL 116.005398 593.482511 \nL 159.050852 578.773042 \nL 202.096307 566.133942 \nL 245.141761 553.494841 \nL 288.187216 541.664169 \nL 331.23267 532.672859 \nL 374.278125 523.720984 \nL 417.32358 511.141037 \nL 460.369034 506.132719 \nL 503.414489 483.95021 \nL 546.459943 467.761908 \nL 589.505398 449.286343 \nL 632.550852 431.126262 \nL 675.596307 425.112337 \n\" style=\"fill:none;stroke:#e377c2;stroke-linecap:square;stroke-width:1.5;\"/>\n   </g>\n   <g id=\"line2d_104\">\n    <path clip-path=\"url(#pee12e254d8)\" d=\"M 72.959943 628.560452 \nL 116.005398 595.651467 \nL 159.050852 585.437654 \nL 202.096307 579.719496 \nL 245.141761 571.142259 \nL 288.187216 570.116934 \nL 331.23267 569.170481 \nL 374.278125 569.62399 \nL 417.32358 571.654922 \nL 460.369034 580.232159 \nL 503.414489 580.744821 \nL 546.459943 577.19562 \nL 589.505398 581.060306 \nL 632.550852 584.846121 \nL 675.596307 583.091238 \n\" style=\"fill:none;stroke:#7f7f7f;stroke-dasharray:5.55,2.4;stroke-dashoffset:0;stroke-width:1.5;\"/>\n   </g>\n   <g id=\"line2d_105\">\n    <path clip-path=\"url(#pee12e254d8)\" d=\"M 72.959943 650.171145 \nL 116.005398 599.555589 \nL 159.050852 588.967138 \nL 202.096307 579.423729 \nL 245.141761 567.494469 \nL 288.187216 562.624176 \nL 331.23267 557.339809 \nL 374.278125 548.151321 \nL 417.32358 545.449984 \nL 460.369034 537.91779 \nL 503.414489 530.030676 \nL 546.459943 528.019462 \nL 589.505398 521.788641 \nL 632.550852 520.349243 \nL 675.596307 509.504461 \n\" style=\"fill:none;stroke:#bcbd22;stroke-linecap:square;stroke-width:1.5;\"/>\n   </g>\n   <g id=\"line2d_106\">\n    <path clip-path=\"url(#pee12e254d8)\" d=\"M 72.959943 645.221981 \nL 116.005398 598.727442 \nL 159.050852 590.860045 \nL 202.096307 584.333458 \nL 245.141761 580.429337 \nL 288.187216 579.818085 \nL 331.23267 573.606983 \nL 374.278125 571.457744 \nL 417.32358 566.705758 \nL 460.369034 570.452137 \nL 503.414489 568.638101 \nL 546.459943 568.480358 \nL 589.505398 567.139549 \nL 632.550852 567.198702 \nL 675.596307 569.407094 \n\" style=\"fill:none;stroke:#17becf;stroke-dasharray:5.55,2.4;stroke-dashoffset:0;stroke-width:1.5;\"/>\n   </g>\n   <g id=\"line2d_107\">\n    <path clip-path=\"url(#pee12e254d8)\" d=\"M 72.959943 657.880799 \nL 116.005398 606.515967 \nL 159.050852 585.555961 \nL 202.096307 570.195806 \nL 245.141761 557.655294 \nL 288.187216 547.579505 \nL 331.23267 538.371299 \nL 374.278125 528.610995 \nL 417.32358 514.828263 \nL 460.369034 502.346904 \nL 503.414489 484.107953 \nL 546.459943 468.609773 \nL 589.505398 450.46941 \nL 632.550852 427.695367 \nL 675.596307 406.755079 \n\" style=\"fill:none;stroke:#1f77b4;stroke-linecap:square;stroke-width:1.5;\"/>\n   </g>\n   <g id=\"line2d_108\">\n    <path clip-path=\"url(#pee12e254d8)\" d=\"M 72.959943 660.227216 \nL 116.005398 604.899109 \nL 159.050852 591.155812 \nL 202.096307 583.939102 \nL 245.141761 575.775939 \nL 288.187216 573.784443 \nL 331.23267 570.629597 \nL 374.278125 569.821168 \nL 417.32358 571.635204 \nL 460.369034 574.533719 \nL 503.414489 585.12217 \nL 546.459943 578.102638 \nL 589.505398 584.767249 \nL 632.550852 584.510918 \nL 675.596307 587.468586 \n\" style=\"fill:none;stroke:#ff7f0e;stroke-dasharray:5.55,2.4;stroke-dashoffset:0;stroke-width:1.5;\"/>\n   </g>\n   <g id=\"line2d_109\">\n    <path clip-path=\"url(#pee12e254d8)\" d=\"M 72.959943 649.993685 \nL 116.005398 618.169179 \nL 159.050852 598.609135 \nL 202.096307 591.412143 \nL 245.141761 584.096845 \nL 288.187216 579.029374 \nL 331.23267 575.440737 \nL 374.278125 566.883218 \nL 417.32358 565.069181 \nL 460.369034 558.917232 \nL 503.414489 554.401859 \nL 546.459943 552.942743 \nL 589.505398 547.89499 \nL 632.550852 545.785187 \nL 675.596307 539.61352 \n\" style=\"fill:none;stroke:#2ca02c;stroke-linecap:square;stroke-width:1.5;\"/>\n   </g>\n   <g id=\"line2d_110\">\n    <path clip-path=\"url(#pee12e254d8)\" d=\"M 72.959943 647.844446 \nL 116.005398 617.53821 \nL 159.050852 596.814817 \nL 202.096307 591.333272 \nL 245.141761 586.462979 \nL 288.187216 583.387004 \nL 331.23267 582.401115 \nL 374.278125 578.635018 \nL 417.32358 575.105534 \nL 460.369034 571.871817 \nL 503.414489 570.077499 \nL 546.459943 569.505683 \nL 589.505398 568.618383 \nL 632.550852 571.418308 \nL 675.596307 569.367659 \n\" style=\"fill:none;stroke:#d62728;stroke-dasharray:5.55,2.4;stroke-dashoffset:0;stroke-width:1.5;\"/>\n   </g>\n   <g id=\"patch_9\">\n    <path d=\"M 42.828125 673.718125 \nL 42.828125 376.918125 \n\" style=\"fill:none;stroke:#000000;stroke-linecap:square;stroke-linejoin:miter;stroke-width:0.8;\"/>\n   </g>\n   <g id=\"patch_10\">\n    <path d=\"M 705.728125 673.718125 \nL 705.728125 376.918125 \n\" style=\"fill:none;stroke:#000000;stroke-linecap:square;stroke-linejoin:miter;stroke-width:0.8;\"/>\n   </g>\n   <g id=\"patch_11\">\n    <path d=\"M 42.828125 673.718125 \nL 705.728125 673.718125 \n\" style=\"fill:none;stroke:#000000;stroke-linecap:square;stroke-linejoin:miter;stroke-width:0.8;\"/>\n   </g>\n   <g id=\"patch_12\">\n    <path d=\"M 42.828125 376.918125 \nL 705.728125 376.918125 \n\" style=\"fill:none;stroke:#000000;stroke-linecap:square;stroke-linejoin:miter;stroke-width:0.8;\"/>\n   </g>\n   <g id=\"text_45\">\n    <!-- Accuracy -->\n    <defs>\n     <path d=\"M 34.1875 63.1875 \nL 20.796875 26.90625 \nL 47.609375 26.90625 \nz\nM 28.609375 72.90625 \nL 39.796875 72.90625 \nL 67.578125 0 \nL 57.328125 0 \nL 50.6875 18.703125 \nL 17.828125 18.703125 \nL 11.1875 0 \nL 0.78125 0 \nz\n\" id=\"DejaVuSans-65\"/>\n     <path d=\"M 8.5 21.578125 \nL 8.5 54.6875 \nL 17.484375 54.6875 \nL 17.484375 21.921875 \nQ 17.484375 14.15625 20.5 10.265625 \nQ 23.53125 6.390625 29.59375 6.390625 \nQ 36.859375 6.390625 41.078125 11.03125 \nQ 45.3125 15.671875 45.3125 23.6875 \nL 45.3125 54.6875 \nL 54.296875 54.6875 \nL 54.296875 0 \nL 45.3125 0 \nL 45.3125 8.40625 \nQ 42.046875 3.421875 37.71875 1 \nQ 33.40625 -1.421875 27.6875 -1.421875 \nQ 18.265625 -1.421875 13.375 4.4375 \nQ 8.5 10.296875 8.5 21.578125 \nz\nM 31.109375 56 \nz\n\" id=\"DejaVuSans-117\"/>\n    </defs>\n    <g transform=\"translate(346.884375 370.918125)scale(0.12 -0.12)\">\n     <use xlink:href=\"#DejaVuSans-65\"/>\n     <use x=\"66.658203\" xlink:href=\"#DejaVuSans-99\"/>\n     <use x=\"121.638672\" xlink:href=\"#DejaVuSans-99\"/>\n     <use x=\"176.619141\" xlink:href=\"#DejaVuSans-117\"/>\n     <use x=\"239.998047\" xlink:href=\"#DejaVuSans-114\"/>\n     <use x=\"281.111328\" xlink:href=\"#DejaVuSans-97\"/>\n     <use x=\"342.390625\" xlink:href=\"#DejaVuSans-99\"/>\n     <use x=\"397.371094\" xlink:href=\"#DejaVuSans-121\"/>\n    </g>\n   </g>\n   <g id=\"legend_2\">\n    <g id=\"patch_13\">\n     <path d=\"M 49.828125 590.411875 \nL 173.045313 590.411875 \nQ 175.045313 590.411875 175.045313 588.411875 \nL 175.045313 383.918125 \nQ 175.045313 381.918125 173.045313 381.918125 \nL 49.828125 381.918125 \nQ 47.828125 381.918125 47.828125 383.918125 \nL 47.828125 588.411875 \nQ 47.828125 590.411875 49.828125 590.411875 \nz\n\" style=\"fill:#ffffff;opacity:0.8;stroke:#cccccc;stroke-linejoin:miter;\"/>\n    </g>\n    <g id=\"line2d_111\">\n     <path d=\"M 51.828125 390.016562 \nL 71.828125 390.016562 \n\" style=\"fill:none;stroke:#1f77b4;stroke-linecap:square;stroke-width:1.5;\"/>\n    </g>\n    <g id=\"line2d_112\"/>\n    <g id=\"text_46\">\n     <!-- Base -->\n     <g transform=\"translate(79.828125 393.516562)scale(0.1 -0.1)\">\n      <use xlink:href=\"#DejaVuSans-66\"/>\n      <use x=\"68.603516\" xlink:href=\"#DejaVuSans-97\"/>\n      <use x=\"129.882812\" xlink:href=\"#DejaVuSans-115\"/>\n      <use x=\"181.982422\" xlink:href=\"#DejaVuSans-101\"/>\n     </g>\n    </g>\n    <g id=\"line2d_113\">\n     <path d=\"M 51.828125 404.694687 \nL 71.828125 404.694687 \n\" style=\"fill:none;stroke:#ff7f0e;stroke-dasharray:5.55,2.4;stroke-dashoffset:0;stroke-width:1.5;\"/>\n    </g>\n    <g id=\"line2d_114\"/>\n    <g id=\"text_47\">\n     <!-- Base -->\n     <g transform=\"translate(79.828125 408.194687)scale(0.1 -0.1)\">\n      <use xlink:href=\"#DejaVuSans-66\"/>\n      <use x=\"68.603516\" xlink:href=\"#DejaVuSans-97\"/>\n      <use x=\"129.882812\" xlink:href=\"#DejaVuSans-115\"/>\n      <use x=\"181.982422\" xlink:href=\"#DejaVuSans-101\"/>\n     </g>\n    </g>\n    <g id=\"line2d_115\">\n     <path d=\"M 51.828125 419.372812 \nL 71.828125 419.372812 \n\" style=\"fill:none;stroke:#2ca02c;stroke-linecap:square;stroke-width:1.5;\"/>\n    </g>\n    <g id=\"line2d_116\"/>\n    <g id=\"text_48\">\n     <!-- VarDropCheck -->\n     <g transform=\"translate(79.828125 422.872812)scale(0.1 -0.1)\">\n      <use xlink:href=\"#DejaVuSans-86\"/>\n      <use x=\"60.658203\" xlink:href=\"#DejaVuSans-97\"/>\n      <use x=\"121.9375\" xlink:href=\"#DejaVuSans-114\"/>\n      <use x=\"163.050781\" xlink:href=\"#DejaVuSans-68\"/>\n      <use x=\"240.052734\" xlink:href=\"#DejaVuSans-114\"/>\n      <use x=\"278.916016\" xlink:href=\"#DejaVuSans-111\"/>\n      <use x=\"340.097656\" xlink:href=\"#DejaVuSans-112\"/>\n      <use x=\"403.574219\" xlink:href=\"#DejaVuSans-67\"/>\n      <use x=\"473.398438\" xlink:href=\"#DejaVuSans-104\"/>\n      <use x=\"536.777344\" xlink:href=\"#DejaVuSans-101\"/>\n      <use x=\"598.300781\" xlink:href=\"#DejaVuSans-99\"/>\n      <use x=\"653.28125\" xlink:href=\"#DejaVuSans-107\"/>\n     </g>\n    </g>\n    <g id=\"line2d_117\">\n     <path d=\"M 51.828125 434.050937 \nL 71.828125 434.050937 \n\" style=\"fill:none;stroke:#d62728;stroke-dasharray:5.55,2.4;stroke-dashoffset:0;stroke-width:1.5;\"/>\n    </g>\n    <g id=\"line2d_118\"/>\n    <g id=\"text_49\">\n     <!-- VarDropCheck -->\n     <g transform=\"translate(79.828125 437.550937)scale(0.1 -0.1)\">\n      <use xlink:href=\"#DejaVuSans-86\"/>\n      <use x=\"60.658203\" xlink:href=\"#DejaVuSans-97\"/>\n      <use x=\"121.9375\" xlink:href=\"#DejaVuSans-114\"/>\n      <use x=\"163.050781\" xlink:href=\"#DejaVuSans-68\"/>\n      <use x=\"240.052734\" xlink:href=\"#DejaVuSans-114\"/>\n      <use x=\"278.916016\" xlink:href=\"#DejaVuSans-111\"/>\n      <use x=\"340.097656\" xlink:href=\"#DejaVuSans-112\"/>\n      <use x=\"403.574219\" xlink:href=\"#DejaVuSans-67\"/>\n      <use x=\"473.398438\" xlink:href=\"#DejaVuSans-104\"/>\n      <use x=\"536.777344\" xlink:href=\"#DejaVuSans-101\"/>\n      <use x=\"598.300781\" xlink:href=\"#DejaVuSans-99\"/>\n      <use x=\"653.28125\" xlink:href=\"#DejaVuSans-107\"/>\n     </g>\n    </g>\n    <g id=\"line2d_119\">\n     <path d=\"M 51.828125 448.729062 \nL 71.828125 448.729062 \n\" style=\"fill:none;stroke:#9467bd;stroke-linecap:square;stroke-width:1.5;\"/>\n    </g>\n    <g id=\"line2d_120\"/>\n    <g id=\"text_50\">\n     <!-- VarDrop -->\n     <g transform=\"translate(79.828125 452.229062)scale(0.1 -0.1)\">\n      <use xlink:href=\"#DejaVuSans-86\"/>\n      <use x=\"60.658203\" xlink:href=\"#DejaVuSans-97\"/>\n      <use x=\"121.9375\" xlink:href=\"#DejaVuSans-114\"/>\n      <use x=\"163.050781\" xlink:href=\"#DejaVuSans-68\"/>\n      <use x=\"240.052734\" xlink:href=\"#DejaVuSans-114\"/>\n      <use x=\"278.916016\" xlink:href=\"#DejaVuSans-111\"/>\n      <use x=\"340.097656\" xlink:href=\"#DejaVuSans-112\"/>\n     </g>\n    </g>\n    <g id=\"line2d_121\">\n     <path d=\"M 51.828125 463.407187 \nL 71.828125 463.407187 \n\" style=\"fill:none;stroke:#8c564b;stroke-dasharray:5.55,2.4;stroke-dashoffset:0;stroke-width:1.5;\"/>\n    </g>\n    <g id=\"line2d_122\"/>\n    <g id=\"text_51\">\n     <!-- VarDrop -->\n     <g transform=\"translate(79.828125 466.907187)scale(0.1 -0.1)\">\n      <use xlink:href=\"#DejaVuSans-86\"/>\n      <use x=\"60.658203\" xlink:href=\"#DejaVuSans-97\"/>\n      <use x=\"121.9375\" xlink:href=\"#DejaVuSans-114\"/>\n      <use x=\"163.050781\" xlink:href=\"#DejaVuSans-68\"/>\n      <use x=\"240.052734\" xlink:href=\"#DejaVuSans-114\"/>\n      <use x=\"278.916016\" xlink:href=\"#DejaVuSans-111\"/>\n      <use x=\"340.097656\" xlink:href=\"#DejaVuSans-112\"/>\n     </g>\n    </g>\n    <g id=\"line2d_123\">\n     <path d=\"M 51.828125 478.085312 \nL 71.828125 478.085312 \n\" style=\"fill:none;stroke:#e377c2;stroke-linecap:square;stroke-width:1.5;\"/>\n    </g>\n    <g id=\"line2d_124\"/>\n    <g id=\"text_52\">\n     <!-- FastVarDropCheck -->\n     <g transform=\"translate(79.828125 481.585312)scale(0.1 -0.1)\">\n      <use xlink:href=\"#DejaVuSans-70\"/>\n      <use x=\"48.394531\" xlink:href=\"#DejaVuSans-97\"/>\n      <use x=\"109.673828\" xlink:href=\"#DejaVuSans-115\"/>\n      <use x=\"161.773438\" xlink:href=\"#DejaVuSans-116\"/>\n      <use x=\"200.982422\" xlink:href=\"#DejaVuSans-86\"/>\n      <use x=\"261.640625\" xlink:href=\"#DejaVuSans-97\"/>\n      <use x=\"322.919922\" xlink:href=\"#DejaVuSans-114\"/>\n      <use x=\"364.033203\" xlink:href=\"#DejaVuSans-68\"/>\n      <use x=\"441.035156\" xlink:href=\"#DejaVuSans-114\"/>\n      <use x=\"479.898438\" xlink:href=\"#DejaVuSans-111\"/>\n      <use x=\"541.080078\" xlink:href=\"#DejaVuSans-112\"/>\n      <use x=\"604.556641\" xlink:href=\"#DejaVuSans-67\"/>\n      <use x=\"674.380859\" xlink:href=\"#DejaVuSans-104\"/>\n      <use x=\"737.759766\" xlink:href=\"#DejaVuSans-101\"/>\n      <use x=\"799.283203\" xlink:href=\"#DejaVuSans-99\"/>\n      <use x=\"854.263672\" xlink:href=\"#DejaVuSans-107\"/>\n     </g>\n    </g>\n    <g id=\"line2d_125\">\n     <path d=\"M 51.828125 492.763437 \nL 71.828125 492.763437 \n\" style=\"fill:none;stroke:#7f7f7f;stroke-dasharray:5.55,2.4;stroke-dashoffset:0;stroke-width:1.5;\"/>\n    </g>\n    <g id=\"line2d_126\"/>\n    <g id=\"text_53\">\n     <!-- FastVarDropCheck -->\n     <g transform=\"translate(79.828125 496.263437)scale(0.1 -0.1)\">\n      <use xlink:href=\"#DejaVuSans-70\"/>\n      <use x=\"48.394531\" xlink:href=\"#DejaVuSans-97\"/>\n      <use x=\"109.673828\" xlink:href=\"#DejaVuSans-115\"/>\n      <use x=\"161.773438\" xlink:href=\"#DejaVuSans-116\"/>\n      <use x=\"200.982422\" xlink:href=\"#DejaVuSans-86\"/>\n      <use x=\"261.640625\" xlink:href=\"#DejaVuSans-97\"/>\n      <use x=\"322.919922\" xlink:href=\"#DejaVuSans-114\"/>\n      <use x=\"364.033203\" xlink:href=\"#DejaVuSans-68\"/>\n      <use x=\"441.035156\" xlink:href=\"#DejaVuSans-114\"/>\n      <use x=\"479.898438\" xlink:href=\"#DejaVuSans-111\"/>\n      <use x=\"541.080078\" xlink:href=\"#DejaVuSans-112\"/>\n      <use x=\"604.556641\" xlink:href=\"#DejaVuSans-67\"/>\n      <use x=\"674.380859\" xlink:href=\"#DejaVuSans-104\"/>\n      <use x=\"737.759766\" xlink:href=\"#DejaVuSans-101\"/>\n      <use x=\"799.283203\" xlink:href=\"#DejaVuSans-99\"/>\n      <use x=\"854.263672\" xlink:href=\"#DejaVuSans-107\"/>\n     </g>\n    </g>\n    <g id=\"line2d_127\">\n     <path d=\"M 51.828125 507.441562 \nL 71.828125 507.441562 \n\" style=\"fill:none;stroke:#bcbd22;stroke-linecap:square;stroke-width:1.5;\"/>\n    </g>\n    <g id=\"line2d_128\"/>\n    <g id=\"text_54\">\n     <!-- FastVarDrop -->\n     <g transform=\"translate(79.828125 510.941562)scale(0.1 -0.1)\">\n      <use xlink:href=\"#DejaVuSans-70\"/>\n      <use x=\"48.394531\" xlink:href=\"#DejaVuSans-97\"/>\n      <use x=\"109.673828\" xlink:href=\"#DejaVuSans-115\"/>\n      <use x=\"161.773438\" xlink:href=\"#DejaVuSans-116\"/>\n      <use x=\"200.982422\" xlink:href=\"#DejaVuSans-86\"/>\n      <use x=\"261.640625\" xlink:href=\"#DejaVuSans-97\"/>\n      <use x=\"322.919922\" xlink:href=\"#DejaVuSans-114\"/>\n      <use x=\"364.033203\" xlink:href=\"#DejaVuSans-68\"/>\n      <use x=\"441.035156\" xlink:href=\"#DejaVuSans-114\"/>\n      <use x=\"479.898438\" xlink:href=\"#DejaVuSans-111\"/>\n      <use x=\"541.080078\" xlink:href=\"#DejaVuSans-112\"/>\n     </g>\n    </g>\n    <g id=\"line2d_129\">\n     <path d=\"M 51.828125 522.119687 \nL 71.828125 522.119687 \n\" style=\"fill:none;stroke:#17becf;stroke-dasharray:5.55,2.4;stroke-dashoffset:0;stroke-width:1.5;\"/>\n    </g>\n    <g id=\"line2d_130\"/>\n    <g id=\"text_55\">\n     <!-- FastVarDrop -->\n     <g transform=\"translate(79.828125 525.619687)scale(0.1 -0.1)\">\n      <use xlink:href=\"#DejaVuSans-70\"/>\n      <use x=\"48.394531\" xlink:href=\"#DejaVuSans-97\"/>\n      <use x=\"109.673828\" xlink:href=\"#DejaVuSans-115\"/>\n      <use x=\"161.773438\" xlink:href=\"#DejaVuSans-116\"/>\n      <use x=\"200.982422\" xlink:href=\"#DejaVuSans-86\"/>\n      <use x=\"261.640625\" xlink:href=\"#DejaVuSans-97\"/>\n      <use x=\"322.919922\" xlink:href=\"#DejaVuSans-114\"/>\n      <use x=\"364.033203\" xlink:href=\"#DejaVuSans-68\"/>\n      <use x=\"441.035156\" xlink:href=\"#DejaVuSans-114\"/>\n      <use x=\"479.898438\" xlink:href=\"#DejaVuSans-111\"/>\n      <use x=\"541.080078\" xlink:href=\"#DejaVuSans-112\"/>\n     </g>\n    </g>\n    <g id=\"line2d_131\">\n     <path d=\"M 51.828125 536.797812 \nL 71.828125 536.797812 \n\" style=\"fill:none;stroke:#1f77b4;stroke-linecap:square;stroke-width:1.5;\"/>\n    </g>\n    <g id=\"line2d_132\"/>\n    <g id=\"text_56\">\n     <!-- HandmadeCheck -->\n     <g transform=\"translate(79.828125 540.297812)scale(0.1 -0.1)\">\n      <use xlink:href=\"#DejaVuSans-72\"/>\n      <use x=\"75.195312\" xlink:href=\"#DejaVuSans-97\"/>\n      <use x=\"136.474609\" xlink:href=\"#DejaVuSans-110\"/>\n      <use x=\"199.853516\" xlink:href=\"#DejaVuSans-100\"/>\n      <use x=\"263.330078\" xlink:href=\"#DejaVuSans-109\"/>\n      <use x=\"360.742188\" xlink:href=\"#DejaVuSans-97\"/>\n      <use x=\"422.021484\" xlink:href=\"#DejaVuSans-100\"/>\n      <use x=\"485.498047\" xlink:href=\"#DejaVuSans-101\"/>\n      <use x=\"547.021484\" xlink:href=\"#DejaVuSans-67\"/>\n      <use x=\"616.845703\" xlink:href=\"#DejaVuSans-104\"/>\n      <use x=\"680.224609\" xlink:href=\"#DejaVuSans-101\"/>\n      <use x=\"741.748047\" xlink:href=\"#DejaVuSans-99\"/>\n      <use x=\"796.728516\" xlink:href=\"#DejaVuSans-107\"/>\n     </g>\n    </g>\n    <g id=\"line2d_133\">\n     <path d=\"M 51.828125 551.475937 \nL 71.828125 551.475937 \n\" style=\"fill:none;stroke:#ff7f0e;stroke-dasharray:5.55,2.4;stroke-dashoffset:0;stroke-width:1.5;\"/>\n    </g>\n    <g id=\"line2d_134\"/>\n    <g id=\"text_57\">\n     <!-- HandmadeCheck -->\n     <g transform=\"translate(79.828125 554.975937)scale(0.1 -0.1)\">\n      <use xlink:href=\"#DejaVuSans-72\"/>\n      <use x=\"75.195312\" xlink:href=\"#DejaVuSans-97\"/>\n      <use x=\"136.474609\" xlink:href=\"#DejaVuSans-110\"/>\n      <use x=\"199.853516\" xlink:href=\"#DejaVuSans-100\"/>\n      <use x=\"263.330078\" xlink:href=\"#DejaVuSans-109\"/>\n      <use x=\"360.742188\" xlink:href=\"#DejaVuSans-97\"/>\n      <use x=\"422.021484\" xlink:href=\"#DejaVuSans-100\"/>\n      <use x=\"485.498047\" xlink:href=\"#DejaVuSans-101\"/>\n      <use x=\"547.021484\" xlink:href=\"#DejaVuSans-67\"/>\n      <use x=\"616.845703\" xlink:href=\"#DejaVuSans-104\"/>\n      <use x=\"680.224609\" xlink:href=\"#DejaVuSans-101\"/>\n      <use x=\"741.748047\" xlink:href=\"#DejaVuSans-99\"/>\n      <use x=\"796.728516\" xlink:href=\"#DejaVuSans-107\"/>\n     </g>\n    </g>\n    <g id=\"line2d_135\">\n     <path d=\"M 51.828125 566.154062 \nL 71.828125 566.154062 \n\" style=\"fill:none;stroke:#2ca02c;stroke-linecap:square;stroke-width:1.5;\"/>\n    </g>\n    <g id=\"line2d_136\"/>\n    <g id=\"text_58\">\n     <!-- Handmade -->\n     <g transform=\"translate(79.828125 569.654062)scale(0.1 -0.1)\">\n      <use xlink:href=\"#DejaVuSans-72\"/>\n      <use x=\"75.195312\" xlink:href=\"#DejaVuSans-97\"/>\n      <use x=\"136.474609\" xlink:href=\"#DejaVuSans-110\"/>\n      <use x=\"199.853516\" xlink:href=\"#DejaVuSans-100\"/>\n      <use x=\"263.330078\" xlink:href=\"#DejaVuSans-109\"/>\n      <use x=\"360.742188\" xlink:href=\"#DejaVuSans-97\"/>\n      <use x=\"422.021484\" xlink:href=\"#DejaVuSans-100\"/>\n      <use x=\"485.498047\" xlink:href=\"#DejaVuSans-101\"/>\n     </g>\n    </g>\n    <g id=\"line2d_137\">\n     <path d=\"M 51.828125 580.832187 \nL 71.828125 580.832187 \n\" style=\"fill:none;stroke:#d62728;stroke-dasharray:5.55,2.4;stroke-dashoffset:0;stroke-width:1.5;\"/>\n    </g>\n    <g id=\"line2d_138\"/>\n    <g id=\"text_59\">\n     <!-- Handmade -->\n     <g transform=\"translate(79.828125 584.332187)scale(0.1 -0.1)\">\n      <use xlink:href=\"#DejaVuSans-72\"/>\n      <use x=\"75.195312\" xlink:href=\"#DejaVuSans-97\"/>\n      <use x=\"136.474609\" xlink:href=\"#DejaVuSans-110\"/>\n      <use x=\"199.853516\" xlink:href=\"#DejaVuSans-100\"/>\n      <use x=\"263.330078\" xlink:href=\"#DejaVuSans-109\"/>\n      <use x=\"360.742188\" xlink:href=\"#DejaVuSans-97\"/>\n      <use x=\"422.021484\" xlink:href=\"#DejaVuSans-100\"/>\n      <use x=\"485.498047\" xlink:href=\"#DejaVuSans-101\"/>\n     </g>\n    </g>\n   </g>\n  </g>\n </g>\n <defs>\n  <clipPath id=\"pa304f8d111\">\n   <rect height=\"296.8\" width=\"662.9\" x=\"42.828125\" y=\"22.318125\"/>\n  </clipPath>\n  <clipPath id=\"pee12e254d8\">\n   <rect height=\"296.8\" width=\"662.9\" x=\"42.828125\" y=\"376.918125\"/>\n  </clipPath>\n </defs>\n</svg>\n"
          },
          "metadata": {
            "tags": [],
            "needs_background": "light"
          }
        }
      ]
    },
    {
      "cell_type": "markdown",
      "metadata": {
        "id": "LI0TMqCMvNpy"
      },
      "source": [
        "Сделайте итоговые выводы о качестве работы моделей с разными реализациями DropOut:"
      ]
    },
    {
      "cell_type": "markdown",
      "metadata": {
        "id": "abygcn1EvNpz"
      },
      "source": [
        "**Ответ:** Лучше всего себя показывает VarDrop, HandmadeCheck, Base и FastDropCheck, кажется, переобучаются."
      ]
    },
    {
      "cell_type": "markdown",
      "metadata": {
        "collapsed": true,
        "id": "RDlqYEpYvNpz"
      },
      "source": [
        "## Бонус. Zoneout (2 балла)"
      ]
    },
    {
      "cell_type": "markdown",
      "metadata": {
        "collapsed": true,
        "id": "FGK6WWAhvNp0"
      },
      "source": [
        "Это еще одна модификация идеи дропаута применительно к рекуррентным нейросетям. В Zoneout на каждом временном шаге с вероятностью p компонента скрытого состояния обновляется, а с вероятностью 1-p берется с предыдущего шага. \n",
        "В Виде формул (m^t_h - бинарная маска):\n",
        " \n",
        "(сначала обычный рекуррентный переход, например LSTM)\n",
        "$$\n",
        "i = \\sigma(h_{t-1}W^i + x_t U^i+b_i) \\quad\n",
        "o = \\sigma(h_{t-1}W^o + x_t U^o+b_o) \n",
        "$$\n",
        "$$\n",
        "f = \\sigma(h_{t-1}W^f + x_t U^f+b_f) \\quad \n",
        "g = tanh(h_{t-1} W^g + x_t U^g+b_g) \n",
        "$$\n",
        "$$\n",
        "c_t = f \\odot c_{t-1} +  i \\odot  g \\quad\n",
        "h_t =  o \\odot tanh(c_t) \\nonumber\n",
        "$$\n",
        "Затем Zoneout:\n",
        "$$\n",
        "h_t = h_t * m_h^t + h_{t-1}*(1-m_h^t)\n",
        "$$\n",
        "В этом методе маска уже должна быть разная во все моменты времени (иначе метод упрощается до дропаута Гала и Гарамани). На входы $x_t$ вновь можно накладывать маску до начала работы рекуррентного слоя.  \n",
        "\n",
        "Если у вас осталось время, вы можете реализовать этот метод. Выберите основу из трех рассмотренных случаев самостоятельно."
      ]
    },
    {
      "cell_type": "markdown",
      "metadata": {
        "ExecuteTime": {
          "end_time": "2021-03-31T16:05:00.702763Z",
          "start_time": "2021-03-31T16:05:00.674835Z"
        },
        "id": "XtUAsFGvvNp1"
      },
      "source": [
        "# Часть 2. Language Modeling с помощью LSTM. (3 балла)"
      ]
    },
    {
      "cell_type": "markdown",
      "metadata": {
        "id": "WQwnI3lDvNp3"
      },
      "source": [
        "Во второй части мы попробуем обучить модель для генерации отзывов по их началу."
      ]
    },
    {
      "cell_type": "markdown",
      "metadata": {
        "id": "Q1isgHakvNp4"
      },
      "source": [
        "Концептуально модель будет выглядеть следующим образом:\n",
        "    \n",
        "![image info](https://blog.feedly.com/wp-content/uploads/2019/03/Screen-Shot-2019-03-06-at-12.08.35-PM.png)"
      ]
    },
    {
      "cell_type": "markdown",
      "metadata": {
        "id": "FO89N43CvNp4"
      },
      "source": [
        "В процессе обучения будем тренировать сеть предсказывать вероятность следующего символа при условии всех предыдущих. Эту вероятность можно моделировать с помощью скрытого состояния $h^{(t)}$ пропуская его через линейный слой с выходной размерностью равной размерности словаря:\n",
        "$$\n",
        "p(x^{t}|x^{t-1}, ..., x^{1}) = SoftMax(Linear(h^{(t)}))\n",
        "$$"
      ]
    },
    {
      "cell_type": "markdown",
      "metadata": {
        "id": "OykYvYHRvNp5"
      },
      "source": [
        "Обратите внимание, что для вычисления $p(x^{t}|x^{t-1}, ..., x^{1})$ для всех моментов времени достаточно сделать один проход по RNN, а затем применить линейное преобразование ко всем скрытым состояниям."
      ]
    },
    {
      "cell_type": "markdown",
      "metadata": {
        "ExecuteTime": {
          "end_time": "2021-04-02T00:37:56.100520Z",
          "start_time": "2021-04-02T00:37:56.072747Z"
        },
        "id": "1Yr25JjAvNp5"
      },
      "source": [
        "В качестве функции потерь необходимо использовать `CrossEntropy`."
      ]
    },
    {
      "cell_type": "markdown",
      "metadata": {
        "id": "9ZN8-rq9vNp5"
      },
      "source": [
        "Рассмотрим другой важный момент. Для того, чтобы решить данную задачу, модель должна уметь определять момент начала генерации предложения и оповещать о завершении генерации -- конце предложения. Для этого добавим в словарь вспомогательные токены `<sos>`, `<eos>`. Добавив `<sos>` в начало каждого предложения и `<eos>` в конец.\n",
        "\n",
        "Модель сможет начинать генерацию как только ей будет передан токен `<sos>` и заканчивать генерацию, как только на очередном месте самым вероятным токеном оказывается `<eos>`."
      ]
    },
    {
      "cell_type": "markdown",
      "metadata": {
        "id": "sth2VS7WvNp5"
      },
      "source": [
        "Для решения этой задачи мы воспользуемся уже реализованной LSTM с дропаутом `FastRNNLayer` и классом `RNNClassifier`, то есть архитектура сети принципиально не поменяется. "
      ]
    },
    {
      "cell_type": "markdown",
      "metadata": {
        "id": "xB3hIIlIvNp6"
      },
      "source": [
        "## Реализация модели и цикла обучения (1 балл)"
      ]
    },
    {
      "cell_type": "markdown",
      "metadata": {
        "id": "xCaBHm-vvNp6"
      },
      "source": [
        "**Не используйте циклы в `RNNLM`, `LMCrossEntropyLoss`, `LMAccuracy`**"
      ]
    },
    {
      "cell_type": "code",
      "metadata": {
        "ExecuteTime": {
          "end_time": "2021-04-02T02:07:02.815198Z",
          "start_time": "2021-04-02T02:07:02.787445Z"
        },
        "id": "XIP88RwLvNp6"
      },
      "source": [
        "class RNNLM(RNNClassifier):\n",
        "    def __init__(\n",
        "        self, embedding_dim, hidden_dim, vocab, dropout=0.5, layers_dropout=0.5, num_layers=1\n",
        "    ):\n",
        "        super().__init__(\n",
        "            embedding_dim=embedding_dim, hidden_dim=hidden_dim, output_size=len(vocab), vocab=vocab,\n",
        "            rec_layer=FastRNNLayer, dropout=dropout, layers_dropout=layers_dropout, num_layers=num_layers\n",
        "        )\n",
        "\n",
        "    def forward(self, tokens, tokens_lens):\n",
        "        \"\"\"\n",
        "        :param torch.tensor(dtype=torch.long) tokens: Batch of texts represented with tokens. Shape: [T, B]\n",
        "        :param torch.tensor(dtype=torch.long) tokens_lens: Number of non-padding tokens for each object in batch. Shape: [B]\n",
        "        :return torch.tensor: Distribution of next token for each time step. Shape: [T, B, V], V -- size of vocabulary\n",
        "        \"\"\"\n",
        "        # Make embeddings for all tokens\n",
        "        embeddings = self.word_embeddings(tokens)\n",
        "\n",
        "        # Forward pass embeddings through network\n",
        "        rnn_output, hidden = self.rnn(embeddings)\n",
        "\n",
        "        # Take all hidden states from the last layer of LSTM for each step and perform linear transformation\n",
        "        return self.output(rnn_output)\n"
      ],
      "execution_count": 398,
      "outputs": []
    },
    {
      "cell_type": "markdown",
      "metadata": {
        "id": "Rlk77-1LvNp7"
      },
      "source": [
        "Реализуем функцию потерь для данной задачи. \n",
        "\n",
        "Моменты на которые нужно обратить внимание:\n",
        "1. Распределение вероятности следующего токена для последнего токена в последовательности не участвует в подсчёте функции потерь.\n",
        "2. Необходимо учитывать, что в одном батче могут быть тексты разной длины."
      ]
    },
    {
      "cell_type": "markdown",
      "metadata": {
        "id": "efHx2iQ3vNp7"
      },
      "source": [
        "Для решения второй проблемы можно воспользоваться функцией `torch.nn.utils.rnn.pack_padded_sequence`. \n",
        "\n",
        "Принимая на вход батч тензоров и длину каждого тензора без учёта паддинга эта функция позволяет получить все элементы в тензорах, которые не относятся к паддингу в виде плоского массива:"
      ]
    },
    {
      "cell_type": "code",
      "metadata": {
        "ExecuteTime": {
          "end_time": "2021-04-02T00:54:40.004897Z",
          "start_time": "2021-04-02T00:54:39.977287Z"
        },
        "id": "YENWmmVXvNp8"
      },
      "source": [
        "padded_tensors = torch.tensor([\n",
        "    [[1, 11, 111], [2, 22, 222], [3, 33, 333]],\n",
        "    [[4, 44, 444], [5, 55, 555], [6, 66, 666]],\n",
        "    [[7, 77, 777], [0, 0, 0], [8, 88, 888]],\n",
        "    [[9, 99, 999], [0, 0, 0], [0, 0, 0]]\n",
        "])\n",
        "tensors_lens = torch.tensor([4, 2, 3])"
      ],
      "execution_count": null,
      "outputs": []
    },
    {
      "cell_type": "markdown",
      "metadata": {
        "id": "sAeqiy2XvNp8"
      },
      "source": [
        "Обратите внимание, что `torch.nn.utils.rnn.pack_padded_sequence` автоматически переупорядочивает тензоры в батче по убыванию их длины."
      ]
    },
    {
      "cell_type": "code",
      "metadata": {
        "ExecuteTime": {
          "end_time": "2021-04-02T00:54:24.517023Z",
          "start_time": "2021-04-02T00:54:24.490588Z"
        },
        "id": "6O8soIbYvNp8",
        "colab": {
          "base_uri": "https://localhost:8080/"
        },
        "outputId": "cc2dd017-7efd-4bf3-e52e-76bb4d7dbe5b"
      },
      "source": [
        "torch.nn.utils.rnn.pack_padded_sequence(padded_tensors, tensors_lens, batch_first=False, enforce_sorted=False)"
      ],
      "execution_count": null,
      "outputs": [
        {
          "output_type": "execute_result",
          "data": {
            "text/plain": [
              "PackedSequence(data=tensor([[  1,  11, 111],\n",
              "        [  3,  33, 333],\n",
              "        [  2,  22, 222],\n",
              "        [  4,  44, 444],\n",
              "        [  6,  66, 666],\n",
              "        [  5,  55, 555],\n",
              "        [  7,  77, 777],\n",
              "        [  8,  88, 888],\n",
              "        [  9,  99, 999]]), batch_sizes=tensor([3, 3, 2, 1]), sorted_indices=tensor([0, 2, 1]), unsorted_indices=tensor([0, 2, 1]))"
            ]
          },
          "metadata": {
            "tags": []
          },
          "execution_count": 233
        }
      ]
    },
    {
      "cell_type": "code",
      "metadata": {
        "ExecuteTime": {
          "end_time": "2021-04-02T02:07:06.289671Z",
          "start_time": "2021-04-02T02:07:06.262883Z"
        },
        "id": "I7BetJ2mvNqA"
      },
      "source": [
        "class LMCrossEntropyLoss(torch.nn.CrossEntropyLoss):\n",
        "    def __init__(self, *args, **kwargs):\n",
        "        super().__init__(*args, **kwargs)\n",
        "        \n",
        "    def forward(self, outputs, tokens, tokens_lens):\n",
        "        \"\"\"\n",
        "        :param torch.tensor outputs: Output from RNNLM.forward. Shape: [T, B, V]\n",
        "        :param torch.tensor tokens: Batch of tokens. Shape: [T, B]\n",
        "        :param torch.tensor tokens_lens: Length of each sequence in batch\n",
        "        :return torch.tensor: CrossEntropyLoss between corresponding logits and tokens\n",
        "        \"\"\"\n",
        "        # Use torch.nn.utils.rnn.pack_padded_sequence().data to remove padding and flatten logits and tokens\n",
        "        # Do not forget specify enforce_sorted=False and correct value of batch_first \n",
        "        outputs = outputs[:-1, :, :].cuda()\n",
        "        tokens = tokens[1:, :].cuda()\n",
        "\n",
        "        packed_outputs = torch.nn.utils.rnn.pack_padded_sequence(outputs, \n",
        "                                                                 tokens_lens.cpu()-1, \n",
        "                                                                 batch_first=False, \n",
        "                                                                 enforce_sorted=False).data\n",
        "        packed_tokens = torch.nn.utils.rnn.pack_padded_sequence(tokens, \n",
        "                                                                tokens_lens.cpu()-1, \n",
        "                                                                batch_first=False, \n",
        "                                                                enforce_sorted=False).data\n",
        "        \n",
        "        # Use super().forward(..., ...) to compute CrossEntropyLoss\n",
        "        return super().forward(packed_outputs.cuda().float(), packed_tokens.cuda().long())"
      ],
      "execution_count": 384,
      "outputs": []
    },
    {
      "cell_type": "markdown",
      "metadata": {
        "id": "Pfhsbb9IvNqB"
      },
      "source": [
        "Для оценки качества нам также необходимо вычислять долю правильно предсказанных токенов. Реализуйте класс для вычисления точности."
      ]
    },
    {
      "cell_type": "code",
      "metadata": {
        "ExecuteTime": {
          "end_time": "2021-04-02T02:07:07.335981Z",
          "start_time": "2021-04-02T02:07:07.309586Z"
        },
        "id": "LA3MXq-8vNqB"
      },
      "source": [
        "class LMAccuracy(torch.nn.Module):\n",
        "    def __init__(self):\n",
        "        super().__init__()\n",
        "\n",
        "    def forward(self, outputs, tokens, tokens_lens):\n",
        "        \"\"\"\n",
        "        :param torch.tensor outputs: Output from RNNLM.forward. Shape: [T, B, V]\n",
        "        :param torch.tensor tokens: Batch of tokens. Shape: [T, B]\n",
        "        :param torch.tensor tokens_lens: Length of each sequence in batch\n",
        "        :return torch.tensor: Accuracy for given logits and tokens\n",
        "        \"\"\"\n",
        "        # Use torch.nn.utils.rnn.pack_padded_sequence().data to remove padding and flatten logits and tokens\n",
        "        # Do not forget specify enforce_sorted=False and correct value of batch_first \n",
        "        outputs = outputs[:-1, :, :].cuda()\n",
        "        tokens = tokens[1:, :].cuda()\n",
        "\n",
        "        packed_outputs = torch.nn.utils.rnn.pack_padded_sequence(outputs, \n",
        "                                                                 tokens_lens.cpu()-1, \n",
        "                                                                 batch_first=False, \n",
        "                                                                 enforce_sorted=False).data\n",
        "        packed_tokens = torch.nn.utils.rnn.pack_padded_sequence(tokens, \n",
        "                                                                tokens_lens.cpu()-1, \n",
        "                                                                batch_first=False, \n",
        "                                                                enforce_sorted=False).data\n",
        "\n",
        "        return (packed_outputs.argmax(1).cuda() == packed_tokens.cuda()).float().sum()\n"
      ],
      "execution_count": 385,
      "outputs": []
    },
    {
      "cell_type": "markdown",
      "metadata": {
        "id": "SZ3bF4QUvNqF"
      },
      "source": [
        "Модифицируйте функции `train_epoch`, `evaluate`, `train` для обучения LM.\n",
        "\n",
        "**При вычислении точности, обратите внимание на то, что мы не предсказываем первый токен в каждой последовательности и токены, относящиеся к паддингу.**"
      ]
    },
    {
      "cell_type": "code",
      "metadata": {
        "ExecuteTime": {
          "end_time": "2021-04-02T02:07:31.492984Z",
          "start_time": "2021-04-02T02:07:31.459655Z"
        },
        "id": "rvRQd0Y8vNqG"
      },
      "source": [
        "def train_epoch_lm(dataloader, model, loss_fn, optimizer, device):\n",
        "    model.train()\n",
        "    for idx, data in enumerate(dataloader):\n",
        "        # 1. Take data from batch\n",
        "        # 2. Perform forward pass\n",
        "        # 3. Evaluate loss\n",
        "        # 4. Make optimizer step\n",
        "        tokens, tokens_lens = data['tokens'].to(device), data['tokens_lens'].to(device)\n",
        "        optimizer.zero_grad()\n",
        "        outputs = model(tokens, tokens_lens)\n",
        "        loss = loss_fn(outputs.float(), tokens.long(), tokens_lens.long())\n",
        "        loss.backward()\n",
        "        optimizer.step()\n",
        "    \n",
        "def evaluate_lm(dataloader, model, loss_fn, device):\n",
        "    model.eval()\n",
        "    \n",
        "    total_tokens = 0\n",
        "    total_loss = 0.0\n",
        "    total_accuracy = 0.0\n",
        "    \n",
        "    accuracy_fn = LMAccuracy()\n",
        "    with torch.no_grad():\n",
        "        for idx, data in enumerate(dataloader):\n",
        "            # 1. Take data from batch\n",
        "            # 2. Perform forward pass\n",
        "            # 3. Evaluate loss\n",
        "            # 4. Evaluate accuracy\n",
        "            tokens, tokens_lens = data['tokens'].to(device), data['tokens_lens'].to(device)\n",
        "            outputs = model(tokens, tokens_lens).to('cpu')\n",
        "\n",
        "            total_loss += loss_fn(outputs.float(), tokens.long(), tokens_lens.long())\n",
        "            total_accuracy += accuracy_fn(outputs.float(), tokens.long(), tokens_lens.long())\n",
        "            total_tokens += torch.sum(tokens_lens - 1)\n",
        "\n",
        "    return total_loss / total_tokens, total_accuracy / total_tokens\n",
        "\n",
        "def train_lm(\n",
        "    train_loader, test_loader, model, loss_fn, optimizer, device, num_epochs\n",
        "):\n",
        "    test_losses = []\n",
        "    train_losses = []\n",
        "    test_accuracies = []\n",
        "    train_accuracies = []\n",
        "    for epoch in range(num_epochs):\n",
        "        train_epoch_lm(train_loader, model, loss_fn, optimizer, device)\n",
        "        \n",
        "        train_loss, train_acc = evaluate_lm(train_loader, model, loss_fn, device)\n",
        "        train_accuracies.append(train_acc)\n",
        "        train_losses.append(train_loss)\n",
        "        \n",
        "        test_loss, test_acc = evaluate_lm(test_loader, model, loss_fn, device)\n",
        "        test_accuracies.append(test_acc)\n",
        "        test_losses.append(test_loss)\n",
        "        \n",
        "        print(\n",
        "            'Epoch: {0:d}/{1:d}. Loss (Train/Test): {2:.3f}/{3:.3f}. Accuracy (Train/Test): {4:.3f}/{5:.3f}'.format(\n",
        "                epoch + 1, num_epochs, train_losses[-1], test_losses[-1], train_accuracies[-1], test_accuracies[-1]\n",
        "            )\n",
        "        )\n",
        "    return train_losses, train_accuracies, test_losses, test_accuracies"
      ],
      "execution_count": 390,
      "outputs": []
    },
    {
      "cell_type": "markdown",
      "metadata": {
        "id": "dlPBwOZ8vNqJ"
      },
      "source": [
        "Теперь у нас всё готово для обучения модели."
      ]
    },
    {
      "cell_type": "markdown",
      "metadata": {
        "ExecuteTime": {
          "end_time": "2021-04-02T01:06:12.736180Z",
          "start_time": "2021-04-02T01:06:12.708814Z"
        },
        "id": "Okp2oj2ivNqK"
      },
      "source": [
        "Создадим словарь с `<sos>`, `<eos>` токенами.\n",
        "\n",
        "Обратите внимание, что в отличие от классификации текстов нам необходимо значительно увеличить размер словаря, чтобы доля `<unk>` токенов была не велика.\n",
        "\n",
        "Так же, так как задача генерации значительно сложнее задачи классификации текстов будем обучать модель только на префиксах рецензий длины $20$. Это позволяет значительно ускорить обучение."
      ]
    },
    {
      "cell_type": "code",
      "metadata": {
        "ExecuteTime": {
          "end_time": "2021-04-02T00:06:20.093645Z",
          "start_time": "2021-04-02T00:06:19.926668Z"
        },
        "id": "t3FzZ_3mvNqK"
      },
      "source": [
        "specials = ['<pad>', '<unk>', '<sos>', '<eos>']\n",
        "for special in specials:\n",
        "    counter[special] = 0\n",
        "lm_vocab = torchtext.vocab.Vocab(counter, specials=specials, specials_first=True, max_size=30000)"
      ],
      "execution_count": null,
      "outputs": []
    },
    {
      "cell_type": "code",
      "metadata": {
        "ExecuteTime": {
          "end_time": "2021-04-02T00:06:58.566893Z",
          "start_time": "2021-04-02T00:06:21.430692Z"
        },
        "id": "Rzr7ls5ivNqK"
      },
      "source": [
        "lm_test_dataset = LargeMovieReviewDataset(test_data_path, lm_vocab, max_len=20, pad_sos=True, pad_eos=True)\n",
        "lm_train_dataset = LargeMovieReviewDataset(train_data_path, lm_vocab, max_len=20, pad_sos=True, pad_eos=True)"
      ],
      "execution_count": null,
      "outputs": []
    },
    {
      "cell_type": "markdown",
      "metadata": {
        "id": "aNjpoAyCvNqK"
      },
      "source": [
        "Создадим даталоадеры для тестовой и обучающей выборок:"
      ]
    },
    {
      "cell_type": "code",
      "metadata": {
        "ExecuteTime": {
          "end_time": "2021-04-02T12:29:16.213723Z",
          "start_time": "2021-04-02T12:29:16.186954Z"
        },
        "id": "d0g4yQBNvNqL"
      },
      "source": [
        "lm_test_dataloader = DataLoader(\n",
        "    lm_test_dataset, batch_size=96, shuffle=False, num_workers=2, \n",
        "    collate_fn=partial(collate_fn, padding_value=lm_vocab.lookup_indices(['<pad>'])[0])\n",
        ")\n",
        "lm_train_dataloader = DataLoader(\n",
        "    lm_train_dataset, batch_size=96, shuffle=True, num_workers=2, \n",
        "    collate_fn=partial(collate_fn, padding_value=lm_vocab.lookup_indices(['<pad>'])[0])\n",
        ")"
      ],
      "execution_count": null,
      "outputs": []
    },
    {
      "cell_type": "markdown",
      "metadata": {
        "id": "n1EbGvgzvNqL"
      },
      "source": [
        "Убедитесь, что все предложения имеют в начале `<sos>` токен, а в конце -- `<eos>` токен."
      ]
    },
    {
      "cell_type": "code",
      "metadata": {
        "colab": {
          "base_uri": "https://localhost:8080/"
        },
        "id": "GJs4Z0S0v2F_",
        "outputId": "cd13d05b-7f4f-48be-e4cf-92d8124cce74"
      },
      "source": [
        "batch = next(iter(lm_train_dataloader))\n",
        "batch['tokens'], batch['tokens_lens']"
      ],
      "execution_count": null,
      "outputs": [
        {
          "output_type": "execute_result",
          "data": {
            "text/plain": [
              "(tensor([[    2,     2,     2,  ...,     2,     2,     2],\n",
              "         [ 1209,     5,    22,  ...,   248,   107,  1725],\n",
              "         [ 4956,  1239, 12354,  ...,   333,   278,     5],\n",
              "         ...,\n",
              "         [22575, 29770,  2634,  ...,  3515,    72,   623],\n",
              "         [18457,  6220,   116,  ...,   872,     7,   374],\n",
              "         [    3,     3,     3,  ...,     3,     3,     3]]),\n",
              " tensor([22, 22, 22, 22, 22, 22, 22, 22, 22, 22, 22, 22, 22, 22, 22, 22, 22, 22,\n",
              "         22, 22, 22, 22, 22, 22, 22, 22, 22, 22, 22, 22, 22, 22, 22, 22, 22, 22,\n",
              "         22, 22, 22, 22, 21, 22, 22, 22, 22, 22, 22, 22, 22, 22, 22, 22, 22, 22,\n",
              "         22, 22, 22, 22, 22, 22, 22, 22, 22, 22, 22, 22, 22, 22, 22, 22, 22, 22,\n",
              "         22, 22, 22, 22, 22, 22, 22, 22, 22, 22, 22, 22, 22, 22, 22, 22, 22, 22,\n",
              "         22, 22, 22, 22, 22, 22]))"
            ]
          },
          "metadata": {
            "tags": []
          },
          "execution_count": 259
        }
      ]
    },
    {
      "cell_type": "markdown",
      "metadata": {
        "id": "sGYsBk3tvNqL"
      },
      "source": [
        "Создадим модель, функцию потерь и оптимизатор: "
      ]
    },
    {
      "cell_type": "code",
      "metadata": {
        "ExecuteTime": {
          "end_time": "2021-04-02T14:15:32.916424Z",
          "start_time": "2021-04-02T14:15:32.525452Z"
        },
        "id": "rs1p9OzsvNqM"
      },
      "source": [
        "lm_model = RNNLM(\n",
        "    embedding_dim=512, hidden_dim=512, vocab=lm_vocab, dropout=0.6, layers_dropout=0.6, num_layers=2\n",
        ").to(device=device)"
      ],
      "execution_count": 406,
      "outputs": []
    },
    {
      "cell_type": "code",
      "metadata": {
        "ExecuteTime": {
          "end_time": "2021-04-02T14:15:33.332806Z",
          "start_time": "2021-04-02T14:15:33.307749Z"
        },
        "id": "OFFu1tWuvNqM"
      },
      "source": [
        "lm_loss_fn = LMCrossEntropyLoss(reduction='sum')\n",
        "lm_optimizer = torch.optim.Adam(lm_model.parameters(), lr=0.005, weight_decay=1.2e-6)"
      ],
      "execution_count": 407,
      "outputs": []
    },
    {
      "cell_type": "markdown",
      "metadata": {
        "id": "xEzwjSeVvNqN"
      },
      "source": [
        "Обучим модель:"
      ]
    },
    {
      "cell_type": "code",
      "metadata": {
        "colab": {
          "base_uri": "https://localhost:8080/"
        },
        "id": "A8XbQdTQwbz5",
        "outputId": "16a5e127-9e9c-4364-d159-e3ba39985247"
      },
      "source": [
        "lm_train_losses, lm_train_accuracies, lm_test_losses, lm_test_accuracies = train_lm(\n",
        "    lm_train_dataloader, lm_test_dataloader, lm_model, lm_loss_fn, lm_optimizer, device, 10\n",
        ")"
      ],
      "execution_count": 408,
      "outputs": [
        {
          "output_type": "stream",
          "text": [
            "Epoch: 1/10. Loss (Train/Test): 7.379/7.575. Accuracy (Train/Test): 0.092/0.092\n",
            "Epoch: 2/10. Loss (Train/Test): 7.172/7.506. Accuracy (Train/Test): 0.091/0.090\n",
            "Epoch: 3/10. Loss (Train/Test): 7.084/7.560. Accuracy (Train/Test): 0.068/0.066\n",
            "Epoch: 4/10. Loss (Train/Test): 6.918/7.559. Accuracy (Train/Test): 0.074/0.070\n",
            "Epoch: 5/10. Loss (Train/Test): 6.719/7.514. Accuracy (Train/Test): 0.096/0.092\n",
            "Epoch: 6/10. Loss (Train/Test): 6.566/7.543. Accuracy (Train/Test): 0.097/0.092\n",
            "Epoch: 7/10. Loss (Train/Test): 6.447/7.604. Accuracy (Train/Test): 0.093/0.086\n",
            "Epoch: 8/10. Loss (Train/Test): 6.190/7.579. Accuracy (Train/Test): 0.117/0.107\n",
            "Epoch: 9/10. Loss (Train/Test): 6.115/7.702. Accuracy (Train/Test): 0.108/0.096\n",
            "Epoch: 10/10. Loss (Train/Test): 5.925/7.740. Accuracy (Train/Test): 0.120/0.103\n"
          ],
          "name": "stdout"
        }
      ]
    },
    {
      "cell_type": "markdown",
      "metadata": {
        "id": "BD-X8OdFvNqO"
      },
      "source": [
        "## Реализация декодера. (2 балла)"
      ]
    },
    {
      "cell_type": "markdown",
      "metadata": {
        "id": "KxmHAzYWvNqO"
      },
      "source": [
        "Теперь, реализуем последнюю деталь -- декодирование с использованием обученной модели.\n",
        "Есть несколько вариантов. Рассмотрим два самых простых:\n",
        "1. **Жадное декодирование.** На каждом шаге мы выбираем токен с максимальной вероятностью и используем его для обновления скрытого состояния RNN.\n",
        "2. **Top-k sampling.** На очередном шаге рассматриваются $k$ токенов с самыми большими вероятностями. Остальные токены игнорируются. Из выбранных токенов семплируется следующий токен пропорционально их вероятностям.\n",
        "\n",
        "Прочитать подробнее про разные варианты декодирования можно по ссылкам:\n",
        "1. [От huggingface](https://huggingface.co/blog/how-to-generate)\n",
        "2. [На towardsdatascience](https://towardsdatascience.com/decoding-strategies-that-you-need-to-know-for-response-generation-ba95ee0faadc)"
      ]
    },
    {
      "cell_type": "markdown",
      "metadata": {
        "id": "MObzuTPAvNqO"
      },
      "source": [
        "Существенным в процессе декодирования является критерий останова. Как только очередной самый вероятный символ оказался `<eos>`, то данная последовательность считается сгенерированной. Однако, может так оказаться, что `<eos>` никогда не будет выбран, тогда необходимо прекратить генерацию, как только длина последовательности перейдёт порог `max_generated_len`."
      ]
    },
    {
      "cell_type": "code",
      "metadata": {
        "ExecuteTime": {
          "end_time": "2021-04-02T14:28:21.578336Z",
          "start_time": "2021-04-02T14:28:21.547183Z"
        },
        "id": "NGda8yvYvNqP"
      },
      "source": [
        "def decode(model, start_tokens, start_tokens_lens, max_generated_len=20, top_k=None):\n",
        "    \"\"\"\n",
        "    :param RNNLM model: Model\n",
        "    :param torch.tensor start_tokens: Batch of seed tokens. Shape: [T, B]\n",
        "    :param torch.tensor start_tokens_lens: Length of each sequence in batch. Shape: [B]\n",
        "    :return Tuple[torch.tensor, torch.tensor]. Newly predicted tokens and length of generated part. Shape [T*, B], [B]\n",
        "    \"\"\"\n",
        "    # Get embedding for start_tokens\n",
        "    # YOUR CODE HERE\n",
        "    embedding = model.word_embeddings(start_tokens)\n",
        "\n",
        "    # Pass embedding through rnn and collect hidden states and cell states for each time moment\n",
        "    all_h, all_c = [], []\n",
        "    h = embedding.new_zeros([model.rnn.num_layers, start_tokens.shape[1], model.hidden_dim])\n",
        "    c = embedding.new_zeros([model.rnn.num_layers, start_tokens.shape[1], model.hidden_dim])\n",
        "    for time_step in range(start_tokens.shape[0]):\n",
        "        output, (h, c) = model.rnn(torch.unsqueeze(embedding[time_step], dim=0), (h, c))\n",
        "        all_h.append(h)\n",
        "        all_c.append(c)\n",
        "\n",
        "    all_h = torch.stack(all_h, dim=1)\n",
        "    all_c = torch.stack(all_c, dim=1)\n",
        "    # Take final hidden state and cell state for each start sequence in batch\n",
        "    # We will use them as h_0, c_0 for generation new tokens\n",
        "    h = all_h[:, start_tokens_lens - 1, torch.arange(start_tokens_lens.shape[0])]\n",
        "    c = all_c[:, start_tokens_lens - 1, torch.arange(start_tokens_lens.shape[0])]\n",
        "\n",
        "    # List of predicted tokens for each time step\n",
        "    predicted_tokens = []\n",
        "    # Length of generated part for each object in the batch\n",
        "    decoded_lens = torch.zeros_like(start_tokens_lens, dtype=torch.long)\n",
        "    # Boolean mask where we store if the sequence has already generated\n",
        "    # i.e. `<eos>` was selected on any step\n",
        "    is_finished_decoding = torch.zeros_like(start_tokens_lens, dtype=torch.bool)\n",
        "\n",
        "    # Stop when all sequences in the batch are finished\n",
        "    while not torch.all(is_finished_decoding) and torch.max(decoded_lens) < max_generated_len:\n",
        "        # Evaluate next token distribution using hidden state h.\n",
        "        # Note. Over first dimension h has hidden states for each layer of LSTM.\n",
        "        #     We must use hidden state from the last layer\n",
        "        # YOUR CODE HERE\n",
        "        logits = torch.nn.Softmax(dim=1)(model.output(h[-1]))\n",
        "\n",
        "        if top_k is not None:\n",
        "            # Top-k sampling. Use only top-k most probable logits to sample next token\n",
        "            indices_to_remove = logits < torch.topk(logits, top_k)[0][..., -1, None]\n",
        "            # Mask non top-k logits\n",
        "            logits[indices_to_remove] = 0\n",
        "            # Sample next_token. \n",
        "            # YOUR CODE HERE\n",
        "            next_token = torch.multinomial(logits, 1).reshape(-1)\n",
        "        else:\n",
        "            # Select most probable token\n",
        "            # YOUR CODE HERE\n",
        "            next_token = torch.argmax(logits, dim=1).reshape(-1)\n",
        "\n",
        "        predicted_tokens.append(next_token)\n",
        "\n",
        "        decoded_lens += (~is_finished_decoding)\n",
        "        is_finished_decoding |= (next_token == torch.tensor(model.vocab.lookup_indices(['<eos>'])[0]))\n",
        "\n",
        "        # Evaluate embedding for next token\n",
        "        embedding += model.word_embeddings(next_token)\n",
        "\n",
        "        # Update hidden and cell states\n",
        "        output, (h, c) = model.rnn(embedding, (h, c))\n",
        "\n",
        "    return torch.stack(predicted_tokens), decoded_lens"
      ],
      "execution_count": 421,
      "outputs": []
    },
    {
      "cell_type": "markdown",
      "metadata": {
        "ExecuteTime": {
          "end_time": "2021-04-02T01:38:06.232189Z",
          "start_time": "2021-04-02T01:38:06.205413Z"
        },
        "id": "PDvagKO0vNqP"
      },
      "source": [
        "Попробуем сгенерировать продолжения для нескольких префиксов:"
      ]
    },
    {
      "cell_type": "code",
      "metadata": {
        "ExecuteTime": {
          "end_time": "2021-04-02T14:28:22.568613Z",
          "start_time": "2021-04-02T14:28:22.545810Z"
        },
        "id": "mfYe9M97vNqP"
      },
      "source": [
        "start_tokens = torch.tensor([\n",
        "    lm_model.vocab.lookup_indices(['<sos>', '<pad>', '<pad>', '<pad>']),\n",
        "    lm_model.vocab.lookup_indices(['<sos>', 'my', 'favorite', 'movie']),\n",
        "    lm_model.vocab.lookup_indices(['<sos>', 'the', 'best', 'movie']),\n",
        "    lm_model.vocab.lookup_indices(['<sos>', 'the', 'worst', 'movie']),\n",
        "]).T\n",
        "\n",
        "start_tokens_lens = torch.tensor([1, 4, 4, 4])"
      ],
      "execution_count": 415,
      "outputs": []
    },
    {
      "cell_type": "code",
      "metadata": {
        "ExecuteTime": {
          "end_time": "2021-04-02T14:28:28.222137Z",
          "start_time": "2021-04-02T14:28:27.930196Z"
        },
        "id": "vvWFFJIMvNqQ"
      },
      "source": [
        "lm_model = lm_model.cpu()\n",
        "lm_model.eval()"
      ],
      "execution_count": 411,
      "outputs": []
    },
    {
      "cell_type": "code",
      "metadata": {
        "id": "O7KvWOH7G6_A"
      },
      "source": [
        "decoded_tokens, decoded_lens = decode(lm_model, start_tokens, start_tokens_lens, max_generated_len=20, top_k=5)"
      ],
      "execution_count": 422,
      "outputs": []
    },
    {
      "cell_type": "code",
      "metadata": {
        "ExecuteTime": {
          "end_time": "2021-04-02T14:28:28.751380Z",
          "start_time": "2021-04-02T14:28:28.708461Z"
        },
        "id": "5A5uM6ZvvNqR",
        "colab": {
          "base_uri": "https://localhost:8080/"
        },
        "outputId": "f1f0b95e-b51d-4ca6-b52d-9d70410f3da1"
      },
      "source": [
        "for text_idx in range(start_tokens.shape[1]):\n",
        "    decoded_text_tokens = decoded_tokens[:decoded_lens[text_idx], text_idx]\n",
        "    tokens = start_tokens[:start_tokens_lens[text_idx], text_idx].tolist() + decoded_text_tokens.tolist()\n",
        "    words = np.array(lm_model.vocab.itos)[np.array(tokens)]\n",
        "    print(' '.join(words))"
      ],
      "execution_count": 424,
      "outputs": [
        {
          "output_type": "stream",
          "text": [
            "<sos> movie bad bad bad bad movies bad bad bad bad bad bad bad bad <eos>\n",
            "<sos> <unk> favorite movie ive seen seen years years seen seen recently seen last <unk> times years years never watched found seen years never\n",
            "<sos> <unk> best movie ever seen ever seen watched like years last seen years watched movie movie like movie years looked like liked looked\n",
            "<sos> <unk> worst movie ive ever seen seen seen seen times years movie never seen watched say seen dont seen movie dont say watched\n"
          ],
          "name": "stdout"
        }
      ]
    },
    {
      "cell_type": "markdown",
      "metadata": {
        "id": "NXTazSeUvNqR"
      },
      "source": [
        "Попробуйте выполнить семплирование для разных $k$. Сравните результаты top-k семплирования с жадным декодированием. Опишите ваши наблюдения."
      ]
    },
    {
      "cell_type": "code",
      "metadata": {
        "ExecuteTime": {
          "end_time": "2021-04-02T17:06:36.404126Z",
          "start_time": "2021-04-02T17:06:36.399654Z"
        },
        "id": "nfvURHr4vNqS",
        "colab": {
          "base_uri": "https://localhost:8080/"
        },
        "outputId": "b11de12d-1354-49fb-9010-e91e9b2ad926"
      },
      "source": [
        "lm_model = lm_model.cpu()\n",
        "lm_model.eval()\n",
        "decoded_tokens, decoded_lens = decode(lm_model, start_tokens, start_tokens_lens, max_generated_len=20, top_k=None)\n",
        "\n",
        "for text_idx in range(start_tokens.shape[1]):\n",
        "    decoded_text_tokens = decoded_tokens[:decoded_lens[text_idx], text_idx]\n",
        "    tokens = start_tokens[:start_tokens_lens[text_idx], text_idx].tolist() + decoded_text_tokens.tolist()\n",
        "    words = np.array(lm_model.vocab.itos)[np.array(tokens)]\n",
        "    print(' '.join(words))"
      ],
      "execution_count": 425,
      "outputs": [
        {
          "output_type": "stream",
          "text": [
            "<sos> movie bad bad bad bad bad bad bad bad bad bad bad bad bad bad bad bad <eos>\n",
            "<sos> <unk> favorite movie <unk> <unk> <unk> <unk> <unk> <unk> <unk> <unk> <unk> <unk> <unk> <unk> <unk> <unk> <unk> <unk> <unk> <unk> <unk> <unk>\n",
            "<sos> <unk> best movie ever seen seen years years seen seen years ago <unk> years ago ago still still still watched say <eos>\n",
            "<sos> <unk> worst movie ever seen ever seen seen movie like movie like <unk> <unk> movie <unk> <unk> movie <unk> <unk> <unk> <unk> <unk>\n"
          ],
          "name": "stdout"
        }
      ]
    },
    {
      "cell_type": "code",
      "metadata": {
        "colab": {
          "base_uri": "https://localhost:8080/"
        },
        "id": "KdsJFXtDB_fy",
        "outputId": "ea484e61-0477-49bb-d6dd-46b71c7aafa6"
      },
      "source": [
        "lm_model = lm_model.cpu()\n",
        "lm_model.eval()\n",
        "decoded_tokens, decoded_lens = decode(lm_model, start_tokens, start_tokens_lens, max_generated_len=20, top_k=5)\n",
        "\n",
        "for text_idx in range(start_tokens.shape[1]):\n",
        "    decoded_text_tokens = decoded_tokens[:decoded_lens[text_idx], text_idx]\n",
        "    tokens = start_tokens[:start_tokens_lens[text_idx], text_idx].tolist() + decoded_text_tokens.tolist()\n",
        "    words = np.array(lm_model.vocab.itos)[np.array(tokens)]\n",
        "    print(' '.join(words))"
      ],
      "execution_count": 426,
      "outputs": [
        {
          "output_type": "stream",
          "text": [
            "<sos> <unk> movie <unk> <unk> <unk> <unk> <unk> <unk> <unk> <unk> <unk> <eos>\n",
            "<sos> <unk> favorite movie <unk> <unk> <unk> acting <unk> <unk> <unk> <unk> <unk> <unk> <unk> <unk> <unk> <unk> <unk> <unk> <eos>\n",
            "<sos> <unk> best movie ever seen ever seen watched movie <unk> years <unk> last seen years years watched <unk> still still <eos>\n",
            "<sos> <unk> worst movie ever seen seen movie like years like movie didnt <unk> bad didnt like bad like <eos>\n"
          ],
          "name": "stdout"
        }
      ]
    },
    {
      "cell_type": "code",
      "metadata": {
        "colab": {
          "base_uri": "https://localhost:8080/"
        },
        "id": "M7hLzyylB_p5",
        "outputId": "e7f803ee-9fc7-48fe-c697-4d5aeb88193e"
      },
      "source": [
        "lm_model = lm_model.cpu()\n",
        "lm_model.eval()\n",
        "decoded_tokens, decoded_lens = decode(lm_model, start_tokens, start_tokens_lens, max_generated_len=20, top_k=10)\n",
        "\n",
        "for text_idx in range(start_tokens.shape[1]):\n",
        "    decoded_text_tokens = decoded_tokens[:decoded_lens[text_idx], text_idx]\n",
        "    tokens = start_tokens[:start_tokens_lens[text_idx], text_idx].tolist() + decoded_text_tokens.tolist()\n",
        "    words = np.array(lm_model.vocab.itos)[np.array(tokens)]\n",
        "    print(' '.join(words))"
      ],
      "execution_count": 427,
      "outputs": [
        {
          "output_type": "stream",
          "text": [
            "<sos> movie awful awful good good plot effects bad bad acting bad movie acting bad script <eos>\n",
            "<sos> <unk> favorite movie great great movie fun acting good <unk> good acting writing <eos>\n",
            "<sos> <unk> best movie ever seen seen years last time <unk> years saw still remember remember bought watching cable <unk> <eos>\n",
            "<sos> <unk> worst movie ever seen ever seen seen years found seeing first dvd movie watched film many <unk> movie <eos>\n"
          ],
          "name": "stdout"
        }
      ]
    },
    {
      "cell_type": "code",
      "metadata": {
        "colab": {
          "base_uri": "https://localhost:8080/"
        },
        "id": "QK4-cFAGB_xg",
        "outputId": "f01d9ea2-308a-41ae-d185-18e026a8dde6"
      },
      "source": [
        "lm_model = lm_model.cpu()\n",
        "lm_model.eval()\n",
        "decoded_tokens, decoded_lens = decode(lm_model, start_tokens, start_tokens_lens, max_generated_len=20, top_k=50)\n",
        "\n",
        "for text_idx in range(start_tokens.shape[1]):\n",
        "    decoded_text_tokens = decoded_tokens[:decoded_lens[text_idx], text_idx]\n",
        "    tokens = start_tokens[:start_tokens_lens[text_idx], text_idx].tolist() + decoded_text_tokens.tolist()\n",
        "    words = np.array(lm_model.vocab.itos)[np.array(tokens)]\n",
        "    print(' '.join(words))"
      ],
      "execution_count": 429,
      "outputs": [
        {
          "output_type": "stream",
          "text": [
            "<sos> im amazed afraid sorry confess know <unk> felt know say say liked good would movie really didnt disappointed enjoying enjoyed\n",
            "<sos> <unk> favorite movie watch interesting expecting one great movie isnt good movie corny special <eos>\n",
            "<sos> <unk> best movie seen ive seen years seen times life movie far felt every liked liked ive movie watched dont watching watched didnt\n",
            "<sos> <unk> worst movie seen time ever seen ive seen even intrigued seen seeing times didnt movie didnt say give <unk> looked think thought\n"
          ],
          "name": "stdout"
        }
      ]
    },
    {
      "cell_type": "markdown",
      "metadata": {
        "id": "1JtFjbufvNqT"
      },
      "source": [
        "**Ответ:** С повышением значения top_k предложения становятся более осмысленными, в них встречается больше слов. Если выбирать только самое вероятное слово, в предложении становится много повторений. В общем, увеличение top_k приводит к улучшению результата."
      ]
    },
    {
      "cell_type": "markdown",
      "metadata": {
        "ExecuteTime": {
          "end_time": "2021-04-02T15:04:51.678260Z",
          "start_time": "2021-04-02T15:04:51.673587Z"
        },
        "id": "AzNgm8M4vNqT"
      },
      "source": [
        "## Бонус. Cущественное улучшение качества. (до 3 баллов)"
      ]
    },
    {
      "cell_type": "markdown",
      "metadata": {
        "id": "RLCekZy7vNqU"
      },
      "source": [
        "Та модель, которая использовалась в предыдущей части во многом заимствует улучшения LSTM из статьи [Regularizing and Optimizing LSTM Language Models](https://arxiv.org/pdf/1708.02182.pdf). Вы можете попробовать применить другие варианты регуляризации из данной статьи для существенного улучшения качества LM.\n",
        "\n",
        "Например:\n",
        "1. Dropout для эмбеддингов\n",
        "2. Dropout входов и выходов RNN\n",
        "3. Регуляризация активаций (AR/TAR)\n",
        "4. NT-ASGD\n",
        "5. Tied веса эмбеддингов и софтмакса"
      ]
    }
  ]
}